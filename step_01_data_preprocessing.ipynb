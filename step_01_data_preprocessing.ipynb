{
 "cells": [
  {
   "cell_type": "code",
   "execution_count": 90,
   "metadata": {},
   "outputs": [],
   "source": [
    "import numpy as np\n",
    "import pandas as pd\n",
    "import nltk.data\n",
    "import csv\n",
    "from tqdm import tqdm\n",
    "import pickle\n",
    "import re\n",
    "import matplotlib.pyplot as plt\n",
    "import random\n",
    "random.seed(0)\n",
    "sent_detector = nltk.data.load('tokenizers/punkt/english.pickle')"
   ]
  },
  {
   "cell_type": "code",
   "execution_count": 81,
   "metadata": {},
   "outputs": [
    {
     "name": "stdout",
     "output_type": "stream",
     "text": [
      "Data size: 507871 \n",
      "['Solid buy signal', 'I know this person has to be in this subreddit', 'TOMORROW 🚀🚀🚀 CONFIRMED', '#LONG LIVE THE MEME 🚀🚀🚀', 'THE GOD HAS SPOKEN! 🚀🌌🚀🌌']\n",
      "['You know when you were little and you broke a lamp and your mom put you in timeout? The govt does a similar thing to people who are irresponsible with money except instead of timeout you get to spend some time in club fed. ', 'rEcEsSiOn', \"If you believe the official Chinese GDP numbers you're a bigger moron than he is.\", 'How’s club fed compare to club penguin', 'Weak hands bro', 'Why do you need a book when your already an expert?', 'If it goes bankrupt?', 'Which of you fucking retards bought gold for the Auto Moderator for today’s Daily Discussion? Just why?', 'Dead cat bounce: Day 14', \"I don't fucking understand how a dovish FED is a bullish signal... it's literally a sign of a weakening economy...\"]\n"
     ]
    }
   ],
   "source": [
    "# LOAD DATA (WILL TAKE FEW SEC)\n",
    "def read_csv(file_name):\n",
    "    file_path = './' + file_name + '/' + file_name + '.csv'\n",
    "    df = pd.read_csv(file_path, usecols = ['text'], encoding='utf-8-sig')\n",
    "    test_list = list(df.text)\n",
    "    return test_list\n",
    "\n",
    "data_list = read_csv('submissions')\n",
    "data_list = data_list + read_csv('comments')\n",
    "print('Data size: %d ' % len(data_list))\n",
    "print(data_list[:5])\n",
    "print(data_list[-10:])"
   ]
  },
  {
   "cell_type": "code",
   "execution_count": 82,
   "metadata": {},
   "outputs": [
    {
     "name": "stdout",
     "output_type": "stream",
     "text": [
      "Example of a long sentences:\n",
      "We know you love Chewy.  We know you're here.  We know you know the Chewy-RyanCohen-GameStop connection, but it wasn't real enough for you yet.  Well, I don't have to tell you, because you're not stupid, but I will anyway:  it's gotten really real enough for you now.  The Chewy executive triumvirate joining the GameStop board of directors is your signal, friend.  You may start pumping GME to your boomer audience.  Now.  I don't believe reddit has been too kind to you in the past, but worry not, follow through with this and you'll have lots of friends here and we'll have your back forever.  Well, definitely not forever, but at least for a while.  What better time to start than today?  With love, brother.\n",
      "\n",
      "P.S. - don't be afraid to use the rocket 🚀, it feels good.\n"
     ]
    }
   ],
   "source": [
    "print('Example of a long sentences:')\n",
    "print(data_list[12])"
   ]
  },
  {
   "cell_type": "code",
   "execution_count": 83,
   "metadata": {},
   "outputs": [
    {
     "name": "stderr",
     "output_type": "stream",
     "text": [
      "100%|████████████████████████████████████████████████████████████████████████| 507871/507871 [1:25:59<00:00, 98.44it/s]"
     ]
    },
    {
     "name": "stdout",
     "output_type": "stream",
     "text": [
      "Data size: 967968 \n"
     ]
    },
    {
     "name": "stderr",
     "output_type": "stream",
     "text": [
      "\n"
     ]
    }
   ],
   "source": [
    "# WARNING! THIS CELL TAKE A LONG TIME TO RUN\n",
    "# The data we have is a list of sentences. Sometime it have only 1 sentence, sometime it have more than one sentences.\n",
    "# Idealy, I used sentence tokenizer to split it into 1 sentence\n",
    "# The problem is, sentence tokenizer only take a string, so we can only do it for each item in our list:\n",
    "# It will take sometime to run (AT LEAST 15 MINS)\n",
    "sentences = []\n",
    "\n",
    "for item in tqdm(data_list):\n",
    "    temp = sent_detector.tokenize(item)\n",
    "    sentences = sentences + temp\n",
    "\n",
    "print('Data size: %d ' % len(sentences))"
   ]
  },
  {
   "cell_type": "code",
   "execution_count": 8,
   "metadata": {},
   "outputs": [
    {
     "name": "stdout",
     "output_type": "stream",
     "text": [
      "['We know you love Chewy.', \"We know you're here.\", \"We know you know the Chewy-RyanCohen-GameStop connection, but it wasn't real enough for you yet.\", \"Well, I don't have to tell you, because you're not stupid, but I will anyway:  it's gotten really real enough for you now.\", 'The Chewy executive triumvirate joining the GameStop board of directors is your signal, friend.', 'You may start pumping GME to your boomer audience.', 'Now.', \"I don't believe reddit has been too kind to you in the past, but worry not, follow through with this and you'll have lots of friends here and we'll have your back forever.\", 'Well, definitely not forever, but at least for a while.', 'What better time to start than today?', 'With love, brother.', 'P.S.', \"- don't be afraid to use the rocket 🚀, it feels good.\"]\n"
     ]
    }
   ],
   "source": [
    "print(sentences[22:35])"
   ]
  },
  {
   "cell_type": "code",
   "execution_count": 10,
   "metadata": {},
   "outputs": [],
   "source": [
    "# Save result:\n",
    "#with open(\"data.txt\", \"wb\") as fp:   #Pickling\n",
    "#    pickle.dump(sentences, fp)"
   ]
  },
  {
   "cell_type": "markdown",
   "metadata": {},
   "source": [
    "## 1 Preprocessing data"
   ]
  },
  {
   "cell_type": "code",
   "execution_count": 77,
   "metadata": {},
   "outputs": [],
   "source": [
    "clean_sentences = []\n",
    "words_count = []\n",
    "sentence_length = []\n",
    "for text in sentences:    \n",
    "    \n",
    "    # The sentences have a few \\n inside them. We need to clear '\\n' with another step:\n",
    "    text = text.replace('\\n', ' ') # we MUST replace them with a white space \n",
    "    \n",
    "    # Replace 1 or more white space (\\s+) with only one white space\n",
    "    text = re.sub(r'\\s+', ' ', text)\n",
    "    \n",
    "    # Lower case\n",
    "    text = text.lower()\n",
    "    \n",
    "    text = re.sub(r'\\*\\*.*week\\)', '', text) #remove tagging (** xxxx week))    \n",
    "    text = re.sub(r'\\[(.*?)\\]\\(.*?\\)', '', text) #remove reddit link\n",
    "    text = re.sub(r'\\S*https?:\\S*' ,'', text) #remove reddit preview link\n",
    "    text = re.sub(r'\\^navigate \\^wsb|.*keep wsb great.', '', text) #remove recommend thread\n",
    "    text = re.sub(r'your daily trading discussion thread.', '', text) #remove discussion thread\n",
    "    text = re.sub(r'what are your moves tomorrow\\S*', '', text) #remove discussion thread\n",
    "    \n",
    "    \n",
    "    # Replace 1 or more white space (\\s+) with only one white space\n",
    "    # Do this also after finish cleaning\n",
    "    text = re.sub(r'\\s+', ' ', text)\n",
    "    \n",
    "    #Count word (count number of space)\n",
    "    word_count = len(re.findall(r' ', text))+1\n",
    "    words_count.append(word_count)\n",
    "    \n",
    "    #sentence length\n",
    "    sentence_length.append(len(text))\n",
    "    \n",
    "    # We choose the cut-off at 15 due to the sentence_length histogram result\n",
    "    if len(text)>=15:\n",
    "        clean_sentences.append(text)"
   ]
  },
  {
   "cell_type": "code",
   "execution_count": 79,
   "metadata": {},
   "outputs": [
    {
     "name": "stdout",
     "output_type": "stream",
     "text": [
      "['solid buy signal', 'i know this person has to be in this subreddit', 'tomorrow 🚀🚀🚀 confirmed', '#long live the meme 🚀🚀🚀', 'the god has spoken!', 'exclusive interview with wsb redditor', 'you people are creating autists.', 'gme yolo update — jan 11 2021', 'ok jim cramer, you may now start pumping gme', 'join the movement 🚀 - latest update on cnbc', \"hi i'm okay, just looking for some sweet karma\", 'to preface this story, i am a licensed, fee-only advisor in the usa.', 'i manage roughly $26mm.', 'i was speaking to a client this morning and he asked if i would have a conversation with his 15 year old son and answer some questions for him and point him in the right direction in terms of his finances.', \"he has apparently got a little lucky on $tsla lately and made some good money for a 15 year old, (i'm assuming he is using his parents' outside account).\", 'as soon as i got on the phone with him, i noticed an air of superiority.', 'after discussing his \"investment strategy\" with him for a moment he started to tell me he knows more about investing than i ever will.', 'keep in mind he says he has been \"investing\" for 2 months.', 'then he hit me with this quote, which i will never forget in my entire life: \"long term investments are for pussies.', 'i dont want to drive a ferrari when i\\'m 60 if i could when i\\'m 16\" you people are creating an entire generation of autists.', 'we know you love chewy.', \"we know you're here.\", \"we know you know the chewy-ryancohen-gamestop connection, but it wasn't real enough for you yet.\", \"well, i don't have to tell you, because you're not stupid, but i will anyway: it's gotten really real enough for you now.\", 'the chewy executive triumvirate joining the gamestop board of directors is your signal, friend.', 'you may start pumping gme to your boomer audience.', \"i don't believe reddit has been too kind to you in the past, but worry not, follow through with this and you'll have lots of friends here and we'll have your back forever.\", 'well, definitely not forever, but at least for a while.', 'what better time to start than today?', 'with love, brother.']\n",
      "851344\n"
     ]
    }
   ],
   "source": [
    "print(clean_sentences[:30])\n",
    "print(len(clean_sentences))"
   ]
  },
  {
   "cell_type": "code",
   "execution_count": 80,
   "metadata": {},
   "outputs": [],
   "source": [
    "# Save result:\n",
    "#with open(\"clean_data.txt\", \"wb\") as fp:   #Pickling\n",
    "#    pickle.dump(clean_sentences, fp)"
   ]
  },
  {
   "cell_type": "code",
   "execution_count": 88,
   "metadata": {},
   "outputs": [],
   "source": [
    "# Load result:\n",
    "with open(\"clean_data.txt\", \"rb\") as fp:   # Unpickling\n",
    "    clean_sentences = pickle.load(fp)"
   ]
  },
  {
   "cell_type": "code",
   "execution_count": 57,
   "metadata": {},
   "outputs": [
    {
     "data": {
      "image/png": "[encoded data removed]",
      "text/plain": [
       "<Figure size 1152x576 with 1 Axes>"
      ]
     },
     "metadata": {
      "needs_background": "light"
     },
     "output_type": "display_data"
    }
   ],
   "source": [
    "plt.figure(figsize=(16,8))\n",
    "plt.hist(words_count, bins = 40, range=(1,40))\n",
    "plt.xlabel(\"Word count\")\n",
    "plt.ylabel(\"Frequency\")\n",
    "#plt.savefig(\"word_count.png\")\n",
    "plt.show()"
   ]
  },
  {
   "cell_type": "code",
   "execution_count": 72,
   "metadata": {},
   "outputs": [
    {
     "data": {
      "image/png": "[encoded data removed]",
      "text/plain": [
       "<Figure size 1152x576 with 1 Axes>"
      ]
     },
     "metadata": {
      "needs_background": "light"
     },
     "output_type": "display_data"
    }
   ],
   "source": [
    "plt.figure(figsize=(16,8))\n",
    "plt.hist(sentence_length, bins = 100, range=(1,100))\n",
    "plt.xlabel(\"Sentence length\")\n",
    "plt.ylabel(\"Frequency\")\n",
    "#plt.savefig(\"Sentence_length.png\")\n",
    "plt.show()"
   ]
  },
  {
   "cell_type": "code",
   "execution_count": 91,
   "metadata": {},
   "outputs": [],
   "source": [
    "sample = random.choices(clean_sentences, k=20000)\n",
    "sample_2x = random.choices(clean_sentences, k=40000)\n",
    "sample_4x = random.choices(clean_sentences, k=80000)\n",
    "sample_8x = random.choices(clean_sentences, k=160000)"
   ]
  },
  {
   "cell_type": "code",
   "execution_count": 83,
   "metadata": {},
   "outputs": [
    {
     "name": "stdout",
     "output_type": "stream",
     "text": [
      "['you think dr. pp doesn’t fuck?', 'definitely not as good as this fake market pump would like you to believe.', 'uso to the moon', 'japan should have been the warning, not the roadmap.', \"the higher or lower the amount you set, the riskier the play, but it's usually cheaper than buying safer choices.\", 'you just made me buy 100k of tsla at $4000.', 'high skill maneuvering made me go from -40% to -20%😎😎', 's&amp;p 500 is down -19.06% from its all time intraday high of 3393.52, reached 2/19.', 'man i’m 21 and i just want to make enough in the stock market so that i can give back to my parents and help them finally retire', 'girl from tinder came over to have some sexy time while the wife was away.', 'a fast casual restaurant (like a poke place) is doing ducking amazingly if it is doing $1 million a year in revenue.', 'who decided to have children between 1980-1995?', ' **“we are not a pump and dump scheme”** sounds like something a pump and dump would say.', 'then he got perma banned afterwards haha.', 'and i choose rich every fucking time.', '**don’t make a permanent decision over a temporary situation.', '🌎^(bears lmfaoo) \\u200d \\u200d \\u200d \\u200d \\u200d \\u200d \\u200d \\u200d \\u200d \\u200d , \\\\* .', 'pretty funny that the sec is literally posting tslaq memes.', 'always inverse retards', 'maybe an unpopular opinion here, but i wish that corona never happened 😕', 'edit: holy fuck they cost $10000 per contract', 'people here joke about being retards and shit.', '*i am a bot, and this action was performed automatically.', 'my god our president is an actual retard', 'it worked by the way, so not hating on the guy.', ' edit 2: zerohedge wrote and article with more details.', 'so 1/3 of spy is tech and health care?', 'gains are gains lol', 'didn’t read but yes you are', 'this is the type of mentality that gets you bullied at school or promoted to managing director at my firm.']\n",
      "20000\n"
     ]
    }
   ],
   "source": [
    "print(sample[:30])\n",
    "print(len(sample))"
   ]
  },
  {
   "cell_type": "code",
   "execution_count": 95,
   "metadata": {},
   "outputs": [],
   "source": [
    "# Save result:\n",
    "#with open(\"data_sample.txt\", \"wb\") as fp:   #Pickling\n",
    "#    pickle.dump(sample, fp)"
   ]
  },
  {
   "cell_type": "code",
   "execution_count": 96,
   "metadata": {},
   "outputs": [
    {
     "name": "stdout",
     "output_type": "stream",
     "text": [
      "['that sub is where people go to humble brag about their zero debt, 100k salary, paid off home, etc....', \"we're as ready as we can be.\", 'imagine having more than 10% bodyfat in 2020', 'first act should be to work to reinstate the fairness doctrine.', 'this recovery is absurdly bullish.', 'swear to god girls text back now and its the dumbest shit ever...', 'black monday joined the chat', 'teach him a lesson for looking down on us.', 'it had one but op was hungry', 'because the nkla ceo is basically a scam artist and picked this name to trick people into thinking his company is anything like tsla.', \"what's scary to me, though, is that it isn't just one or two things that everyone is waiting for.\", 'now the actual data and antibody response was published in one of the best medical journals.', 'once you understand how the price moves, halve it to 6 months, then to 3 months, then to 1 month, and eventually you will find yourself buying deep otm spy options that expire 2 hours from purchase.', 'that had me dying', 'well written, i enjoyed reading it but positions?', 'why do animal doctors get their own holiday, unbelieveable', 'did you have a seizure while taking this?', 'where do you get your option plays from?', 'imo they should grow a pair and just riot if they dislike him so much', 'sold my spy puts for a $22,600 gain today.', 'whoever said here to buy nkla stocks 2 weeks ago...', 'easy for my small brain to read.', 'see trade wars are good and easy to win', \"upvote if you're a bear don't downvote if you're a bull # #staywild\", 'when we’re back to a point we can hang out is with other humans i’m going to take all my earnings and start a business that’s an open office retail brokerage space.', 'on any fat dip, buyout the $1100 for peanuts compared to what you sold it for and you have a cheaper naked $800c, lol', 'lmao i was rapidly refreshing new waiting for a post like this', 'and then it failed and everyone lost their stuff!', 'why do you hate money', 'he’s still arguing with 5 year olds on twitter']\n",
      "20000\n"
     ]
    }
   ],
   "source": [
    "# Load result:\n",
    "with open(\"data_sample.txt\", \"rb\") as fp:   # Unpickling\n",
    "    sample = pickle.load(fp)\n",
    "print(sample[:30])\n",
    "print(len(sample))"
   ]
  },
  {
   "cell_type": "code",
   "execution_count": null,
   "metadata": {},
   "outputs": [],
   "source": []
  },
  {
   "cell_type": "code",
   "execution_count": null,
   "metadata": {},
   "outputs": [],
   "source": []
  },
  {
   "cell_type": "code",
   "execution_count": null,
   "metadata": {},
   "outputs": [],
   "source": []
  },
  {
   "cell_type": "code",
   "execution_count": null,
   "metadata": {},
   "outputs": [],
   "source": []
  },
  {
   "cell_type": "code",
   "execution_count": null,
   "metadata": {},
   "outputs": [],
   "source": []
  }
 ],
 "metadata": {
  "kernelspec": {
   "display_name": "Python 3",
   "language": "python",
   "name": "python3"
  },
  "language_info": {
   "codemirror_mode": {
    "name": "ipython",
    "version": 3
   },
   "file_extension": ".py",
   "mimetype": "text/x-python",
   "name": "python",
   "nbconvert_exporter": "python",
   "pygments_lexer": "ipython3",
   "version": "3.7.9"
  }
 },
 "nbformat": 4,
 "nbformat_minor": 4
}
