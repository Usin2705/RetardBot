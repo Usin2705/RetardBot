{
  "nbformat": 4,
  "nbformat_minor": 0,
  "metadata": {
    "kernelspec": {
      "display_name": "Python 3",
      "language": "python",
      "name": "python3"
    },
    "language_info": {
      "codemirror_mode": {
        "name": "ipython",
        "version": 3
      },
      "file_extension": ".py",
      "mimetype": "text/x-python",
      "name": "python",
      "nbconvert_exporter": "python",
      "pygments_lexer": "ipython3",
      "version": "3.7.9"
    },
    "colab": {
      "name": "step_02_ngrams.ipynb",
      "provenance": [],
      "collapsed_sections": []
    },
    "widgets": {
      "application/vnd.jupyter.widget-state+json": {
        "c2417807658c420f89f21d0cbb6b1d4b": {
          "model_module": "@jupyter-widgets/controls",
          "model_name": "HBoxModel",
          "state": {
            "_view_name": "HBoxView",
            "_dom_classes": [],
            "_model_name": "HBoxModel",
            "_view_module": "@jupyter-widgets/controls",
            "_model_module_version": "1.5.0",
            "_view_count": null,
            "_view_module_version": "1.5.0",
            "box_style": "",
            "layout": "IPY_MODEL_771abad96e4c45dc9168bf551a175dd5",
            "_model_module": "@jupyter-widgets/controls",
            "children": [
              "IPY_MODEL_21421c209eca485aa70705b4bbd6c3e0",
              "IPY_MODEL_9636c4f2bf964ff384b4d2dcf18e9e33"
            ]
          }
        },
        "771abad96e4c45dc9168bf551a175dd5": {
          "model_module": "@jupyter-widgets/base",
          "model_name": "LayoutModel",
          "state": {
            "_view_name": "LayoutView",
            "grid_template_rows": null,
            "right": null,
            "justify_content": null,
            "_view_module": "@jupyter-widgets/base",
            "overflow": null,
            "_model_module_version": "1.2.0",
            "_view_count": null,
            "flex_flow": null,
            "width": null,
            "min_width": null,
            "border": null,
            "align_items": null,
            "bottom": null,
            "_model_module": "@jupyter-widgets/base",
            "top": null,
            "grid_column": null,
            "overflow_y": null,
            "overflow_x": null,
            "grid_auto_flow": null,
            "grid_area": null,
            "grid_template_columns": null,
            "flex": null,
            "_model_name": "LayoutModel",
            "justify_items": null,
            "grid_row": null,
            "max_height": null,
            "align_content": null,
            "visibility": null,
            "align_self": null,
            "height": null,
            "min_height": null,
            "padding": null,
            "grid_auto_rows": null,
            "grid_gap": null,
            "max_width": null,
            "order": null,
            "_view_module_version": "1.2.0",
            "grid_template_areas": null,
            "object_position": null,
            "object_fit": null,
            "grid_auto_columns": null,
            "margin": null,
            "display": null,
            "left": null
          }
        },
        "21421c209eca485aa70705b4bbd6c3e0": {
          "model_module": "@jupyter-widgets/controls",
          "model_name": "FloatProgressModel",
          "state": {
            "_view_name": "ProgressView",
            "style": "IPY_MODEL_77abd923363b4f168d63ee69b67df7a2",
            "_dom_classes": [],
            "description": "100%",
            "_model_name": "FloatProgressModel",
            "bar_style": "success",
            "max": 851344,
            "_view_module": "@jupyter-widgets/controls",
            "_model_module_version": "1.5.0",
            "value": 851344,
            "_view_count": null,
            "_view_module_version": "1.5.0",
            "orientation": "horizontal",
            "min": 0,
            "description_tooltip": null,
            "_model_module": "@jupyter-widgets/controls",
            "layout": "IPY_MODEL_91db9d9d3fb543b497a6cccda95df63f"
          }
        },
        "9636c4f2bf964ff384b4d2dcf18e9e33": {
          "model_module": "@jupyter-widgets/controls",
          "model_name": "HTMLModel",
          "state": {
            "_view_name": "HTMLView",
            "style": "IPY_MODEL_65b17850d68444d29f507f36b585c452",
            "_dom_classes": [],
            "description": "",
            "_model_name": "HTMLModel",
            "placeholder": "​",
            "_view_module": "@jupyter-widgets/controls",
            "_model_module_version": "1.5.0",
            "value": " 851344/851344 [03:16&lt;00:00, 4332.30it/s]",
            "_view_count": null,
            "_view_module_version": "1.5.0",
            "description_tooltip": null,
            "_model_module": "@jupyter-widgets/controls",
            "layout": "IPY_MODEL_a9367dd9294f4fa4b74699ea22dd7718"
          }
        },
        "77abd923363b4f168d63ee69b67df7a2": {
          "model_module": "@jupyter-widgets/controls",
          "model_name": "ProgressStyleModel",
          "state": {
            "_view_name": "StyleView",
            "_model_name": "ProgressStyleModel",
            "description_width": "initial",
            "_view_module": "@jupyter-widgets/base",
            "_model_module_version": "1.5.0",
            "_view_count": null,
            "_view_module_version": "1.2.0",
            "bar_color": null,
            "_model_module": "@jupyter-widgets/controls"
          }
        },
        "91db9d9d3fb543b497a6cccda95df63f": {
          "model_module": "@jupyter-widgets/base",
          "model_name": "LayoutModel",
          "state": {
            "_view_name": "LayoutView",
            "grid_template_rows": null,
            "right": null,
            "justify_content": null,
            "_view_module": "@jupyter-widgets/base",
            "overflow": null,
            "_model_module_version": "1.2.0",
            "_view_count": null,
            "flex_flow": null,
            "width": null,
            "min_width": null,
            "border": null,
            "align_items": null,
            "bottom": null,
            "_model_module": "@jupyter-widgets/base",
            "top": null,
            "grid_column": null,
            "overflow_y": null,
            "overflow_x": null,
            "grid_auto_flow": null,
            "grid_area": null,
            "grid_template_columns": null,
            "flex": null,
            "_model_name": "LayoutModel",
            "justify_items": null,
            "grid_row": null,
            "max_height": null,
            "align_content": null,
            "visibility": null,
            "align_self": null,
            "height": null,
            "min_height": null,
            "padding": null,
            "grid_auto_rows": null,
            "grid_gap": null,
            "max_width": null,
            "order": null,
            "_view_module_version": "1.2.0",
            "grid_template_areas": null,
            "object_position": null,
            "object_fit": null,
            "grid_auto_columns": null,
            "margin": null,
            "display": null,
            "left": null
          }
        },
        "65b17850d68444d29f507f36b585c452": {
          "model_module": "@jupyter-widgets/controls",
          "model_name": "DescriptionStyleModel",
          "state": {
            "_view_name": "StyleView",
            "_model_name": "DescriptionStyleModel",
            "description_width": "",
            "_view_module": "@jupyter-widgets/base",
            "_model_module_version": "1.5.0",
            "_view_count": null,
            "_view_module_version": "1.2.0",
            "_model_module": "@jupyter-widgets/controls"
          }
        },
        "a9367dd9294f4fa4b74699ea22dd7718": {
          "model_module": "@jupyter-widgets/base",
          "model_name": "LayoutModel",
          "state": {
            "_view_name": "LayoutView",
            "grid_template_rows": null,
            "right": null,
            "justify_content": null,
            "_view_module": "@jupyter-widgets/base",
            "overflow": null,
            "_model_module_version": "1.2.0",
            "_view_count": null,
            "flex_flow": null,
            "width": null,
            "min_width": null,
            "border": null,
            "align_items": null,
            "bottom": null,
            "_model_module": "@jupyter-widgets/base",
            "top": null,
            "grid_column": null,
            "overflow_y": null,
            "overflow_x": null,
            "grid_auto_flow": null,
            "grid_area": null,
            "grid_template_columns": null,
            "flex": null,
            "_model_name": "LayoutModel",
            "justify_items": null,
            "grid_row": null,
            "max_height": null,
            "align_content": null,
            "visibility": null,
            "align_self": null,
            "height": null,
            "min_height": null,
            "padding": null,
            "grid_auto_rows": null,
            "grid_gap": null,
            "max_width": null,
            "order": null,
            "_view_module_version": "1.2.0",
            "grid_template_areas": null,
            "object_position": null,
            "object_fit": null,
            "grid_auto_columns": null,
            "margin": null,
            "display": null,
            "left": null
          }
        },
        "8f543c0f83db4f8ebf28b1061e8bddf4": {
          "model_module": "@jupyter-widgets/controls",
          "model_name": "HBoxModel",
          "state": {
            "_view_name": "HBoxView",
            "_dom_classes": [],
            "_model_name": "HBoxModel",
            "_view_module": "@jupyter-widgets/controls",
            "_model_module_version": "1.5.0",
            "_view_count": null,
            "_view_module_version": "1.5.0",
            "box_style": "",
            "layout": "IPY_MODEL_926f7d95fd80476692025a21049e4daf",
            "_model_module": "@jupyter-widgets/controls",
            "children": [
              "IPY_MODEL_7937411e40c1424b922b911890cb21cd",
              "IPY_MODEL_790998ca69dd448e83db51b150f47fe3"
            ]
          }
        },
        "926f7d95fd80476692025a21049e4daf": {
          "model_module": "@jupyter-widgets/base",
          "model_name": "LayoutModel",
          "state": {
            "_view_name": "LayoutView",
            "grid_template_rows": null,
            "right": null,
            "justify_content": null,
            "_view_module": "@jupyter-widgets/base",
            "overflow": null,
            "_model_module_version": "1.2.0",
            "_view_count": null,
            "flex_flow": null,
            "width": null,
            "min_width": null,
            "border": null,
            "align_items": null,
            "bottom": null,
            "_model_module": "@jupyter-widgets/base",
            "top": null,
            "grid_column": null,
            "overflow_y": null,
            "overflow_x": null,
            "grid_auto_flow": null,
            "grid_area": null,
            "grid_template_columns": null,
            "flex": null,
            "_model_name": "LayoutModel",
            "justify_items": null,
            "grid_row": null,
            "max_height": null,
            "align_content": null,
            "visibility": null,
            "align_self": null,
            "height": null,
            "min_height": null,
            "padding": null,
            "grid_auto_rows": null,
            "grid_gap": null,
            "max_width": null,
            "order": null,
            "_view_module_version": "1.2.0",
            "grid_template_areas": null,
            "object_position": null,
            "object_fit": null,
            "grid_auto_columns": null,
            "margin": null,
            "display": null,
            "left": null
          }
        },
        "7937411e40c1424b922b911890cb21cd": {
          "model_module": "@jupyter-widgets/controls",
          "model_name": "FloatProgressModel",
          "state": {
            "_view_name": "ProgressView",
            "style": "IPY_MODEL_b5af1f716f1d4e2e89ca4857ce8c42bb",
            "_dom_classes": [],
            "description": "100%",
            "_model_name": "FloatProgressModel",
            "bar_style": "success",
            "max": 4,
            "_view_module": "@jupyter-widgets/controls",
            "_model_module_version": "1.5.0",
            "value": 4,
            "_view_count": null,
            "_view_module_version": "1.5.0",
            "orientation": "horizontal",
            "min": 0,
            "description_tooltip": null,
            "_model_module": "@jupyter-widgets/controls",
            "layout": "IPY_MODEL_4d837cd21ce74db59e92c5845bed74f7"
          }
        },
        "790998ca69dd448e83db51b150f47fe3": {
          "model_module": "@jupyter-widgets/controls",
          "model_name": "HTMLModel",
          "state": {
            "_view_name": "HTMLView",
            "style": "IPY_MODEL_f6c2cdacc94b4a94a9e8300889e49e70",
            "_dom_classes": [],
            "description": "",
            "_model_name": "HTMLModel",
            "placeholder": "​",
            "_view_module": "@jupyter-widgets/controls",
            "_model_module_version": "1.5.0",
            "value": " 4/4 [16:06&lt;00:00, 241.61s/it]",
            "_view_count": null,
            "_view_module_version": "1.5.0",
            "description_tooltip": null,
            "_model_module": "@jupyter-widgets/controls",
            "layout": "IPY_MODEL_9dd2e6dd29f347c9aaafdd51605925e0"
          }
        },
        "b5af1f716f1d4e2e89ca4857ce8c42bb": {
          "model_module": "@jupyter-widgets/controls",
          "model_name": "ProgressStyleModel",
          "state": {
            "_view_name": "StyleView",
            "_model_name": "ProgressStyleModel",
            "description_width": "initial",
            "_view_module": "@jupyter-widgets/base",
            "_model_module_version": "1.5.0",
            "_view_count": null,
            "_view_module_version": "1.2.0",
            "bar_color": null,
            "_model_module": "@jupyter-widgets/controls"
          }
        },
        "4d837cd21ce74db59e92c5845bed74f7": {
          "model_module": "@jupyter-widgets/base",
          "model_name": "LayoutModel",
          "state": {
            "_view_name": "LayoutView",
            "grid_template_rows": null,
            "right": null,
            "justify_content": null,
            "_view_module": "@jupyter-widgets/base",
            "overflow": null,
            "_model_module_version": "1.2.0",
            "_view_count": null,
            "flex_flow": null,
            "width": null,
            "min_width": null,
            "border": null,
            "align_items": null,
            "bottom": null,
            "_model_module": "@jupyter-widgets/base",
            "top": null,
            "grid_column": null,
            "overflow_y": null,
            "overflow_x": null,
            "grid_auto_flow": null,
            "grid_area": null,
            "grid_template_columns": null,
            "flex": null,
            "_model_name": "LayoutModel",
            "justify_items": null,
            "grid_row": null,
            "max_height": null,
            "align_content": null,
            "visibility": null,
            "align_self": null,
            "height": null,
            "min_height": null,
            "padding": null,
            "grid_auto_rows": null,
            "grid_gap": null,
            "max_width": null,
            "order": null,
            "_view_module_version": "1.2.0",
            "grid_template_areas": null,
            "object_position": null,
            "object_fit": null,
            "grid_auto_columns": null,
            "margin": null,
            "display": null,
            "left": null
          }
        },
        "f6c2cdacc94b4a94a9e8300889e49e70": {
          "model_module": "@jupyter-widgets/controls",
          "model_name": "DescriptionStyleModel",
          "state": {
            "_view_name": "StyleView",
            "_model_name": "DescriptionStyleModel",
            "description_width": "",
            "_view_module": "@jupyter-widgets/base",
            "_model_module_version": "1.5.0",
            "_view_count": null,
            "_view_module_version": "1.2.0",
            "_model_module": "@jupyter-widgets/controls"
          }
        },
        "9dd2e6dd29f347c9aaafdd51605925e0": {
          "model_module": "@jupyter-widgets/base",
          "model_name": "LayoutModel",
          "state": {
            "_view_name": "LayoutView",
            "grid_template_rows": null,
            "right": null,
            "justify_content": null,
            "_view_module": "@jupyter-widgets/base",
            "overflow": null,
            "_model_module_version": "1.2.0",
            "_view_count": null,
            "flex_flow": null,
            "width": null,
            "min_width": null,
            "border": null,
            "align_items": null,
            "bottom": null,
            "_model_module": "@jupyter-widgets/base",
            "top": null,
            "grid_column": null,
            "overflow_y": null,
            "overflow_x": null,
            "grid_auto_flow": null,
            "grid_area": null,
            "grid_template_columns": null,
            "flex": null,
            "_model_name": "LayoutModel",
            "justify_items": null,
            "grid_row": null,
            "max_height": null,
            "align_content": null,
            "visibility": null,
            "align_self": null,
            "height": null,
            "min_height": null,
            "padding": null,
            "grid_auto_rows": null,
            "grid_gap": null,
            "max_width": null,
            "order": null,
            "_view_module_version": "1.2.0",
            "grid_template_areas": null,
            "object_position": null,
            "object_fit": null,
            "grid_auto_columns": null,
            "margin": null,
            "display": null,
            "left": null
          }
        },
        "a626af34d73c49d683fabff0e601de60": {
          "model_module": "@jupyter-widgets/controls",
          "model_name": "HBoxModel",
          "state": {
            "_view_name": "HBoxView",
            "_dom_classes": [],
            "_model_name": "HBoxModel",
            "_view_module": "@jupyter-widgets/controls",
            "_model_module_version": "1.5.0",
            "_view_count": null,
            "_view_module_version": "1.5.0",
            "box_style": "",
            "layout": "IPY_MODEL_f61d5546c1ec49a78d95c8be3d8256c6",
            "_model_module": "@jupyter-widgets/controls",
            "children": [
              "IPY_MODEL_59315f3e95084b599af785f2dedefcb0",
              "IPY_MODEL_45b7edc3f49944dfb0a0edc45e738e2b"
            ]
          }
        },
        "f61d5546c1ec49a78d95c8be3d8256c6": {
          "model_module": "@jupyter-widgets/base",
          "model_name": "LayoutModel",
          "state": {
            "_view_name": "LayoutView",
            "grid_template_rows": null,
            "right": null,
            "justify_content": null,
            "_view_module": "@jupyter-widgets/base",
            "overflow": null,
            "_model_module_version": "1.2.0",
            "_view_count": null,
            "flex_flow": null,
            "width": null,
            "min_width": null,
            "border": null,
            "align_items": null,
            "bottom": null,
            "_model_module": "@jupyter-widgets/base",
            "top": null,
            "grid_column": null,
            "overflow_y": null,
            "overflow_x": null,
            "grid_auto_flow": null,
            "grid_area": null,
            "grid_template_columns": null,
            "flex": null,
            "_model_name": "LayoutModel",
            "justify_items": null,
            "grid_row": null,
            "max_height": null,
            "align_content": null,
            "visibility": null,
            "align_self": null,
            "height": null,
            "min_height": null,
            "padding": null,
            "grid_auto_rows": null,
            "grid_gap": null,
            "max_width": null,
            "order": null,
            "_view_module_version": "1.2.0",
            "grid_template_areas": null,
            "object_position": null,
            "object_fit": null,
            "grid_auto_columns": null,
            "margin": null,
            "display": null,
            "left": null
          }
        },
        "59315f3e95084b599af785f2dedefcb0": {
          "model_module": "@jupyter-widgets/controls",
          "model_name": "FloatProgressModel",
          "state": {
            "_view_name": "ProgressView",
            "style": "IPY_MODEL_d0199d4b78f6482580f4a2763aef54fb",
            "_dom_classes": [],
            "description": "100%",
            "_model_name": "FloatProgressModel",
            "bar_style": "success",
            "max": 4,
            "_view_module": "@jupyter-widgets/controls",
            "_model_module_version": "1.5.0",
            "value": 4,
            "_view_count": null,
            "_view_module_version": "1.5.0",
            "orientation": "horizontal",
            "min": 0,
            "description_tooltip": null,
            "_model_module": "@jupyter-widgets/controls",
            "layout": "IPY_MODEL_1833abe6e272473280d4af0df3cf6361"
          }
        },
        "45b7edc3f49944dfb0a0edc45e738e2b": {
          "model_module": "@jupyter-widgets/controls",
          "model_name": "HTMLModel",
          "state": {
            "_view_name": "HTMLView",
            "style": "IPY_MODEL_397fd3b27cd14252821ed0e155e0fcb0",
            "_dom_classes": [],
            "description": "",
            "_model_name": "HTMLModel",
            "placeholder": "​",
            "_view_module": "@jupyter-widgets/controls",
            "_model_module_version": "1.5.0",
            "value": " 4/4 [04:47&lt;00:00, 71.96s/it]",
            "_view_count": null,
            "_view_module_version": "1.5.0",
            "description_tooltip": null,
            "_model_module": "@jupyter-widgets/controls",
            "layout": "IPY_MODEL_b4a90d4c86264eb9aba10a965246f484"
          }
        },
        "d0199d4b78f6482580f4a2763aef54fb": {
          "model_module": "@jupyter-widgets/controls",
          "model_name": "ProgressStyleModel",
          "state": {
            "_view_name": "StyleView",
            "_model_name": "ProgressStyleModel",
            "description_width": "initial",
            "_view_module": "@jupyter-widgets/base",
            "_model_module_version": "1.5.0",
            "_view_count": null,
            "_view_module_version": "1.2.0",
            "bar_color": null,
            "_model_module": "@jupyter-widgets/controls"
          }
        },
        "1833abe6e272473280d4af0df3cf6361": {
          "model_module": "@jupyter-widgets/base",
          "model_name": "LayoutModel",
          "state": {
            "_view_name": "LayoutView",
            "grid_template_rows": null,
            "right": null,
            "justify_content": null,
            "_view_module": "@jupyter-widgets/base",
            "overflow": null,
            "_model_module_version": "1.2.0",
            "_view_count": null,
            "flex_flow": null,
            "width": null,
            "min_width": null,
            "border": null,
            "align_items": null,
            "bottom": null,
            "_model_module": "@jupyter-widgets/base",
            "top": null,
            "grid_column": null,
            "overflow_y": null,
            "overflow_x": null,
            "grid_auto_flow": null,
            "grid_area": null,
            "grid_template_columns": null,
            "flex": null,
            "_model_name": "LayoutModel",
            "justify_items": null,
            "grid_row": null,
            "max_height": null,
            "align_content": null,
            "visibility": null,
            "align_self": null,
            "height": null,
            "min_height": null,
            "padding": null,
            "grid_auto_rows": null,
            "grid_gap": null,
            "max_width": null,
            "order": null,
            "_view_module_version": "1.2.0",
            "grid_template_areas": null,
            "object_position": null,
            "object_fit": null,
            "grid_auto_columns": null,
            "margin": null,
            "display": null,
            "left": null
          }
        },
        "397fd3b27cd14252821ed0e155e0fcb0": {
          "model_module": "@jupyter-widgets/controls",
          "model_name": "DescriptionStyleModel",
          "state": {
            "_view_name": "StyleView",
            "_model_name": "DescriptionStyleModel",
            "description_width": "",
            "_view_module": "@jupyter-widgets/base",
            "_model_module_version": "1.5.0",
            "_view_count": null,
            "_view_module_version": "1.2.0",
            "_model_module": "@jupyter-widgets/controls"
          }
        },
        "b4a90d4c86264eb9aba10a965246f484": {
          "model_module": "@jupyter-widgets/base",
          "model_name": "LayoutModel",
          "state": {
            "_view_name": "LayoutView",
            "grid_template_rows": null,
            "right": null,
            "justify_content": null,
            "_view_module": "@jupyter-widgets/base",
            "overflow": null,
            "_model_module_version": "1.2.0",
            "_view_count": null,
            "flex_flow": null,
            "width": null,
            "min_width": null,
            "border": null,
            "align_items": null,
            "bottom": null,
            "_model_module": "@jupyter-widgets/base",
            "top": null,
            "grid_column": null,
            "overflow_y": null,
            "overflow_x": null,
            "grid_auto_flow": null,
            "grid_area": null,
            "grid_template_columns": null,
            "flex": null,
            "_model_name": "LayoutModel",
            "justify_items": null,
            "grid_row": null,
            "max_height": null,
            "align_content": null,
            "visibility": null,
            "align_self": null,
            "height": null,
            "min_height": null,
            "padding": null,
            "grid_auto_rows": null,
            "grid_gap": null,
            "max_width": null,
            "order": null,
            "_view_module_version": "1.2.0",
            "grid_template_areas": null,
            "object_position": null,
            "object_fit": null,
            "grid_auto_columns": null,
            "margin": null,
            "display": null,
            "left": null
          }
        },
        "ccb1e4b1600845d3b67d2db9f06f48ff": {
          "model_module": "@jupyter-widgets/controls",
          "model_name": "HBoxModel",
          "state": {
            "_view_name": "HBoxView",
            "_dom_classes": [],
            "_model_name": "HBoxModel",
            "_view_module": "@jupyter-widgets/controls",
            "_model_module_version": "1.5.0",
            "_view_count": null,
            "_view_module_version": "1.5.0",
            "box_style": "",
            "layout": "IPY_MODEL_05f2a2c98a05447aa170057b7600622c",
            "_model_module": "@jupyter-widgets/controls",
            "children": [
              "IPY_MODEL_29afe72dffc04382ba3b435ba6d93ada",
              "IPY_MODEL_ca1327ef5b6847e2bb79445209cd9824"
            ]
          }
        },
        "05f2a2c98a05447aa170057b7600622c": {
          "model_module": "@jupyter-widgets/base",
          "model_name": "LayoutModel",
          "state": {
            "_view_name": "LayoutView",
            "grid_template_rows": null,
            "right": null,
            "justify_content": null,
            "_view_module": "@jupyter-widgets/base",
            "overflow": null,
            "_model_module_version": "1.2.0",
            "_view_count": null,
            "flex_flow": null,
            "width": null,
            "min_width": null,
            "border": null,
            "align_items": null,
            "bottom": null,
            "_model_module": "@jupyter-widgets/base",
            "top": null,
            "grid_column": null,
            "overflow_y": null,
            "overflow_x": null,
            "grid_auto_flow": null,
            "grid_area": null,
            "grid_template_columns": null,
            "flex": null,
            "_model_name": "LayoutModel",
            "justify_items": null,
            "grid_row": null,
            "max_height": null,
            "align_content": null,
            "visibility": null,
            "align_self": null,
            "height": null,
            "min_height": null,
            "padding": null,
            "grid_auto_rows": null,
            "grid_gap": null,
            "max_width": null,
            "order": null,
            "_view_module_version": "1.2.0",
            "grid_template_areas": null,
            "object_position": null,
            "object_fit": null,
            "grid_auto_columns": null,
            "margin": null,
            "display": null,
            "left": null
          }
        },
        "29afe72dffc04382ba3b435ba6d93ada": {
          "model_module": "@jupyter-widgets/controls",
          "model_name": "FloatProgressModel",
          "state": {
            "_view_name": "ProgressView",
            "style": "IPY_MODEL_c38b95e672c043eb87383d38f3a7585b",
            "_dom_classes": [],
            "description": "100%",
            "_model_name": "FloatProgressModel",
            "bar_style": "success",
            "max": 4,
            "_view_module": "@jupyter-widgets/controls",
            "_model_module_version": "1.5.0",
            "value": 4,
            "_view_count": null,
            "_view_module_version": "1.5.0",
            "orientation": "horizontal",
            "min": 0,
            "description_tooltip": null,
            "_model_module": "@jupyter-widgets/controls",
            "layout": "IPY_MODEL_55ca45c812ca47a583df7d156b3cb77b"
          }
        },
        "ca1327ef5b6847e2bb79445209cd9824": {
          "model_module": "@jupyter-widgets/controls",
          "model_name": "HTMLModel",
          "state": {
            "_view_name": "HTMLView",
            "style": "IPY_MODEL_c777d372ca62425e83968aa0f4b04131",
            "_dom_classes": [],
            "description": "",
            "_model_name": "HTMLModel",
            "placeholder": "​",
            "_view_module": "@jupyter-widgets/controls",
            "_model_module_version": "1.5.0",
            "value": " 4/4 [58:17&lt;00:00, 874.39s/it]",
            "_view_count": null,
            "_view_module_version": "1.5.0",
            "description_tooltip": null,
            "_model_module": "@jupyter-widgets/controls",
            "layout": "IPY_MODEL_bd1534bb10cc48cdaf82ce42ba189d96"
          }
        },
        "c38b95e672c043eb87383d38f3a7585b": {
          "model_module": "@jupyter-widgets/controls",
          "model_name": "ProgressStyleModel",
          "state": {
            "_view_name": "StyleView",
            "_model_name": "ProgressStyleModel",
            "description_width": "initial",
            "_view_module": "@jupyter-widgets/base",
            "_model_module_version": "1.5.0",
            "_view_count": null,
            "_view_module_version": "1.2.0",
            "bar_color": null,
            "_model_module": "@jupyter-widgets/controls"
          }
        },
        "55ca45c812ca47a583df7d156b3cb77b": {
          "model_module": "@jupyter-widgets/base",
          "model_name": "LayoutModel",
          "state": {
            "_view_name": "LayoutView",
            "grid_template_rows": null,
            "right": null,
            "justify_content": null,
            "_view_module": "@jupyter-widgets/base",
            "overflow": null,
            "_model_module_version": "1.2.0",
            "_view_count": null,
            "flex_flow": null,
            "width": null,
            "min_width": null,
            "border": null,
            "align_items": null,
            "bottom": null,
            "_model_module": "@jupyter-widgets/base",
            "top": null,
            "grid_column": null,
            "overflow_y": null,
            "overflow_x": null,
            "grid_auto_flow": null,
            "grid_area": null,
            "grid_template_columns": null,
            "flex": null,
            "_model_name": "LayoutModel",
            "justify_items": null,
            "grid_row": null,
            "max_height": null,
            "align_content": null,
            "visibility": null,
            "align_self": null,
            "height": null,
            "min_height": null,
            "padding": null,
            "grid_auto_rows": null,
            "grid_gap": null,
            "max_width": null,
            "order": null,
            "_view_module_version": "1.2.0",
            "grid_template_areas": null,
            "object_position": null,
            "object_fit": null,
            "grid_auto_columns": null,
            "margin": null,
            "display": null,
            "left": null
          }
        },
        "c777d372ca62425e83968aa0f4b04131": {
          "model_module": "@jupyter-widgets/controls",
          "model_name": "DescriptionStyleModel",
          "state": {
            "_view_name": "StyleView",
            "_model_name": "DescriptionStyleModel",
            "description_width": "",
            "_view_module": "@jupyter-widgets/base",
            "_model_module_version": "1.5.0",
            "_view_count": null,
            "_view_module_version": "1.2.0",
            "_model_module": "@jupyter-widgets/controls"
          }
        },
        "bd1534bb10cc48cdaf82ce42ba189d96": {
          "model_module": "@jupyter-widgets/base",
          "model_name": "LayoutModel",
          "state": {
            "_view_name": "LayoutView",
            "grid_template_rows": null,
            "right": null,
            "justify_content": null,
            "_view_module": "@jupyter-widgets/base",
            "overflow": null,
            "_model_module_version": "1.2.0",
            "_view_count": null,
            "flex_flow": null,
            "width": null,
            "min_width": null,
            "border": null,
            "align_items": null,
            "bottom": null,
            "_model_module": "@jupyter-widgets/base",
            "top": null,
            "grid_column": null,
            "overflow_y": null,
            "overflow_x": null,
            "grid_auto_flow": null,
            "grid_area": null,
            "grid_template_columns": null,
            "flex": null,
            "_model_name": "LayoutModel",
            "justify_items": null,
            "grid_row": null,
            "max_height": null,
            "align_content": null,
            "visibility": null,
            "align_self": null,
            "height": null,
            "min_height": null,
            "padding": null,
            "grid_auto_rows": null,
            "grid_gap": null,
            "max_width": null,
            "order": null,
            "_view_module_version": "1.2.0",
            "grid_template_areas": null,
            "object_position": null,
            "object_fit": null,
            "grid_auto_columns": null,
            "margin": null,
            "display": null,
            "left": null
          }
        },
        "cd664d8dcfbd4b67a61bfb7f2a983e2e": {
          "model_module": "@jupyter-widgets/controls",
          "model_name": "HBoxModel",
          "state": {
            "_view_name": "HBoxView",
            "_dom_classes": [],
            "_model_name": "HBoxModel",
            "_view_module": "@jupyter-widgets/controls",
            "_model_module_version": "1.5.0",
            "_view_count": null,
            "_view_module_version": "1.5.0",
            "box_style": "",
            "layout": "IPY_MODEL_c39c503548e84d24a598c6dc45fb15d6",
            "_model_module": "@jupyter-widgets/controls",
            "children": [
              "IPY_MODEL_f7ea12da381744ada848006eb42ed220",
              "IPY_MODEL_8368962fb4804cc9a11947121d0e3c12"
            ]
          }
        },
        "c39c503548e84d24a598c6dc45fb15d6": {
          "model_module": "@jupyter-widgets/base",
          "model_name": "LayoutModel",
          "state": {
            "_view_name": "LayoutView",
            "grid_template_rows": null,
            "right": null,
            "justify_content": null,
            "_view_module": "@jupyter-widgets/base",
            "overflow": null,
            "_model_module_version": "1.2.0",
            "_view_count": null,
            "flex_flow": null,
            "width": null,
            "min_width": null,
            "border": null,
            "align_items": null,
            "bottom": null,
            "_model_module": "@jupyter-widgets/base",
            "top": null,
            "grid_column": null,
            "overflow_y": null,
            "overflow_x": null,
            "grid_auto_flow": null,
            "grid_area": null,
            "grid_template_columns": null,
            "flex": null,
            "_model_name": "LayoutModel",
            "justify_items": null,
            "grid_row": null,
            "max_height": null,
            "align_content": null,
            "visibility": null,
            "align_self": null,
            "height": null,
            "min_height": null,
            "padding": null,
            "grid_auto_rows": null,
            "grid_gap": null,
            "max_width": null,
            "order": null,
            "_view_module_version": "1.2.0",
            "grid_template_areas": null,
            "object_position": null,
            "object_fit": null,
            "grid_auto_columns": null,
            "margin": null,
            "display": null,
            "left": null
          }
        },
        "f7ea12da381744ada848006eb42ed220": {
          "model_module": "@jupyter-widgets/controls",
          "model_name": "FloatProgressModel",
          "state": {
            "_view_name": "ProgressView",
            "style": "IPY_MODEL_a31443d3f8904329976cbf985e70157d",
            "_dom_classes": [],
            "description": "100%",
            "_model_name": "FloatProgressModel",
            "bar_style": "success",
            "max": 4,
            "_view_module": "@jupyter-widgets/controls",
            "_model_module_version": "1.5.0",
            "value": 4,
            "_view_count": null,
            "_view_module_version": "1.5.0",
            "orientation": "horizontal",
            "min": 0,
            "description_tooltip": null,
            "_model_module": "@jupyter-widgets/controls",
            "layout": "IPY_MODEL_e90fef40c53e4da2a5160afaf191da02"
          }
        },
        "8368962fb4804cc9a11947121d0e3c12": {
          "model_module": "@jupyter-widgets/controls",
          "model_name": "HTMLModel",
          "state": {
            "_view_name": "HTMLView",
            "style": "IPY_MODEL_aec3815ac4e64edfa234fc6382b3283d",
            "_dom_classes": [],
            "description": "",
            "_model_name": "HTMLModel",
            "placeholder": "​",
            "_view_module": "@jupyter-widgets/controls",
            "_model_module_version": "1.5.0",
            "value": " 4/4 [48:50&lt;00:00, 732.73s/it]",
            "_view_count": null,
            "_view_module_version": "1.5.0",
            "description_tooltip": null,
            "_model_module": "@jupyter-widgets/controls",
            "layout": "IPY_MODEL_f8771cc3d0904e158d7f1a538fd1d719"
          }
        },
        "a31443d3f8904329976cbf985e70157d": {
          "model_module": "@jupyter-widgets/controls",
          "model_name": "ProgressStyleModel",
          "state": {
            "_view_name": "StyleView",
            "_model_name": "ProgressStyleModel",
            "description_width": "initial",
            "_view_module": "@jupyter-widgets/base",
            "_model_module_version": "1.5.0",
            "_view_count": null,
            "_view_module_version": "1.2.0",
            "bar_color": null,
            "_model_module": "@jupyter-widgets/controls"
          }
        },
        "e90fef40c53e4da2a5160afaf191da02": {
          "model_module": "@jupyter-widgets/base",
          "model_name": "LayoutModel",
          "state": {
            "_view_name": "LayoutView",
            "grid_template_rows": null,
            "right": null,
            "justify_content": null,
            "_view_module": "@jupyter-widgets/base",
            "overflow": null,
            "_model_module_version": "1.2.0",
            "_view_count": null,
            "flex_flow": null,
            "width": null,
            "min_width": null,
            "border": null,
            "align_items": null,
            "bottom": null,
            "_model_module": "@jupyter-widgets/base",
            "top": null,
            "grid_column": null,
            "overflow_y": null,
            "overflow_x": null,
            "grid_auto_flow": null,
            "grid_area": null,
            "grid_template_columns": null,
            "flex": null,
            "_model_name": "LayoutModel",
            "justify_items": null,
            "grid_row": null,
            "max_height": null,
            "align_content": null,
            "visibility": null,
            "align_self": null,
            "height": null,
            "min_height": null,
            "padding": null,
            "grid_auto_rows": null,
            "grid_gap": null,
            "max_width": null,
            "order": null,
            "_view_module_version": "1.2.0",
            "grid_template_areas": null,
            "object_position": null,
            "object_fit": null,
            "grid_auto_columns": null,
            "margin": null,
            "display": null,
            "left": null
          }
        },
        "aec3815ac4e64edfa234fc6382b3283d": {
          "model_module": "@jupyter-widgets/controls",
          "model_name": "DescriptionStyleModel",
          "state": {
            "_view_name": "StyleView",
            "_model_name": "DescriptionStyleModel",
            "description_width": "",
            "_view_module": "@jupyter-widgets/base",
            "_model_module_version": "1.5.0",
            "_view_count": null,
            "_view_module_version": "1.2.0",
            "_model_module": "@jupyter-widgets/controls"
          }
        },
        "f8771cc3d0904e158d7f1a538fd1d719": {
          "model_module": "@jupyter-widgets/base",
          "model_name": "LayoutModel",
          "state": {
            "_view_name": "LayoutView",
            "grid_template_rows": null,
            "right": null,
            "justify_content": null,
            "_view_module": "@jupyter-widgets/base",
            "overflow": null,
            "_model_module_version": "1.2.0",
            "_view_count": null,
            "flex_flow": null,
            "width": null,
            "min_width": null,
            "border": null,
            "align_items": null,
            "bottom": null,
            "_model_module": "@jupyter-widgets/base",
            "top": null,
            "grid_column": null,
            "overflow_y": null,
            "overflow_x": null,
            "grid_auto_flow": null,
            "grid_area": null,
            "grid_template_columns": null,
            "flex": null,
            "_model_name": "LayoutModel",
            "justify_items": null,
            "grid_row": null,
            "max_height": null,
            "align_content": null,
            "visibility": null,
            "align_self": null,
            "height": null,
            "min_height": null,
            "padding": null,
            "grid_auto_rows": null,
            "grid_gap": null,
            "max_width": null,
            "order": null,
            "_view_module_version": "1.2.0",
            "grid_template_areas": null,
            "object_position": null,
            "object_fit": null,
            "grid_auto_columns": null,
            "margin": null,
            "display": null,
            "left": null
          }
        },
        "a7995cfb8ce74e288cc6d023e6e159e0": {
          "model_module": "@jupyter-widgets/controls",
          "model_name": "HBoxModel",
          "state": {
            "_view_name": "HBoxView",
            "_dom_classes": [],
            "_model_name": "HBoxModel",
            "_view_module": "@jupyter-widgets/controls",
            "_model_module_version": "1.5.0",
            "_view_count": null,
            "_view_module_version": "1.5.0",
            "box_style": "",
            "layout": "IPY_MODEL_dbee51fa6bbe433ea5d15d5b927ee736",
            "_model_module": "@jupyter-widgets/controls",
            "children": [
              "IPY_MODEL_71c69b4e7cc04c469e16c3aa557b0cc6",
              "IPY_MODEL_7a84cc0b4b674ac4b66f81b09da041e0"
            ]
          }
        },
        "dbee51fa6bbe433ea5d15d5b927ee736": {
          "model_module": "@jupyter-widgets/base",
          "model_name": "LayoutModel",
          "state": {
            "_view_name": "LayoutView",
            "grid_template_rows": null,
            "right": null,
            "justify_content": null,
            "_view_module": "@jupyter-widgets/base",
            "overflow": null,
            "_model_module_version": "1.2.0",
            "_view_count": null,
            "flex_flow": null,
            "width": null,
            "min_width": null,
            "border": null,
            "align_items": null,
            "bottom": null,
            "_model_module": "@jupyter-widgets/base",
            "top": null,
            "grid_column": null,
            "overflow_y": null,
            "overflow_x": null,
            "grid_auto_flow": null,
            "grid_area": null,
            "grid_template_columns": null,
            "flex": null,
            "_model_name": "LayoutModel",
            "justify_items": null,
            "grid_row": null,
            "max_height": null,
            "align_content": null,
            "visibility": null,
            "align_self": null,
            "height": null,
            "min_height": null,
            "padding": null,
            "grid_auto_rows": null,
            "grid_gap": null,
            "max_width": null,
            "order": null,
            "_view_module_version": "1.2.0",
            "grid_template_areas": null,
            "object_position": null,
            "object_fit": null,
            "grid_auto_columns": null,
            "margin": null,
            "display": null,
            "left": null
          }
        },
        "71c69b4e7cc04c469e16c3aa557b0cc6": {
          "model_module": "@jupyter-widgets/controls",
          "model_name": "FloatProgressModel",
          "state": {
            "_view_name": "ProgressView",
            "style": "IPY_MODEL_35b2619ff04c452dbba62c5747c0a45b",
            "_dom_classes": [],
            "description": "100%",
            "_model_name": "FloatProgressModel",
            "bar_style": "success",
            "max": 4,
            "_view_module": "@jupyter-widgets/controls",
            "_model_module_version": "1.5.0",
            "value": 4,
            "_view_count": null,
            "_view_module_version": "1.5.0",
            "orientation": "horizontal",
            "min": 0,
            "description_tooltip": null,
            "_model_module": "@jupyter-widgets/controls",
            "layout": "IPY_MODEL_3c2f84c434b74e6f8d4e8ae1793cbcb8"
          }
        },
        "7a84cc0b4b674ac4b66f81b09da041e0": {
          "model_module": "@jupyter-widgets/controls",
          "model_name": "HTMLModel",
          "state": {
            "_view_name": "HTMLView",
            "style": "IPY_MODEL_4f4ac8107f1845e1b7f420e67ddd900d",
            "_dom_classes": [],
            "description": "",
            "_model_name": "HTMLModel",
            "placeholder": "​",
            "_view_module": "@jupyter-widgets/controls",
            "_model_module_version": "1.5.0",
            "value": " 4/4 [39:55&lt;00:00, 598.88s/it]",
            "_view_count": null,
            "_view_module_version": "1.5.0",
            "description_tooltip": null,
            "_model_module": "@jupyter-widgets/controls",
            "layout": "IPY_MODEL_54d9d809978d4d0d960f0a0db3d3b9a0"
          }
        },
        "35b2619ff04c452dbba62c5747c0a45b": {
          "model_module": "@jupyter-widgets/controls",
          "model_name": "ProgressStyleModel",
          "state": {
            "_view_name": "StyleView",
            "_model_name": "ProgressStyleModel",
            "description_width": "initial",
            "_view_module": "@jupyter-widgets/base",
            "_model_module_version": "1.5.0",
            "_view_count": null,
            "_view_module_version": "1.2.0",
            "bar_color": null,
            "_model_module": "@jupyter-widgets/controls"
          }
        },
        "3c2f84c434b74e6f8d4e8ae1793cbcb8": {
          "model_module": "@jupyter-widgets/base",
          "model_name": "LayoutModel",
          "state": {
            "_view_name": "LayoutView",
            "grid_template_rows": null,
            "right": null,
            "justify_content": null,
            "_view_module": "@jupyter-widgets/base",
            "overflow": null,
            "_model_module_version": "1.2.0",
            "_view_count": null,
            "flex_flow": null,
            "width": null,
            "min_width": null,
            "border": null,
            "align_items": null,
            "bottom": null,
            "_model_module": "@jupyter-widgets/base",
            "top": null,
            "grid_column": null,
            "overflow_y": null,
            "overflow_x": null,
            "grid_auto_flow": null,
            "grid_area": null,
            "grid_template_columns": null,
            "flex": null,
            "_model_name": "LayoutModel",
            "justify_items": null,
            "grid_row": null,
            "max_height": null,
            "align_content": null,
            "visibility": null,
            "align_self": null,
            "height": null,
            "min_height": null,
            "padding": null,
            "grid_auto_rows": null,
            "grid_gap": null,
            "max_width": null,
            "order": null,
            "_view_module_version": "1.2.0",
            "grid_template_areas": null,
            "object_position": null,
            "object_fit": null,
            "grid_auto_columns": null,
            "margin": null,
            "display": null,
            "left": null
          }
        },
        "4f4ac8107f1845e1b7f420e67ddd900d": {
          "model_module": "@jupyter-widgets/controls",
          "model_name": "DescriptionStyleModel",
          "state": {
            "_view_name": "StyleView",
            "_model_name": "DescriptionStyleModel",
            "description_width": "",
            "_view_module": "@jupyter-widgets/base",
            "_model_module_version": "1.5.0",
            "_view_count": null,
            "_view_module_version": "1.2.0",
            "_model_module": "@jupyter-widgets/controls"
          }
        },
        "54d9d809978d4d0d960f0a0db3d3b9a0": {
          "model_module": "@jupyter-widgets/base",
          "model_name": "LayoutModel",
          "state": {
            "_view_name": "LayoutView",
            "grid_template_rows": null,
            "right": null,
            "justify_content": null,
            "_view_module": "@jupyter-widgets/base",
            "overflow": null,
            "_model_module_version": "1.2.0",
            "_view_count": null,
            "flex_flow": null,
            "width": null,
            "min_width": null,
            "border": null,
            "align_items": null,
            "bottom": null,
            "_model_module": "@jupyter-widgets/base",
            "top": null,
            "grid_column": null,
            "overflow_y": null,
            "overflow_x": null,
            "grid_auto_flow": null,
            "grid_area": null,
            "grid_template_columns": null,
            "flex": null,
            "_model_name": "LayoutModel",
            "justify_items": null,
            "grid_row": null,
            "max_height": null,
            "align_content": null,
            "visibility": null,
            "align_self": null,
            "height": null,
            "min_height": null,
            "padding": null,
            "grid_auto_rows": null,
            "grid_gap": null,
            "max_width": null,
            "order": null,
            "_view_module_version": "1.2.0",
            "grid_template_areas": null,
            "object_position": null,
            "object_fit": null,
            "grid_auto_columns": null,
            "margin": null,
            "display": null,
            "left": null
          }
        },
        "adb124aafdbc4d09be5f4f73adc6f65f": {
          "model_module": "@jupyter-widgets/controls",
          "model_name": "HBoxModel",
          "state": {
            "_view_name": "HBoxView",
            "_dom_classes": [],
            "_model_name": "HBoxModel",
            "_view_module": "@jupyter-widgets/controls",
            "_model_module_version": "1.5.0",
            "_view_count": null,
            "_view_module_version": "1.5.0",
            "box_style": "",
            "layout": "IPY_MODEL_01a7b6ea0bfe470c81846d0bbb7aa2e2",
            "_model_module": "@jupyter-widgets/controls",
            "children": [
              "IPY_MODEL_1df9e67e9056464c9cb78ed66daf9b21",
              "IPY_MODEL_6f583aa3885243ec9d20ae58698c6d3f"
            ]
          }
        },
        "01a7b6ea0bfe470c81846d0bbb7aa2e2": {
          "model_module": "@jupyter-widgets/base",
          "model_name": "LayoutModel",
          "state": {
            "_view_name": "LayoutView",
            "grid_template_rows": null,
            "right": null,
            "justify_content": null,
            "_view_module": "@jupyter-widgets/base",
            "overflow": null,
            "_model_module_version": "1.2.0",
            "_view_count": null,
            "flex_flow": null,
            "width": null,
            "min_width": null,
            "border": null,
            "align_items": null,
            "bottom": null,
            "_model_module": "@jupyter-widgets/base",
            "top": null,
            "grid_column": null,
            "overflow_y": null,
            "overflow_x": null,
            "grid_auto_flow": null,
            "grid_area": null,
            "grid_template_columns": null,
            "flex": null,
            "_model_name": "LayoutModel",
            "justify_items": null,
            "grid_row": null,
            "max_height": null,
            "align_content": null,
            "visibility": null,
            "align_self": null,
            "height": null,
            "min_height": null,
            "padding": null,
            "grid_auto_rows": null,
            "grid_gap": null,
            "max_width": null,
            "order": null,
            "_view_module_version": "1.2.0",
            "grid_template_areas": null,
            "object_position": null,
            "object_fit": null,
            "grid_auto_columns": null,
            "margin": null,
            "display": null,
            "left": null
          }
        },
        "1df9e67e9056464c9cb78ed66daf9b21": {
          "model_module": "@jupyter-widgets/controls",
          "model_name": "FloatProgressModel",
          "state": {
            "_view_name": "ProgressView",
            "style": "IPY_MODEL_33a59956db664fb5a218f0fa265f1033",
            "_dom_classes": [],
            "description": "100%",
            "_model_name": "FloatProgressModel",
            "bar_style": "success",
            "max": 4,
            "_view_module": "@jupyter-widgets/controls",
            "_model_module_version": "1.5.0",
            "value": 4,
            "_view_count": null,
            "_view_module_version": "1.5.0",
            "orientation": "horizontal",
            "min": 0,
            "description_tooltip": null,
            "_model_module": "@jupyter-widgets/controls",
            "layout": "IPY_MODEL_2594a27b1a0d44009d900c8d77ca333a"
          }
        },
        "6f583aa3885243ec9d20ae58698c6d3f": {
          "model_module": "@jupyter-widgets/controls",
          "model_name": "HTMLModel",
          "state": {
            "_view_name": "HTMLView",
            "style": "IPY_MODEL_609a6f378d094583a052715b5e15f594",
            "_dom_classes": [],
            "description": "",
            "_model_name": "HTMLModel",
            "placeholder": "​",
            "_view_module": "@jupyter-widgets/controls",
            "_model_module_version": "1.5.0",
            "value": " 4/4 [26:50&lt;00:00, 402.73s/it]",
            "_view_count": null,
            "_view_module_version": "1.5.0",
            "description_tooltip": null,
            "_model_module": "@jupyter-widgets/controls",
            "layout": "IPY_MODEL_14a20901df8e4c5c87f3000c21fc1a11"
          }
        },
        "33a59956db664fb5a218f0fa265f1033": {
          "model_module": "@jupyter-widgets/controls",
          "model_name": "ProgressStyleModel",
          "state": {
            "_view_name": "StyleView",
            "_model_name": "ProgressStyleModel",
            "description_width": "initial",
            "_view_module": "@jupyter-widgets/base",
            "_model_module_version": "1.5.0",
            "_view_count": null,
            "_view_module_version": "1.2.0",
            "bar_color": null,
            "_model_module": "@jupyter-widgets/controls"
          }
        },
        "2594a27b1a0d44009d900c8d77ca333a": {
          "model_module": "@jupyter-widgets/base",
          "model_name": "LayoutModel",
          "state": {
            "_view_name": "LayoutView",
            "grid_template_rows": null,
            "right": null,
            "justify_content": null,
            "_view_module": "@jupyter-widgets/base",
            "overflow": null,
            "_model_module_version": "1.2.0",
            "_view_count": null,
            "flex_flow": null,
            "width": null,
            "min_width": null,
            "border": null,
            "align_items": null,
            "bottom": null,
            "_model_module": "@jupyter-widgets/base",
            "top": null,
            "grid_column": null,
            "overflow_y": null,
            "overflow_x": null,
            "grid_auto_flow": null,
            "grid_area": null,
            "grid_template_columns": null,
            "flex": null,
            "_model_name": "LayoutModel",
            "justify_items": null,
            "grid_row": null,
            "max_height": null,
            "align_content": null,
            "visibility": null,
            "align_self": null,
            "height": null,
            "min_height": null,
            "padding": null,
            "grid_auto_rows": null,
            "grid_gap": null,
            "max_width": null,
            "order": null,
            "_view_module_version": "1.2.0",
            "grid_template_areas": null,
            "object_position": null,
            "object_fit": null,
            "grid_auto_columns": null,
            "margin": null,
            "display": null,
            "left": null
          }
        },
        "609a6f378d094583a052715b5e15f594": {
          "model_module": "@jupyter-widgets/controls",
          "model_name": "DescriptionStyleModel",
          "state": {
            "_view_name": "StyleView",
            "_model_name": "DescriptionStyleModel",
            "description_width": "",
            "_view_module": "@jupyter-widgets/base",
            "_model_module_version": "1.5.0",
            "_view_count": null,
            "_view_module_version": "1.2.0",
            "_model_module": "@jupyter-widgets/controls"
          }
        },
        "14a20901df8e4c5c87f3000c21fc1a11": {
          "model_module": "@jupyter-widgets/base",
          "model_name": "LayoutModel",
          "state": {
            "_view_name": "LayoutView",
            "grid_template_rows": null,
            "right": null,
            "justify_content": null,
            "_view_module": "@jupyter-widgets/base",
            "overflow": null,
            "_model_module_version": "1.2.0",
            "_view_count": null,
            "flex_flow": null,
            "width": null,
            "min_width": null,
            "border": null,
            "align_items": null,
            "bottom": null,
            "_model_module": "@jupyter-widgets/base",
            "top": null,
            "grid_column": null,
            "overflow_y": null,
            "overflow_x": null,
            "grid_auto_flow": null,
            "grid_area": null,
            "grid_template_columns": null,
            "flex": null,
            "_model_name": "LayoutModel",
            "justify_items": null,
            "grid_row": null,
            "max_height": null,
            "align_content": null,
            "visibility": null,
            "align_self": null,
            "height": null,
            "min_height": null,
            "padding": null,
            "grid_auto_rows": null,
            "grid_gap": null,
            "max_width": null,
            "order": null,
            "_view_module_version": "1.2.0",
            "grid_template_areas": null,
            "object_position": null,
            "object_fit": null,
            "grid_auto_columns": null,
            "margin": null,
            "display": null,
            "left": null
          }
        },
        "9b20e70b5980479eb9b18da5fa6709d2": {
          "model_module": "@jupyter-widgets/controls",
          "model_name": "HBoxModel",
          "state": {
            "_view_name": "HBoxView",
            "_dom_classes": [],
            "_model_name": "HBoxModel",
            "_view_module": "@jupyter-widgets/controls",
            "_model_module_version": "1.5.0",
            "_view_count": null,
            "_view_module_version": "1.5.0",
            "box_style": "",
            "layout": "IPY_MODEL_cdb96a18c975409a812fce495263a9e7",
            "_model_module": "@jupyter-widgets/controls",
            "children": [
              "IPY_MODEL_d85ce0809db840099eece5f8028080b6",
              "IPY_MODEL_300a435e3bae425a855023ff89e6d524"
            ]
          }
        },
        "cdb96a18c975409a812fce495263a9e7": {
          "model_module": "@jupyter-widgets/base",
          "model_name": "LayoutModel",
          "state": {
            "_view_name": "LayoutView",
            "grid_template_rows": null,
            "right": null,
            "justify_content": null,
            "_view_module": "@jupyter-widgets/base",
            "overflow": null,
            "_model_module_version": "1.2.0",
            "_view_count": null,
            "flex_flow": null,
            "width": null,
            "min_width": null,
            "border": null,
            "align_items": null,
            "bottom": null,
            "_model_module": "@jupyter-widgets/base",
            "top": null,
            "grid_column": null,
            "overflow_y": null,
            "overflow_x": null,
            "grid_auto_flow": null,
            "grid_area": null,
            "grid_template_columns": null,
            "flex": null,
            "_model_name": "LayoutModel",
            "justify_items": null,
            "grid_row": null,
            "max_height": null,
            "align_content": null,
            "visibility": null,
            "align_self": null,
            "height": null,
            "min_height": null,
            "padding": null,
            "grid_auto_rows": null,
            "grid_gap": null,
            "max_width": null,
            "order": null,
            "_view_module_version": "1.2.0",
            "grid_template_areas": null,
            "object_position": null,
            "object_fit": null,
            "grid_auto_columns": null,
            "margin": null,
            "display": null,
            "left": null
          }
        },
        "d85ce0809db840099eece5f8028080b6": {
          "model_module": "@jupyter-widgets/controls",
          "model_name": "FloatProgressModel",
          "state": {
            "_view_name": "ProgressView",
            "style": "IPY_MODEL_3c46950aa9c44b28bc1e20fce116847b",
            "_dom_classes": [],
            "description": "100%",
            "_model_name": "FloatProgressModel",
            "bar_style": "success",
            "max": 4,
            "_view_module": "@jupyter-widgets/controls",
            "_model_module_version": "1.5.0",
            "value": 4,
            "_view_count": null,
            "_view_module_version": "1.5.0",
            "orientation": "horizontal",
            "min": 0,
            "description_tooltip": null,
            "_model_module": "@jupyter-widgets/controls",
            "layout": "IPY_MODEL_f9c9dadad65a41da86528157ff28d4c1"
          }
        },
        "300a435e3bae425a855023ff89e6d524": {
          "model_module": "@jupyter-widgets/controls",
          "model_name": "HTMLModel",
          "state": {
            "_view_name": "HTMLView",
            "style": "IPY_MODEL_df47a5bc667e407882cee7daa1407162",
            "_dom_classes": [],
            "description": "",
            "_model_name": "HTMLModel",
            "placeholder": "​",
            "_view_module": "@jupyter-widgets/controls",
            "_model_module_version": "1.5.0",
            "value": " 4/4 [14:32&lt;00:00, 218.13s/it]",
            "_view_count": null,
            "_view_module_version": "1.5.0",
            "description_tooltip": null,
            "_model_module": "@jupyter-widgets/controls",
            "layout": "IPY_MODEL_8549717b3a6d4542b4dc5a20f5368a1d"
          }
        },
        "3c46950aa9c44b28bc1e20fce116847b": {
          "model_module": "@jupyter-widgets/controls",
          "model_name": "ProgressStyleModel",
          "state": {
            "_view_name": "StyleView",
            "_model_name": "ProgressStyleModel",
            "description_width": "initial",
            "_view_module": "@jupyter-widgets/base",
            "_model_module_version": "1.5.0",
            "_view_count": null,
            "_view_module_version": "1.2.0",
            "bar_color": null,
            "_model_module": "@jupyter-widgets/controls"
          }
        },
        "f9c9dadad65a41da86528157ff28d4c1": {
          "model_module": "@jupyter-widgets/base",
          "model_name": "LayoutModel",
          "state": {
            "_view_name": "LayoutView",
            "grid_template_rows": null,
            "right": null,
            "justify_content": null,
            "_view_module": "@jupyter-widgets/base",
            "overflow": null,
            "_model_module_version": "1.2.0",
            "_view_count": null,
            "flex_flow": null,
            "width": null,
            "min_width": null,
            "border": null,
            "align_items": null,
            "bottom": null,
            "_model_module": "@jupyter-widgets/base",
            "top": null,
            "grid_column": null,
            "overflow_y": null,
            "overflow_x": null,
            "grid_auto_flow": null,
            "grid_area": null,
            "grid_template_columns": null,
            "flex": null,
            "_model_name": "LayoutModel",
            "justify_items": null,
            "grid_row": null,
            "max_height": null,
            "align_content": null,
            "visibility": null,
            "align_self": null,
            "height": null,
            "min_height": null,
            "padding": null,
            "grid_auto_rows": null,
            "grid_gap": null,
            "max_width": null,
            "order": null,
            "_view_module_version": "1.2.0",
            "grid_template_areas": null,
            "object_position": null,
            "object_fit": null,
            "grid_auto_columns": null,
            "margin": null,
            "display": null,
            "left": null
          }
        },
        "df47a5bc667e407882cee7daa1407162": {
          "model_module": "@jupyter-widgets/controls",
          "model_name": "DescriptionStyleModel",
          "state": {
            "_view_name": "StyleView",
            "_model_name": "DescriptionStyleModel",
            "description_width": "",
            "_view_module": "@jupyter-widgets/base",
            "_model_module_version": "1.5.0",
            "_view_count": null,
            "_view_module_version": "1.2.0",
            "_model_module": "@jupyter-widgets/controls"
          }
        },
        "8549717b3a6d4542b4dc5a20f5368a1d": {
          "model_module": "@jupyter-widgets/base",
          "model_name": "LayoutModel",
          "state": {
            "_view_name": "LayoutView",
            "grid_template_rows": null,
            "right": null,
            "justify_content": null,
            "_view_module": "@jupyter-widgets/base",
            "overflow": null,
            "_model_module_version": "1.2.0",
            "_view_count": null,
            "flex_flow": null,
            "width": null,
            "min_width": null,
            "border": null,
            "align_items": null,
            "bottom": null,
            "_model_module": "@jupyter-widgets/base",
            "top": null,
            "grid_column": null,
            "overflow_y": null,
            "overflow_x": null,
            "grid_auto_flow": null,
            "grid_area": null,
            "grid_template_columns": null,
            "flex": null,
            "_model_name": "LayoutModel",
            "justify_items": null,
            "grid_row": null,
            "max_height": null,
            "align_content": null,
            "visibility": null,
            "align_self": null,
            "height": null,
            "min_height": null,
            "padding": null,
            "grid_auto_rows": null,
            "grid_gap": null,
            "max_width": null,
            "order": null,
            "_view_module_version": "1.2.0",
            "grid_template_areas": null,
            "object_position": null,
            "object_fit": null,
            "grid_auto_columns": null,
            "margin": null,
            "display": null,
            "left": null
          }
        },
        "4cd2e6cc391f48b6983847e1b4155740": {
          "model_module": "@jupyter-widgets/controls",
          "model_name": "HBoxModel",
          "state": {
            "_view_name": "HBoxView",
            "_dom_classes": [],
            "_model_name": "HBoxModel",
            "_view_module": "@jupyter-widgets/controls",
            "_model_module_version": "1.5.0",
            "_view_count": null,
            "_view_module_version": "1.5.0",
            "box_style": "",
            "layout": "IPY_MODEL_0a97fc4298d04ec7836caf6843a6a3e0",
            "_model_module": "@jupyter-widgets/controls",
            "children": [
              "IPY_MODEL_f0c9d31b8202426b9a427b3a243cfc8f",
              "IPY_MODEL_d35ee29454224faa970f143c545ab636"
            ]
          }
        },
        "0a97fc4298d04ec7836caf6843a6a3e0": {
          "model_module": "@jupyter-widgets/base",
          "model_name": "LayoutModel",
          "state": {
            "_view_name": "LayoutView",
            "grid_template_rows": null,
            "right": null,
            "justify_content": null,
            "_view_module": "@jupyter-widgets/base",
            "overflow": null,
            "_model_module_version": "1.2.0",
            "_view_count": null,
            "flex_flow": null,
            "width": null,
            "min_width": null,
            "border": null,
            "align_items": null,
            "bottom": null,
            "_model_module": "@jupyter-widgets/base",
            "top": null,
            "grid_column": null,
            "overflow_y": null,
            "overflow_x": null,
            "grid_auto_flow": null,
            "grid_area": null,
            "grid_template_columns": null,
            "flex": null,
            "_model_name": "LayoutModel",
            "justify_items": null,
            "grid_row": null,
            "max_height": null,
            "align_content": null,
            "visibility": null,
            "align_self": null,
            "height": null,
            "min_height": null,
            "padding": null,
            "grid_auto_rows": null,
            "grid_gap": null,
            "max_width": null,
            "order": null,
            "_view_module_version": "1.2.0",
            "grid_template_areas": null,
            "object_position": null,
            "object_fit": null,
            "grid_auto_columns": null,
            "margin": null,
            "display": null,
            "left": null
          }
        },
        "f0c9d31b8202426b9a427b3a243cfc8f": {
          "model_module": "@jupyter-widgets/controls",
          "model_name": "FloatProgressModel",
          "state": {
            "_view_name": "ProgressView",
            "style": "IPY_MODEL_0849b27517c441c4a8e8a9f84292d8e8",
            "_dom_classes": [],
            "description": "100%",
            "_model_name": "FloatProgressModel",
            "bar_style": "success",
            "max": 4,
            "_view_module": "@jupyter-widgets/controls",
            "_model_module_version": "1.5.0",
            "value": 4,
            "_view_count": null,
            "_view_module_version": "1.5.0",
            "orientation": "horizontal",
            "min": 0,
            "description_tooltip": null,
            "_model_module": "@jupyter-widgets/controls",
            "layout": "IPY_MODEL_2ccb9ebcef574e5d98b86bf1ecbb0bfa"
          }
        },
        "d35ee29454224faa970f143c545ab636": {
          "model_module": "@jupyter-widgets/controls",
          "model_name": "HTMLModel",
          "state": {
            "_view_name": "HTMLView",
            "style": "IPY_MODEL_2f522031183b44aa8e4d07f5d5c91dfa",
            "_dom_classes": [],
            "description": "",
            "_model_name": "HTMLModel",
            "placeholder": "​",
            "_view_module": "@jupyter-widgets/controls",
            "_model_module_version": "1.5.0",
            "value": " 4/4 [11:03&lt;00:00, 165.98s/it]",
            "_view_count": null,
            "_view_module_version": "1.5.0",
            "description_tooltip": null,
            "_model_module": "@jupyter-widgets/controls",
            "layout": "IPY_MODEL_6afeeef201784970b77c7c773e28d320"
          }
        },
        "0849b27517c441c4a8e8a9f84292d8e8": {
          "model_module": "@jupyter-widgets/controls",
          "model_name": "ProgressStyleModel",
          "state": {
            "_view_name": "StyleView",
            "_model_name": "ProgressStyleModel",
            "description_width": "initial",
            "_view_module": "@jupyter-widgets/base",
            "_model_module_version": "1.5.0",
            "_view_count": null,
            "_view_module_version": "1.2.0",
            "bar_color": null,
            "_model_module": "@jupyter-widgets/controls"
          }
        },
        "2ccb9ebcef574e5d98b86bf1ecbb0bfa": {
          "model_module": "@jupyter-widgets/base",
          "model_name": "LayoutModel",
          "state": {
            "_view_name": "LayoutView",
            "grid_template_rows": null,
            "right": null,
            "justify_content": null,
            "_view_module": "@jupyter-widgets/base",
            "overflow": null,
            "_model_module_version": "1.2.0",
            "_view_count": null,
            "flex_flow": null,
            "width": null,
            "min_width": null,
            "border": null,
            "align_items": null,
            "bottom": null,
            "_model_module": "@jupyter-widgets/base",
            "top": null,
            "grid_column": null,
            "overflow_y": null,
            "overflow_x": null,
            "grid_auto_flow": null,
            "grid_area": null,
            "grid_template_columns": null,
            "flex": null,
            "_model_name": "LayoutModel",
            "justify_items": null,
            "grid_row": null,
            "max_height": null,
            "align_content": null,
            "visibility": null,
            "align_self": null,
            "height": null,
            "min_height": null,
            "padding": null,
            "grid_auto_rows": null,
            "grid_gap": null,
            "max_width": null,
            "order": null,
            "_view_module_version": "1.2.0",
            "grid_template_areas": null,
            "object_position": null,
            "object_fit": null,
            "grid_auto_columns": null,
            "margin": null,
            "display": null,
            "left": null
          }
        },
        "2f522031183b44aa8e4d07f5d5c91dfa": {
          "model_module": "@jupyter-widgets/controls",
          "model_name": "DescriptionStyleModel",
          "state": {
            "_view_name": "StyleView",
            "_model_name": "DescriptionStyleModel",
            "description_width": "",
            "_view_module": "@jupyter-widgets/base",
            "_model_module_version": "1.5.0",
            "_view_count": null,
            "_view_module_version": "1.2.0",
            "_model_module": "@jupyter-widgets/controls"
          }
        },
        "6afeeef201784970b77c7c773e28d320": {
          "model_module": "@jupyter-widgets/base",
          "model_name": "LayoutModel",
          "state": {
            "_view_name": "LayoutView",
            "grid_template_rows": null,
            "right": null,
            "justify_content": null,
            "_view_module": "@jupyter-widgets/base",
            "overflow": null,
            "_model_module_version": "1.2.0",
            "_view_count": null,
            "flex_flow": null,
            "width": null,
            "min_width": null,
            "border": null,
            "align_items": null,
            "bottom": null,
            "_model_module": "@jupyter-widgets/base",
            "top": null,
            "grid_column": null,
            "overflow_y": null,
            "overflow_x": null,
            "grid_auto_flow": null,
            "grid_area": null,
            "grid_template_columns": null,
            "flex": null,
            "_model_name": "LayoutModel",
            "justify_items": null,
            "grid_row": null,
            "max_height": null,
            "align_content": null,
            "visibility": null,
            "align_self": null,
            "height": null,
            "min_height": null,
            "padding": null,
            "grid_auto_rows": null,
            "grid_gap": null,
            "max_width": null,
            "order": null,
            "_view_module_version": "1.2.0",
            "grid_template_areas": null,
            "object_position": null,
            "object_fit": null,
            "grid_auto_columns": null,
            "margin": null,
            "display": null,
            "left": null
          }
        },
        "259ae58111254a06b02b75f81511afc7": {
          "model_module": "@jupyter-widgets/controls",
          "model_name": "HBoxModel",
          "state": {
            "_view_name": "HBoxView",
            "_dom_classes": [],
            "_model_name": "HBoxModel",
            "_view_module": "@jupyter-widgets/controls",
            "_model_module_version": "1.5.0",
            "_view_count": null,
            "_view_module_version": "1.5.0",
            "box_style": "",
            "layout": "IPY_MODEL_6c8ae409dcd745ee9efab8444cc3ac30",
            "_model_module": "@jupyter-widgets/controls",
            "children": [
              "IPY_MODEL_1dbb369594b444d4b6a42f18ca424972",
              "IPY_MODEL_3c8c1a2a9c02468894a04523c6465565"
            ]
          }
        },
        "6c8ae409dcd745ee9efab8444cc3ac30": {
          "model_module": "@jupyter-widgets/base",
          "model_name": "LayoutModel",
          "state": {
            "_view_name": "LayoutView",
            "grid_template_rows": null,
            "right": null,
            "justify_content": null,
            "_view_module": "@jupyter-widgets/base",
            "overflow": null,
            "_model_module_version": "1.2.0",
            "_view_count": null,
            "flex_flow": null,
            "width": null,
            "min_width": null,
            "border": null,
            "align_items": null,
            "bottom": null,
            "_model_module": "@jupyter-widgets/base",
            "top": null,
            "grid_column": null,
            "overflow_y": null,
            "overflow_x": null,
            "grid_auto_flow": null,
            "grid_area": null,
            "grid_template_columns": null,
            "flex": null,
            "_model_name": "LayoutModel",
            "justify_items": null,
            "grid_row": null,
            "max_height": null,
            "align_content": null,
            "visibility": null,
            "align_self": null,
            "height": null,
            "min_height": null,
            "padding": null,
            "grid_auto_rows": null,
            "grid_gap": null,
            "max_width": null,
            "order": null,
            "_view_module_version": "1.2.0",
            "grid_template_areas": null,
            "object_position": null,
            "object_fit": null,
            "grid_auto_columns": null,
            "margin": null,
            "display": null,
            "left": null
          }
        },
        "1dbb369594b444d4b6a42f18ca424972": {
          "model_module": "@jupyter-widgets/controls",
          "model_name": "FloatProgressModel",
          "state": {
            "_view_name": "ProgressView",
            "style": "IPY_MODEL_6d8c9f94527d43debc2ac75dc853d80d",
            "_dom_classes": [],
            "description": "100%",
            "_model_name": "FloatProgressModel",
            "bar_style": "success",
            "max": 4,
            "_view_module": "@jupyter-widgets/controls",
            "_model_module_version": "1.5.0",
            "value": 4,
            "_view_count": null,
            "_view_module_version": "1.5.0",
            "orientation": "horizontal",
            "min": 0,
            "description_tooltip": null,
            "_model_module": "@jupyter-widgets/controls",
            "layout": "IPY_MODEL_43c6639c9a6d484b9e461e3266670247"
          }
        },
        "3c8c1a2a9c02468894a04523c6465565": {
          "model_module": "@jupyter-widgets/controls",
          "model_name": "HTMLModel",
          "state": {
            "_view_name": "HTMLView",
            "style": "IPY_MODEL_2f577498e7c444eeb13940caa0accd1d",
            "_dom_classes": [],
            "description": "",
            "_model_name": "HTMLModel",
            "placeholder": "​",
            "_view_module": "@jupyter-widgets/controls",
            "_model_module_version": "1.5.0",
            "value": " 4/4 [05:03&lt;00:00, 75.76s/it]",
            "_view_count": null,
            "_view_module_version": "1.5.0",
            "description_tooltip": null,
            "_model_module": "@jupyter-widgets/controls",
            "layout": "IPY_MODEL_0acbd2512cf3450092db7ae81087bdc1"
          }
        },
        "6d8c9f94527d43debc2ac75dc853d80d": {
          "model_module": "@jupyter-widgets/controls",
          "model_name": "ProgressStyleModel",
          "state": {
            "_view_name": "StyleView",
            "_model_name": "ProgressStyleModel",
            "description_width": "initial",
            "_view_module": "@jupyter-widgets/base",
            "_model_module_version": "1.5.0",
            "_view_count": null,
            "_view_module_version": "1.2.0",
            "bar_color": null,
            "_model_module": "@jupyter-widgets/controls"
          }
        },
        "43c6639c9a6d484b9e461e3266670247": {
          "model_module": "@jupyter-widgets/base",
          "model_name": "LayoutModel",
          "state": {
            "_view_name": "LayoutView",
            "grid_template_rows": null,
            "right": null,
            "justify_content": null,
            "_view_module": "@jupyter-widgets/base",
            "overflow": null,
            "_model_module_version": "1.2.0",
            "_view_count": null,
            "flex_flow": null,
            "width": null,
            "min_width": null,
            "border": null,
            "align_items": null,
            "bottom": null,
            "_model_module": "@jupyter-widgets/base",
            "top": null,
            "grid_column": null,
            "overflow_y": null,
            "overflow_x": null,
            "grid_auto_flow": null,
            "grid_area": null,
            "grid_template_columns": null,
            "flex": null,
            "_model_name": "LayoutModel",
            "justify_items": null,
            "grid_row": null,
            "max_height": null,
            "align_content": null,
            "visibility": null,
            "align_self": null,
            "height": null,
            "min_height": null,
            "padding": null,
            "grid_auto_rows": null,
            "grid_gap": null,
            "max_width": null,
            "order": null,
            "_view_module_version": "1.2.0",
            "grid_template_areas": null,
            "object_position": null,
            "object_fit": null,
            "grid_auto_columns": null,
            "margin": null,
            "display": null,
            "left": null
          }
        },
        "2f577498e7c444eeb13940caa0accd1d": {
          "model_module": "@jupyter-widgets/controls",
          "model_name": "DescriptionStyleModel",
          "state": {
            "_view_name": "StyleView",
            "_model_name": "DescriptionStyleModel",
            "description_width": "",
            "_view_module": "@jupyter-widgets/base",
            "_model_module_version": "1.5.0",
            "_view_count": null,
            "_view_module_version": "1.2.0",
            "_model_module": "@jupyter-widgets/controls"
          }
        },
        "0acbd2512cf3450092db7ae81087bdc1": {
          "model_module": "@jupyter-widgets/base",
          "model_name": "LayoutModel",
          "state": {
            "_view_name": "LayoutView",
            "grid_template_rows": null,
            "right": null,
            "justify_content": null,
            "_view_module": "@jupyter-widgets/base",
            "overflow": null,
            "_model_module_version": "1.2.0",
            "_view_count": null,
            "flex_flow": null,
            "width": null,
            "min_width": null,
            "border": null,
            "align_items": null,
            "bottom": null,
            "_model_module": "@jupyter-widgets/base",
            "top": null,
            "grid_column": null,
            "overflow_y": null,
            "overflow_x": null,
            "grid_auto_flow": null,
            "grid_area": null,
            "grid_template_columns": null,
            "flex": null,
            "_model_name": "LayoutModel",
            "justify_items": null,
            "grid_row": null,
            "max_height": null,
            "align_content": null,
            "visibility": null,
            "align_self": null,
            "height": null,
            "min_height": null,
            "padding": null,
            "grid_auto_rows": null,
            "grid_gap": null,
            "max_width": null,
            "order": null,
            "_view_module_version": "1.2.0",
            "grid_template_areas": null,
            "object_position": null,
            "object_fit": null,
            "grid_auto_columns": null,
            "margin": null,
            "display": null,
            "left": null
          }
        },
        "a1c163683d47448d9ec7f0f5e61ca2ea": {
          "model_module": "@jupyter-widgets/controls",
          "model_name": "HBoxModel",
          "state": {
            "_view_name": "HBoxView",
            "_dom_classes": [],
            "_model_name": "HBoxModel",
            "_view_module": "@jupyter-widgets/controls",
            "_model_module_version": "1.5.0",
            "_view_count": null,
            "_view_module_version": "1.5.0",
            "box_style": "",
            "layout": "IPY_MODEL_74885b3d7ae643cd92c85e89a522efce",
            "_model_module": "@jupyter-widgets/controls",
            "children": [
              "IPY_MODEL_50d8a0728b3b476c824f076e1de5553c",
              "IPY_MODEL_17c0908767a446a394d2fce93963b053"
            ]
          }
        },
        "74885b3d7ae643cd92c85e89a522efce": {
          "model_module": "@jupyter-widgets/base",
          "model_name": "LayoutModel",
          "state": {
            "_view_name": "LayoutView",
            "grid_template_rows": null,
            "right": null,
            "justify_content": null,
            "_view_module": "@jupyter-widgets/base",
            "overflow": null,
            "_model_module_version": "1.2.0",
            "_view_count": null,
            "flex_flow": null,
            "width": null,
            "min_width": null,
            "border": null,
            "align_items": null,
            "bottom": null,
            "_model_module": "@jupyter-widgets/base",
            "top": null,
            "grid_column": null,
            "overflow_y": null,
            "overflow_x": null,
            "grid_auto_flow": null,
            "grid_area": null,
            "grid_template_columns": null,
            "flex": null,
            "_model_name": "LayoutModel",
            "justify_items": null,
            "grid_row": null,
            "max_height": null,
            "align_content": null,
            "visibility": null,
            "align_self": null,
            "height": null,
            "min_height": null,
            "padding": null,
            "grid_auto_rows": null,
            "grid_gap": null,
            "max_width": null,
            "order": null,
            "_view_module_version": "1.2.0",
            "grid_template_areas": null,
            "object_position": null,
            "object_fit": null,
            "grid_auto_columns": null,
            "margin": null,
            "display": null,
            "left": null
          }
        },
        "50d8a0728b3b476c824f076e1de5553c": {
          "model_module": "@jupyter-widgets/controls",
          "model_name": "FloatProgressModel",
          "state": {
            "_view_name": "ProgressView",
            "style": "IPY_MODEL_fe714142bfbb4d108a3799e4a431f20b",
            "_dom_classes": [],
            "description": "100%",
            "_model_name": "FloatProgressModel",
            "bar_style": "success",
            "max": 4,
            "_view_module": "@jupyter-widgets/controls",
            "_model_module_version": "1.5.0",
            "value": 4,
            "_view_count": null,
            "_view_module_version": "1.5.0",
            "orientation": "horizontal",
            "min": 0,
            "description_tooltip": null,
            "_model_module": "@jupyter-widgets/controls",
            "layout": "IPY_MODEL_3d0b2eb20ef642e1afbda54a406e0fac"
          }
        },
        "17c0908767a446a394d2fce93963b053": {
          "model_module": "@jupyter-widgets/controls",
          "model_name": "HTMLModel",
          "state": {
            "_view_name": "HTMLView",
            "style": "IPY_MODEL_d026e44a95f64a0eab79185461cb24e1",
            "_dom_classes": [],
            "description": "",
            "_model_name": "HTMLModel",
            "placeholder": "​",
            "_view_module": "@jupyter-widgets/controls",
            "_model_module_version": "1.5.0",
            "value": " 4/4 [04:20&lt;00:00, 65.18s/it]",
            "_view_count": null,
            "_view_module_version": "1.5.0",
            "description_tooltip": null,
            "_model_module": "@jupyter-widgets/controls",
            "layout": "IPY_MODEL_21f08c861a014ae593a1c2be3c7ad273"
          }
        },
        "fe714142bfbb4d108a3799e4a431f20b": {
          "model_module": "@jupyter-widgets/controls",
          "model_name": "ProgressStyleModel",
          "state": {
            "_view_name": "StyleView",
            "_model_name": "ProgressStyleModel",
            "description_width": "initial",
            "_view_module": "@jupyter-widgets/base",
            "_model_module_version": "1.5.0",
            "_view_count": null,
            "_view_module_version": "1.2.0",
            "bar_color": null,
            "_model_module": "@jupyter-widgets/controls"
          }
        },
        "3d0b2eb20ef642e1afbda54a406e0fac": {
          "model_module": "@jupyter-widgets/base",
          "model_name": "LayoutModel",
          "state": {
            "_view_name": "LayoutView",
            "grid_template_rows": null,
            "right": null,
            "justify_content": null,
            "_view_module": "@jupyter-widgets/base",
            "overflow": null,
            "_model_module_version": "1.2.0",
            "_view_count": null,
            "flex_flow": null,
            "width": null,
            "min_width": null,
            "border": null,
            "align_items": null,
            "bottom": null,
            "_model_module": "@jupyter-widgets/base",
            "top": null,
            "grid_column": null,
            "overflow_y": null,
            "overflow_x": null,
            "grid_auto_flow": null,
            "grid_area": null,
            "grid_template_columns": null,
            "flex": null,
            "_model_name": "LayoutModel",
            "justify_items": null,
            "grid_row": null,
            "max_height": null,
            "align_content": null,
            "visibility": null,
            "align_self": null,
            "height": null,
            "min_height": null,
            "padding": null,
            "grid_auto_rows": null,
            "grid_gap": null,
            "max_width": null,
            "order": null,
            "_view_module_version": "1.2.0",
            "grid_template_areas": null,
            "object_position": null,
            "object_fit": null,
            "grid_auto_columns": null,
            "margin": null,
            "display": null,
            "left": null
          }
        },
        "d026e44a95f64a0eab79185461cb24e1": {
          "model_module": "@jupyter-widgets/controls",
          "model_name": "DescriptionStyleModel",
          "state": {
            "_view_name": "StyleView",
            "_model_name": "DescriptionStyleModel",
            "description_width": "",
            "_view_module": "@jupyter-widgets/base",
            "_model_module_version": "1.5.0",
            "_view_count": null,
            "_view_module_version": "1.2.0",
            "_model_module": "@jupyter-widgets/controls"
          }
        },
        "21f08c861a014ae593a1c2be3c7ad273": {
          "model_module": "@jupyter-widgets/base",
          "model_name": "LayoutModel",
          "state": {
            "_view_name": "LayoutView",
            "grid_template_rows": null,
            "right": null,
            "justify_content": null,
            "_view_module": "@jupyter-widgets/base",
            "overflow": null,
            "_model_module_version": "1.2.0",
            "_view_count": null,
            "flex_flow": null,
            "width": null,
            "min_width": null,
            "border": null,
            "align_items": null,
            "bottom": null,
            "_model_module": "@jupyter-widgets/base",
            "top": null,
            "grid_column": null,
            "overflow_y": null,
            "overflow_x": null,
            "grid_auto_flow": null,
            "grid_area": null,
            "grid_template_columns": null,
            "flex": null,
            "_model_name": "LayoutModel",
            "justify_items": null,
            "grid_row": null,
            "max_height": null,
            "align_content": null,
            "visibility": null,
            "align_self": null,
            "height": null,
            "min_height": null,
            "padding": null,
            "grid_auto_rows": null,
            "grid_gap": null,
            "max_width": null,
            "order": null,
            "_view_module_version": "1.2.0",
            "grid_template_areas": null,
            "object_position": null,
            "object_fit": null,
            "grid_auto_columns": null,
            "margin": null,
            "display": null,
            "left": null
          }
        },
        "8d6c8bfdc4dd480296a4e9541fe01ce3": {
          "model_module": "@jupyter-widgets/controls",
          "model_name": "HBoxModel",
          "state": {
            "_view_name": "HBoxView",
            "_dom_classes": [],
            "_model_name": "HBoxModel",
            "_view_module": "@jupyter-widgets/controls",
            "_model_module_version": "1.5.0",
            "_view_count": null,
            "_view_module_version": "1.5.0",
            "box_style": "",
            "layout": "IPY_MODEL_a17f738181684c5e893a00956822df3c",
            "_model_module": "@jupyter-widgets/controls",
            "children": [
              "IPY_MODEL_9921d4c3355d416dbebb3cc1a225524b",
              "IPY_MODEL_904f5fb61ebe4a699531caf831472be9"
            ]
          }
        },
        "a17f738181684c5e893a00956822df3c": {
          "model_module": "@jupyter-widgets/base",
          "model_name": "LayoutModel",
          "state": {
            "_view_name": "LayoutView",
            "grid_template_rows": null,
            "right": null,
            "justify_content": null,
            "_view_module": "@jupyter-widgets/base",
            "overflow": null,
            "_model_module_version": "1.2.0",
            "_view_count": null,
            "flex_flow": null,
            "width": null,
            "min_width": null,
            "border": null,
            "align_items": null,
            "bottom": null,
            "_model_module": "@jupyter-widgets/base",
            "top": null,
            "grid_column": null,
            "overflow_y": null,
            "overflow_x": null,
            "grid_auto_flow": null,
            "grid_area": null,
            "grid_template_columns": null,
            "flex": null,
            "_model_name": "LayoutModel",
            "justify_items": null,
            "grid_row": null,
            "max_height": null,
            "align_content": null,
            "visibility": null,
            "align_self": null,
            "height": null,
            "min_height": null,
            "padding": null,
            "grid_auto_rows": null,
            "grid_gap": null,
            "max_width": null,
            "order": null,
            "_view_module_version": "1.2.0",
            "grid_template_areas": null,
            "object_position": null,
            "object_fit": null,
            "grid_auto_columns": null,
            "margin": null,
            "display": null,
            "left": null
          }
        },
        "9921d4c3355d416dbebb3cc1a225524b": {
          "model_module": "@jupyter-widgets/controls",
          "model_name": "FloatProgressModel",
          "state": {
            "_view_name": "ProgressView",
            "style": "IPY_MODEL_7065719171c647b99998b63da05cbcb1",
            "_dom_classes": [],
            "description": "100%",
            "_model_name": "FloatProgressModel",
            "bar_style": "success",
            "max": 4,
            "_view_module": "@jupyter-widgets/controls",
            "_model_module_version": "1.5.0",
            "value": 4,
            "_view_count": null,
            "_view_module_version": "1.5.0",
            "orientation": "horizontal",
            "min": 0,
            "description_tooltip": null,
            "_model_module": "@jupyter-widgets/controls",
            "layout": "IPY_MODEL_496cf5d38e854dd0a600b8530a3f9706"
          }
        },
        "904f5fb61ebe4a699531caf831472be9": {
          "model_module": "@jupyter-widgets/controls",
          "model_name": "HTMLModel",
          "state": {
            "_view_name": "HTMLView",
            "style": "IPY_MODEL_b432b64f18834a708642e0a9f01d989f",
            "_dom_classes": [],
            "description": "",
            "_model_name": "HTMLModel",
            "placeholder": "​",
            "_view_module": "@jupyter-widgets/controls",
            "_model_module_version": "1.5.0",
            "value": " 4/4 [01:39&lt;00:00, 24.83s/it]",
            "_view_count": null,
            "_view_module_version": "1.5.0",
            "description_tooltip": null,
            "_model_module": "@jupyter-widgets/controls",
            "layout": "IPY_MODEL_7e8a1f87d35341fbb35ca2db889fe81d"
          }
        },
        "7065719171c647b99998b63da05cbcb1": {
          "model_module": "@jupyter-widgets/controls",
          "model_name": "ProgressStyleModel",
          "state": {
            "_view_name": "StyleView",
            "_model_name": "ProgressStyleModel",
            "description_width": "initial",
            "_view_module": "@jupyter-widgets/base",
            "_model_module_version": "1.5.0",
            "_view_count": null,
            "_view_module_version": "1.2.0",
            "bar_color": null,
            "_model_module": "@jupyter-widgets/controls"
          }
        },
        "496cf5d38e854dd0a600b8530a3f9706": {
          "model_module": "@jupyter-widgets/base",
          "model_name": "LayoutModel",
          "state": {
            "_view_name": "LayoutView",
            "grid_template_rows": null,
            "right": null,
            "justify_content": null,
            "_view_module": "@jupyter-widgets/base",
            "overflow": null,
            "_model_module_version": "1.2.0",
            "_view_count": null,
            "flex_flow": null,
            "width": null,
            "min_width": null,
            "border": null,
            "align_items": null,
            "bottom": null,
            "_model_module": "@jupyter-widgets/base",
            "top": null,
            "grid_column": null,
            "overflow_y": null,
            "overflow_x": null,
            "grid_auto_flow": null,
            "grid_area": null,
            "grid_template_columns": null,
            "flex": null,
            "_model_name": "LayoutModel",
            "justify_items": null,
            "grid_row": null,
            "max_height": null,
            "align_content": null,
            "visibility": null,
            "align_self": null,
            "height": null,
            "min_height": null,
            "padding": null,
            "grid_auto_rows": null,
            "grid_gap": null,
            "max_width": null,
            "order": null,
            "_view_module_version": "1.2.0",
            "grid_template_areas": null,
            "object_position": null,
            "object_fit": null,
            "grid_auto_columns": null,
            "margin": null,
            "display": null,
            "left": null
          }
        },
        "b432b64f18834a708642e0a9f01d989f": {
          "model_module": "@jupyter-widgets/controls",
          "model_name": "DescriptionStyleModel",
          "state": {
            "_view_name": "StyleView",
            "_model_name": "DescriptionStyleModel",
            "description_width": "",
            "_view_module": "@jupyter-widgets/base",
            "_model_module_version": "1.5.0",
            "_view_count": null,
            "_view_module_version": "1.2.0",
            "_model_module": "@jupyter-widgets/controls"
          }
        },
        "7e8a1f87d35341fbb35ca2db889fe81d": {
          "model_module": "@jupyter-widgets/base",
          "model_name": "LayoutModel",
          "state": {
            "_view_name": "LayoutView",
            "grid_template_rows": null,
            "right": null,
            "justify_content": null,
            "_view_module": "@jupyter-widgets/base",
            "overflow": null,
            "_model_module_version": "1.2.0",
            "_view_count": null,
            "flex_flow": null,
            "width": null,
            "min_width": null,
            "border": null,
            "align_items": null,
            "bottom": null,
            "_model_module": "@jupyter-widgets/base",
            "top": null,
            "grid_column": null,
            "overflow_y": null,
            "overflow_x": null,
            "grid_auto_flow": null,
            "grid_area": null,
            "grid_template_columns": null,
            "flex": null,
            "_model_name": "LayoutModel",
            "justify_items": null,
            "grid_row": null,
            "max_height": null,
            "align_content": null,
            "visibility": null,
            "align_self": null,
            "height": null,
            "min_height": null,
            "padding": null,
            "grid_auto_rows": null,
            "grid_gap": null,
            "max_width": null,
            "order": null,
            "_view_module_version": "1.2.0",
            "grid_template_areas": null,
            "object_position": null,
            "object_fit": null,
            "grid_auto_columns": null,
            "margin": null,
            "display": null,
            "left": null
          }
        },
        "99a5c124062c47bf8e393f5d3735b8a8": {
          "model_module": "@jupyter-widgets/controls",
          "model_name": "HBoxModel",
          "state": {
            "_view_name": "HBoxView",
            "_dom_classes": [],
            "_model_name": "HBoxModel",
            "_view_module": "@jupyter-widgets/controls",
            "_model_module_version": "1.5.0",
            "_view_count": null,
            "_view_module_version": "1.5.0",
            "box_style": "",
            "layout": "IPY_MODEL_bd169c50ed984fda91e429a94461eb70",
            "_model_module": "@jupyter-widgets/controls",
            "children": [
              "IPY_MODEL_8414766e2344459b9ace20ca41859637",
              "IPY_MODEL_607aa41a25a84d7bad08ddd3bdc87977"
            ]
          }
        },
        "bd169c50ed984fda91e429a94461eb70": {
          "model_module": "@jupyter-widgets/base",
          "model_name": "LayoutModel",
          "state": {
            "_view_name": "LayoutView",
            "grid_template_rows": null,
            "right": null,
            "justify_content": null,
            "_view_module": "@jupyter-widgets/base",
            "overflow": null,
            "_model_module_version": "1.2.0",
            "_view_count": null,
            "flex_flow": null,
            "width": null,
            "min_width": null,
            "border": null,
            "align_items": null,
            "bottom": null,
            "_model_module": "@jupyter-widgets/base",
            "top": null,
            "grid_column": null,
            "overflow_y": null,
            "overflow_x": null,
            "grid_auto_flow": null,
            "grid_area": null,
            "grid_template_columns": null,
            "flex": null,
            "_model_name": "LayoutModel",
            "justify_items": null,
            "grid_row": null,
            "max_height": null,
            "align_content": null,
            "visibility": null,
            "align_self": null,
            "height": null,
            "min_height": null,
            "padding": null,
            "grid_auto_rows": null,
            "grid_gap": null,
            "max_width": null,
            "order": null,
            "_view_module_version": "1.2.0",
            "grid_template_areas": null,
            "object_position": null,
            "object_fit": null,
            "grid_auto_columns": null,
            "margin": null,
            "display": null,
            "left": null
          }
        },
        "8414766e2344459b9ace20ca41859637": {
          "model_module": "@jupyter-widgets/controls",
          "model_name": "FloatProgressModel",
          "state": {
            "_view_name": "ProgressView",
            "style": "IPY_MODEL_c4c81251b55e4961af0ee224e569b56e",
            "_dom_classes": [],
            "description": "100%",
            "_model_name": "FloatProgressModel",
            "bar_style": "success",
            "max": 4,
            "_view_module": "@jupyter-widgets/controls",
            "_model_module_version": "1.5.0",
            "value": 4,
            "_view_count": null,
            "_view_module_version": "1.5.0",
            "orientation": "horizontal",
            "min": 0,
            "description_tooltip": null,
            "_model_module": "@jupyter-widgets/controls",
            "layout": "IPY_MODEL_ed80e73e8cf2442da904bc6417baa708"
          }
        },
        "607aa41a25a84d7bad08ddd3bdc87977": {
          "model_module": "@jupyter-widgets/controls",
          "model_name": "HTMLModel",
          "state": {
            "_view_name": "HTMLView",
            "style": "IPY_MODEL_612971d91bd4460c8ce9ef5a3cd6d4e3",
            "_dom_classes": [],
            "description": "",
            "_model_name": "HTMLModel",
            "placeholder": "​",
            "_view_module": "@jupyter-widgets/controls",
            "_model_module_version": "1.5.0",
            "value": " 4/4 [00:49&lt;00:00, 12.26s/it]",
            "_view_count": null,
            "_view_module_version": "1.5.0",
            "description_tooltip": null,
            "_model_module": "@jupyter-widgets/controls",
            "layout": "IPY_MODEL_9c24c2e1ff9643f2b4071a288d024e8a"
          }
        },
        "c4c81251b55e4961af0ee224e569b56e": {
          "model_module": "@jupyter-widgets/controls",
          "model_name": "ProgressStyleModel",
          "state": {
            "_view_name": "StyleView",
            "_model_name": "ProgressStyleModel",
            "description_width": "initial",
            "_view_module": "@jupyter-widgets/base",
            "_model_module_version": "1.5.0",
            "_view_count": null,
            "_view_module_version": "1.2.0",
            "bar_color": null,
            "_model_module": "@jupyter-widgets/controls"
          }
        },
        "ed80e73e8cf2442da904bc6417baa708": {
          "model_module": "@jupyter-widgets/base",
          "model_name": "LayoutModel",
          "state": {
            "_view_name": "LayoutView",
            "grid_template_rows": null,
            "right": null,
            "justify_content": null,
            "_view_module": "@jupyter-widgets/base",
            "overflow": null,
            "_model_module_version": "1.2.0",
            "_view_count": null,
            "flex_flow": null,
            "width": null,
            "min_width": null,
            "border": null,
            "align_items": null,
            "bottom": null,
            "_model_module": "@jupyter-widgets/base",
            "top": null,
            "grid_column": null,
            "overflow_y": null,
            "overflow_x": null,
            "grid_auto_flow": null,
            "grid_area": null,
            "grid_template_columns": null,
            "flex": null,
            "_model_name": "LayoutModel",
            "justify_items": null,
            "grid_row": null,
            "max_height": null,
            "align_content": null,
            "visibility": null,
            "align_self": null,
            "height": null,
            "min_height": null,
            "padding": null,
            "grid_auto_rows": null,
            "grid_gap": null,
            "max_width": null,
            "order": null,
            "_view_module_version": "1.2.0",
            "grid_template_areas": null,
            "object_position": null,
            "object_fit": null,
            "grid_auto_columns": null,
            "margin": null,
            "display": null,
            "left": null
          }
        },
        "612971d91bd4460c8ce9ef5a3cd6d4e3": {
          "model_module": "@jupyter-widgets/controls",
          "model_name": "DescriptionStyleModel",
          "state": {
            "_view_name": "StyleView",
            "_model_name": "DescriptionStyleModel",
            "description_width": "",
            "_view_module": "@jupyter-widgets/base",
            "_model_module_version": "1.5.0",
            "_view_count": null,
            "_view_module_version": "1.2.0",
            "_model_module": "@jupyter-widgets/controls"
          }
        },
        "9c24c2e1ff9643f2b4071a288d024e8a": {
          "model_module": "@jupyter-widgets/base",
          "model_name": "LayoutModel",
          "state": {
            "_view_name": "LayoutView",
            "grid_template_rows": null,
            "right": null,
            "justify_content": null,
            "_view_module": "@jupyter-widgets/base",
            "overflow": null,
            "_model_module_version": "1.2.0",
            "_view_count": null,
            "flex_flow": null,
            "width": null,
            "min_width": null,
            "border": null,
            "align_items": null,
            "bottom": null,
            "_model_module": "@jupyter-widgets/base",
            "top": null,
            "grid_column": null,
            "overflow_y": null,
            "overflow_x": null,
            "grid_auto_flow": null,
            "grid_area": null,
            "grid_template_columns": null,
            "flex": null,
            "_model_name": "LayoutModel",
            "justify_items": null,
            "grid_row": null,
            "max_height": null,
            "align_content": null,
            "visibility": null,
            "align_self": null,
            "height": null,
            "min_height": null,
            "padding": null,
            "grid_auto_rows": null,
            "grid_gap": null,
            "max_width": null,
            "order": null,
            "_view_module_version": "1.2.0",
            "grid_template_areas": null,
            "object_position": null,
            "object_fit": null,
            "grid_auto_columns": null,
            "margin": null,
            "display": null,
            "left": null
          }
        },
        "3950f355ad3c416fb9c74a5ff76fa959": {
          "model_module": "@jupyter-widgets/controls",
          "model_name": "HBoxModel",
          "state": {
            "_view_name": "HBoxView",
            "_dom_classes": [],
            "_model_name": "HBoxModel",
            "_view_module": "@jupyter-widgets/controls",
            "_model_module_version": "1.5.0",
            "_view_count": null,
            "_view_module_version": "1.5.0",
            "box_style": "",
            "layout": "IPY_MODEL_e7e50b3212854001a809366e5744ad5d",
            "_model_module": "@jupyter-widgets/controls",
            "children": [
              "IPY_MODEL_57006c7846e14debb73903e798a00c98",
              "IPY_MODEL_e40ccc9fd32c40a8a895ea09442590e2"
            ]
          }
        },
        "e7e50b3212854001a809366e5744ad5d": {
          "model_module": "@jupyter-widgets/base",
          "model_name": "LayoutModel",
          "state": {
            "_view_name": "LayoutView",
            "grid_template_rows": null,
            "right": null,
            "justify_content": null,
            "_view_module": "@jupyter-widgets/base",
            "overflow": null,
            "_model_module_version": "1.2.0",
            "_view_count": null,
            "flex_flow": null,
            "width": null,
            "min_width": null,
            "border": null,
            "align_items": null,
            "bottom": null,
            "_model_module": "@jupyter-widgets/base",
            "top": null,
            "grid_column": null,
            "overflow_y": null,
            "overflow_x": null,
            "grid_auto_flow": null,
            "grid_area": null,
            "grid_template_columns": null,
            "flex": null,
            "_model_name": "LayoutModel",
            "justify_items": null,
            "grid_row": null,
            "max_height": null,
            "align_content": null,
            "visibility": null,
            "align_self": null,
            "height": null,
            "min_height": null,
            "padding": null,
            "grid_auto_rows": null,
            "grid_gap": null,
            "max_width": null,
            "order": null,
            "_view_module_version": "1.2.0",
            "grid_template_areas": null,
            "object_position": null,
            "object_fit": null,
            "grid_auto_columns": null,
            "margin": null,
            "display": null,
            "left": null
          }
        },
        "57006c7846e14debb73903e798a00c98": {
          "model_module": "@jupyter-widgets/controls",
          "model_name": "FloatProgressModel",
          "state": {
            "_view_name": "ProgressView",
            "style": "IPY_MODEL_74ecd71f788345cf8f6c561ece29e2dc",
            "_dom_classes": [],
            "description": "100%",
            "_model_name": "FloatProgressModel",
            "bar_style": "success",
            "max": 4,
            "_view_module": "@jupyter-widgets/controls",
            "_model_module_version": "1.5.0",
            "value": 4,
            "_view_count": null,
            "_view_module_version": "1.5.0",
            "orientation": "horizontal",
            "min": 0,
            "description_tooltip": null,
            "_model_module": "@jupyter-widgets/controls",
            "layout": "IPY_MODEL_77641585f18f440b88ad55ae20817377"
          }
        },
        "e40ccc9fd32c40a8a895ea09442590e2": {
          "model_module": "@jupyter-widgets/controls",
          "model_name": "HTMLModel",
          "state": {
            "_view_name": "HTMLView",
            "style": "IPY_MODEL_1590443f39fe49818386cf9b133716a6",
            "_dom_classes": [],
            "description": "",
            "_model_name": "HTMLModel",
            "placeholder": "​",
            "_view_module": "@jupyter-widgets/controls",
            "_model_module_version": "1.5.0",
            "value": " 4/4 [02:08&lt;00:00, 32.24s/it]",
            "_view_count": null,
            "_view_module_version": "1.5.0",
            "description_tooltip": null,
            "_model_module": "@jupyter-widgets/controls",
            "layout": "IPY_MODEL_121f787d22054d738c5c357b1c61f9e0"
          }
        },
        "74ecd71f788345cf8f6c561ece29e2dc": {
          "model_module": "@jupyter-widgets/controls",
          "model_name": "ProgressStyleModel",
          "state": {
            "_view_name": "StyleView",
            "_model_name": "ProgressStyleModel",
            "description_width": "initial",
            "_view_module": "@jupyter-widgets/base",
            "_model_module_version": "1.5.0",
            "_view_count": null,
            "_view_module_version": "1.2.0",
            "bar_color": null,
            "_model_module": "@jupyter-widgets/controls"
          }
        },
        "77641585f18f440b88ad55ae20817377": {
          "model_module": "@jupyter-widgets/base",
          "model_name": "LayoutModel",
          "state": {
            "_view_name": "LayoutView",
            "grid_template_rows": null,
            "right": null,
            "justify_content": null,
            "_view_module": "@jupyter-widgets/base",
            "overflow": null,
            "_model_module_version": "1.2.0",
            "_view_count": null,
            "flex_flow": null,
            "width": null,
            "min_width": null,
            "border": null,
            "align_items": null,
            "bottom": null,
            "_model_module": "@jupyter-widgets/base",
            "top": null,
            "grid_column": null,
            "overflow_y": null,
            "overflow_x": null,
            "grid_auto_flow": null,
            "grid_area": null,
            "grid_template_columns": null,
            "flex": null,
            "_model_name": "LayoutModel",
            "justify_items": null,
            "grid_row": null,
            "max_height": null,
            "align_content": null,
            "visibility": null,
            "align_self": null,
            "height": null,
            "min_height": null,
            "padding": null,
            "grid_auto_rows": null,
            "grid_gap": null,
            "max_width": null,
            "order": null,
            "_view_module_version": "1.2.0",
            "grid_template_areas": null,
            "object_position": null,
            "object_fit": null,
            "grid_auto_columns": null,
            "margin": null,
            "display": null,
            "left": null
          }
        },
        "1590443f39fe49818386cf9b133716a6": {
          "model_module": "@jupyter-widgets/controls",
          "model_name": "DescriptionStyleModel",
          "state": {
            "_view_name": "StyleView",
            "_model_name": "DescriptionStyleModel",
            "description_width": "",
            "_view_module": "@jupyter-widgets/base",
            "_model_module_version": "1.5.0",
            "_view_count": null,
            "_view_module_version": "1.2.0",
            "_model_module": "@jupyter-widgets/controls"
          }
        },
        "121f787d22054d738c5c357b1c61f9e0": {
          "model_module": "@jupyter-widgets/base",
          "model_name": "LayoutModel",
          "state": {
            "_view_name": "LayoutView",
            "grid_template_rows": null,
            "right": null,
            "justify_content": null,
            "_view_module": "@jupyter-widgets/base",
            "overflow": null,
            "_model_module_version": "1.2.0",
            "_view_count": null,
            "flex_flow": null,
            "width": null,
            "min_width": null,
            "border": null,
            "align_items": null,
            "bottom": null,
            "_model_module": "@jupyter-widgets/base",
            "top": null,
            "grid_column": null,
            "overflow_y": null,
            "overflow_x": null,
            "grid_auto_flow": null,
            "grid_area": null,
            "grid_template_columns": null,
            "flex": null,
            "_model_name": "LayoutModel",
            "justify_items": null,
            "grid_row": null,
            "max_height": null,
            "align_content": null,
            "visibility": null,
            "align_self": null,
            "height": null,
            "min_height": null,
            "padding": null,
            "grid_auto_rows": null,
            "grid_gap": null,
            "max_width": null,
            "order": null,
            "_view_module_version": "1.2.0",
            "grid_template_areas": null,
            "object_position": null,
            "object_fit": null,
            "grid_auto_columns": null,
            "margin": null,
            "display": null,
            "left": null
          }
        },
        "2b391460a84e486fb2301afc50614ab1": {
          "model_module": "@jupyter-widgets/controls",
          "model_name": "HBoxModel",
          "state": {
            "_view_name": "HBoxView",
            "_dom_classes": [],
            "_model_name": "HBoxModel",
            "_view_module": "@jupyter-widgets/controls",
            "_model_module_version": "1.5.0",
            "_view_count": null,
            "_view_module_version": "1.5.0",
            "box_style": "",
            "layout": "IPY_MODEL_cd7ef9bd0ded409a9afc7b04ea66256a",
            "_model_module": "@jupyter-widgets/controls",
            "children": [
              "IPY_MODEL_1b3b978f71a341928f394e84650011c3",
              "IPY_MODEL_7c7137bde67648beb5f145b17dc825f8"
            ]
          }
        },
        "cd7ef9bd0ded409a9afc7b04ea66256a": {
          "model_module": "@jupyter-widgets/base",
          "model_name": "LayoutModel",
          "state": {
            "_view_name": "LayoutView",
            "grid_template_rows": null,
            "right": null,
            "justify_content": null,
            "_view_module": "@jupyter-widgets/base",
            "overflow": null,
            "_model_module_version": "1.2.0",
            "_view_count": null,
            "flex_flow": null,
            "width": null,
            "min_width": null,
            "border": null,
            "align_items": null,
            "bottom": null,
            "_model_module": "@jupyter-widgets/base",
            "top": null,
            "grid_column": null,
            "overflow_y": null,
            "overflow_x": null,
            "grid_auto_flow": null,
            "grid_area": null,
            "grid_template_columns": null,
            "flex": null,
            "_model_name": "LayoutModel",
            "justify_items": null,
            "grid_row": null,
            "max_height": null,
            "align_content": null,
            "visibility": null,
            "align_self": null,
            "height": null,
            "min_height": null,
            "padding": null,
            "grid_auto_rows": null,
            "grid_gap": null,
            "max_width": null,
            "order": null,
            "_view_module_version": "1.2.0",
            "grid_template_areas": null,
            "object_position": null,
            "object_fit": null,
            "grid_auto_columns": null,
            "margin": null,
            "display": null,
            "left": null
          }
        },
        "1b3b978f71a341928f394e84650011c3": {
          "model_module": "@jupyter-widgets/controls",
          "model_name": "FloatProgressModel",
          "state": {
            "_view_name": "ProgressView",
            "style": "IPY_MODEL_d81816e453aa44b98275338b4c0b6ad1",
            "_dom_classes": [],
            "description": "100%",
            "_model_name": "FloatProgressModel",
            "bar_style": "success",
            "max": 4,
            "_view_module": "@jupyter-widgets/controls",
            "_model_module_version": "1.5.0",
            "value": 4,
            "_view_count": null,
            "_view_module_version": "1.5.0",
            "orientation": "horizontal",
            "min": 0,
            "description_tooltip": null,
            "_model_module": "@jupyter-widgets/controls",
            "layout": "IPY_MODEL_2d25eede8d98412f885d5ee0156150c5"
          }
        },
        "7c7137bde67648beb5f145b17dc825f8": {
          "model_module": "@jupyter-widgets/controls",
          "model_name": "HTMLModel",
          "state": {
            "_view_name": "HTMLView",
            "style": "IPY_MODEL_d6a286af468546fdba2477987cfc903b",
            "_dom_classes": [],
            "description": "",
            "_model_name": "HTMLModel",
            "placeholder": "​",
            "_view_module": "@jupyter-widgets/controls",
            "_model_module_version": "1.5.0",
            "value": " 4/4 [01:39&lt;00:00, 24.80s/it]",
            "_view_count": null,
            "_view_module_version": "1.5.0",
            "description_tooltip": null,
            "_model_module": "@jupyter-widgets/controls",
            "layout": "IPY_MODEL_eb5bc543f3b5478fae69c6bc0685824e"
          }
        },
        "d81816e453aa44b98275338b4c0b6ad1": {
          "model_module": "@jupyter-widgets/controls",
          "model_name": "ProgressStyleModel",
          "state": {
            "_view_name": "StyleView",
            "_model_name": "ProgressStyleModel",
            "description_width": "initial",
            "_view_module": "@jupyter-widgets/base",
            "_model_module_version": "1.5.0",
            "_view_count": null,
            "_view_module_version": "1.2.0",
            "bar_color": null,
            "_model_module": "@jupyter-widgets/controls"
          }
        },
        "2d25eede8d98412f885d5ee0156150c5": {
          "model_module": "@jupyter-widgets/base",
          "model_name": "LayoutModel",
          "state": {
            "_view_name": "LayoutView",
            "grid_template_rows": null,
            "right": null,
            "justify_content": null,
            "_view_module": "@jupyter-widgets/base",
            "overflow": null,
            "_model_module_version": "1.2.0",
            "_view_count": null,
            "flex_flow": null,
            "width": null,
            "min_width": null,
            "border": null,
            "align_items": null,
            "bottom": null,
            "_model_module": "@jupyter-widgets/base",
            "top": null,
            "grid_column": null,
            "overflow_y": null,
            "overflow_x": null,
            "grid_auto_flow": null,
            "grid_area": null,
            "grid_template_columns": null,
            "flex": null,
            "_model_name": "LayoutModel",
            "justify_items": null,
            "grid_row": null,
            "max_height": null,
            "align_content": null,
            "visibility": null,
            "align_self": null,
            "height": null,
            "min_height": null,
            "padding": null,
            "grid_auto_rows": null,
            "grid_gap": null,
            "max_width": null,
            "order": null,
            "_view_module_version": "1.2.0",
            "grid_template_areas": null,
            "object_position": null,
            "object_fit": null,
            "grid_auto_columns": null,
            "margin": null,
            "display": null,
            "left": null
          }
        },
        "d6a286af468546fdba2477987cfc903b": {
          "model_module": "@jupyter-widgets/controls",
          "model_name": "DescriptionStyleModel",
          "state": {
            "_view_name": "StyleView",
            "_model_name": "DescriptionStyleModel",
            "description_width": "",
            "_view_module": "@jupyter-widgets/base",
            "_model_module_version": "1.5.0",
            "_view_count": null,
            "_view_module_version": "1.2.0",
            "_model_module": "@jupyter-widgets/controls"
          }
        },
        "eb5bc543f3b5478fae69c6bc0685824e": {
          "model_module": "@jupyter-widgets/base",
          "model_name": "LayoutModel",
          "state": {
            "_view_name": "LayoutView",
            "grid_template_rows": null,
            "right": null,
            "justify_content": null,
            "_view_module": "@jupyter-widgets/base",
            "overflow": null,
            "_model_module_version": "1.2.0",
            "_view_count": null,
            "flex_flow": null,
            "width": null,
            "min_width": null,
            "border": null,
            "align_items": null,
            "bottom": null,
            "_model_module": "@jupyter-widgets/base",
            "top": null,
            "grid_column": null,
            "overflow_y": null,
            "overflow_x": null,
            "grid_auto_flow": null,
            "grid_area": null,
            "grid_template_columns": null,
            "flex": null,
            "_model_name": "LayoutModel",
            "justify_items": null,
            "grid_row": null,
            "max_height": null,
            "align_content": null,
            "visibility": null,
            "align_self": null,
            "height": null,
            "min_height": null,
            "padding": null,
            "grid_auto_rows": null,
            "grid_gap": null,
            "max_width": null,
            "order": null,
            "_view_module_version": "1.2.0",
            "grid_template_areas": null,
            "object_position": null,
            "object_fit": null,
            "grid_auto_columns": null,
            "margin": null,
            "display": null,
            "left": null
          }
        },
        "b9226847a2b945c1a68c5684c34f2507": {
          "model_module": "@jupyter-widgets/controls",
          "model_name": "HBoxModel",
          "state": {
            "_view_name": "HBoxView",
            "_dom_classes": [],
            "_model_name": "HBoxModel",
            "_view_module": "@jupyter-widgets/controls",
            "_model_module_version": "1.5.0",
            "_view_count": null,
            "_view_module_version": "1.5.0",
            "box_style": "",
            "layout": "IPY_MODEL_9c73d7e620cf4d2e80a125e0808c400d",
            "_model_module": "@jupyter-widgets/controls",
            "children": [
              "IPY_MODEL_51970038fc8e45b6958b746840f680b5",
              "IPY_MODEL_6a467bf0e65345718eb5a3760be44b0c"
            ]
          }
        },
        "9c73d7e620cf4d2e80a125e0808c400d": {
          "model_module": "@jupyter-widgets/base",
          "model_name": "LayoutModel",
          "state": {
            "_view_name": "LayoutView",
            "grid_template_rows": null,
            "right": null,
            "justify_content": null,
            "_view_module": "@jupyter-widgets/base",
            "overflow": null,
            "_model_module_version": "1.2.0",
            "_view_count": null,
            "flex_flow": null,
            "width": null,
            "min_width": null,
            "border": null,
            "align_items": null,
            "bottom": null,
            "_model_module": "@jupyter-widgets/base",
            "top": null,
            "grid_column": null,
            "overflow_y": null,
            "overflow_x": null,
            "grid_auto_flow": null,
            "grid_area": null,
            "grid_template_columns": null,
            "flex": null,
            "_model_name": "LayoutModel",
            "justify_items": null,
            "grid_row": null,
            "max_height": null,
            "align_content": null,
            "visibility": null,
            "align_self": null,
            "height": null,
            "min_height": null,
            "padding": null,
            "grid_auto_rows": null,
            "grid_gap": null,
            "max_width": null,
            "order": null,
            "_view_module_version": "1.2.0",
            "grid_template_areas": null,
            "object_position": null,
            "object_fit": null,
            "grid_auto_columns": null,
            "margin": null,
            "display": null,
            "left": null
          }
        },
        "51970038fc8e45b6958b746840f680b5": {
          "model_module": "@jupyter-widgets/controls",
          "model_name": "FloatProgressModel",
          "state": {
            "_view_name": "ProgressView",
            "style": "IPY_MODEL_7bf45d24a7764a71980f8db27b4580e8",
            "_dom_classes": [],
            "description": "100%",
            "_model_name": "FloatProgressModel",
            "bar_style": "success",
            "max": 4,
            "_view_module": "@jupyter-widgets/controls",
            "_model_module_version": "1.5.0",
            "value": 4,
            "_view_count": null,
            "_view_module_version": "1.5.0",
            "orientation": "horizontal",
            "min": 0,
            "description_tooltip": null,
            "_model_module": "@jupyter-widgets/controls",
            "layout": "IPY_MODEL_25a68113a0b04fb083f5cee96e3b0975"
          }
        },
        "6a467bf0e65345718eb5a3760be44b0c": {
          "model_module": "@jupyter-widgets/controls",
          "model_name": "HTMLModel",
          "state": {
            "_view_name": "HTMLView",
            "style": "IPY_MODEL_44ad25e1cac14a7b8f66460ec0e30ba1",
            "_dom_classes": [],
            "description": "",
            "_model_name": "HTMLModel",
            "placeholder": "​",
            "_view_module": "@jupyter-widgets/controls",
            "_model_module_version": "1.5.0",
            "value": " 4/4 [08:43&lt;00:00, 130.92s/it]",
            "_view_count": null,
            "_view_module_version": "1.5.0",
            "description_tooltip": null,
            "_model_module": "@jupyter-widgets/controls",
            "layout": "IPY_MODEL_795418c84ac1491fa79dc774ed94da02"
          }
        },
        "7bf45d24a7764a71980f8db27b4580e8": {
          "model_module": "@jupyter-widgets/controls",
          "model_name": "ProgressStyleModel",
          "state": {
            "_view_name": "StyleView",
            "_model_name": "ProgressStyleModel",
            "description_width": "initial",
            "_view_module": "@jupyter-widgets/base",
            "_model_module_version": "1.5.0",
            "_view_count": null,
            "_view_module_version": "1.2.0",
            "bar_color": null,
            "_model_module": "@jupyter-widgets/controls"
          }
        },
        "25a68113a0b04fb083f5cee96e3b0975": {
          "model_module": "@jupyter-widgets/base",
          "model_name": "LayoutModel",
          "state": {
            "_view_name": "LayoutView",
            "grid_template_rows": null,
            "right": null,
            "justify_content": null,
            "_view_module": "@jupyter-widgets/base",
            "overflow": null,
            "_model_module_version": "1.2.0",
            "_view_count": null,
            "flex_flow": null,
            "width": null,
            "min_width": null,
            "border": null,
            "align_items": null,
            "bottom": null,
            "_model_module": "@jupyter-widgets/base",
            "top": null,
            "grid_column": null,
            "overflow_y": null,
            "overflow_x": null,
            "grid_auto_flow": null,
            "grid_area": null,
            "grid_template_columns": null,
            "flex": null,
            "_model_name": "LayoutModel",
            "justify_items": null,
            "grid_row": null,
            "max_height": null,
            "align_content": null,
            "visibility": null,
            "align_self": null,
            "height": null,
            "min_height": null,
            "padding": null,
            "grid_auto_rows": null,
            "grid_gap": null,
            "max_width": null,
            "order": null,
            "_view_module_version": "1.2.0",
            "grid_template_areas": null,
            "object_position": null,
            "object_fit": null,
            "grid_auto_columns": null,
            "margin": null,
            "display": null,
            "left": null
          }
        },
        "44ad25e1cac14a7b8f66460ec0e30ba1": {
          "model_module": "@jupyter-widgets/controls",
          "model_name": "DescriptionStyleModel",
          "state": {
            "_view_name": "StyleView",
            "_model_name": "DescriptionStyleModel",
            "description_width": "",
            "_view_module": "@jupyter-widgets/base",
            "_model_module_version": "1.5.0",
            "_view_count": null,
            "_view_module_version": "1.2.0",
            "_model_module": "@jupyter-widgets/controls"
          }
        },
        "795418c84ac1491fa79dc774ed94da02": {
          "model_module": "@jupyter-widgets/base",
          "model_name": "LayoutModel",
          "state": {
            "_view_name": "LayoutView",
            "grid_template_rows": null,
            "right": null,
            "justify_content": null,
            "_view_module": "@jupyter-widgets/base",
            "overflow": null,
            "_model_module_version": "1.2.0",
            "_view_count": null,
            "flex_flow": null,
            "width": null,
            "min_width": null,
            "border": null,
            "align_items": null,
            "bottom": null,
            "_model_module": "@jupyter-widgets/base",
            "top": null,
            "grid_column": null,
            "overflow_y": null,
            "overflow_x": null,
            "grid_auto_flow": null,
            "grid_area": null,
            "grid_template_columns": null,
            "flex": null,
            "_model_name": "LayoutModel",
            "justify_items": null,
            "grid_row": null,
            "max_height": null,
            "align_content": null,
            "visibility": null,
            "align_self": null,
            "height": null,
            "min_height": null,
            "padding": null,
            "grid_auto_rows": null,
            "grid_gap": null,
            "max_width": null,
            "order": null,
            "_view_module_version": "1.2.0",
            "grid_template_areas": null,
            "object_position": null,
            "object_fit": null,
            "grid_auto_columns": null,
            "margin": null,
            "display": null,
            "left": null
          }
        },
        "f211f77776124b179fa57e1f49c32104": {
          "model_module": "@jupyter-widgets/controls",
          "model_name": "HBoxModel",
          "state": {
            "_view_name": "HBoxView",
            "_dom_classes": [],
            "_model_name": "HBoxModel",
            "_view_module": "@jupyter-widgets/controls",
            "_model_module_version": "1.5.0",
            "_view_count": null,
            "_view_module_version": "1.5.0",
            "box_style": "",
            "layout": "IPY_MODEL_537e74b0f41b44bdb0b524297c3b923b",
            "_model_module": "@jupyter-widgets/controls",
            "children": [
              "IPY_MODEL_30d74247276b4a309c50656ca4e5b4a8",
              "IPY_MODEL_6d623299d6fa4a5b936ca52abddd6d86"
            ]
          }
        },
        "537e74b0f41b44bdb0b524297c3b923b": {
          "model_module": "@jupyter-widgets/base",
          "model_name": "LayoutModel",
          "state": {
            "_view_name": "LayoutView",
            "grid_template_rows": null,
            "right": null,
            "justify_content": null,
            "_view_module": "@jupyter-widgets/base",
            "overflow": null,
            "_model_module_version": "1.2.0",
            "_view_count": null,
            "flex_flow": null,
            "width": null,
            "min_width": null,
            "border": null,
            "align_items": null,
            "bottom": null,
            "_model_module": "@jupyter-widgets/base",
            "top": null,
            "grid_column": null,
            "overflow_y": null,
            "overflow_x": null,
            "grid_auto_flow": null,
            "grid_area": null,
            "grid_template_columns": null,
            "flex": null,
            "_model_name": "LayoutModel",
            "justify_items": null,
            "grid_row": null,
            "max_height": null,
            "align_content": null,
            "visibility": null,
            "align_self": null,
            "height": null,
            "min_height": null,
            "padding": null,
            "grid_auto_rows": null,
            "grid_gap": null,
            "max_width": null,
            "order": null,
            "_view_module_version": "1.2.0",
            "grid_template_areas": null,
            "object_position": null,
            "object_fit": null,
            "grid_auto_columns": null,
            "margin": null,
            "display": null,
            "left": null
          }
        },
        "30d74247276b4a309c50656ca4e5b4a8": {
          "model_module": "@jupyter-widgets/controls",
          "model_name": "FloatProgressModel",
          "state": {
            "_view_name": "ProgressView",
            "style": "IPY_MODEL_10f3a2755ecf4c4c8acbb572ee368667",
            "_dom_classes": [],
            "description": "100%",
            "_model_name": "FloatProgressModel",
            "bar_style": "success",
            "max": 4,
            "_view_module": "@jupyter-widgets/controls",
            "_model_module_version": "1.5.0",
            "value": 4,
            "_view_count": null,
            "_view_module_version": "1.5.0",
            "orientation": "horizontal",
            "min": 0,
            "description_tooltip": null,
            "_model_module": "@jupyter-widgets/controls",
            "layout": "IPY_MODEL_946dfd89477c41edbe15a3562a80165b"
          }
        },
        "6d623299d6fa4a5b936ca52abddd6d86": {
          "model_module": "@jupyter-widgets/controls",
          "model_name": "HTMLModel",
          "state": {
            "_view_name": "HTMLView",
            "style": "IPY_MODEL_b2796430c14d437ca5d72dc4307198a8",
            "_dom_classes": [],
            "description": "",
            "_model_name": "HTMLModel",
            "placeholder": "​",
            "_view_module": "@jupyter-widgets/controls",
            "_model_module_version": "1.5.0",
            "value": " 4/4 [04:25&lt;00:00, 66.28s/it]",
            "_view_count": null,
            "_view_module_version": "1.5.0",
            "description_tooltip": null,
            "_model_module": "@jupyter-widgets/controls",
            "layout": "IPY_MODEL_29af84efedbf4a1c845e1909d2668f49"
          }
        },
        "10f3a2755ecf4c4c8acbb572ee368667": {
          "model_module": "@jupyter-widgets/controls",
          "model_name": "ProgressStyleModel",
          "state": {
            "_view_name": "StyleView",
            "_model_name": "ProgressStyleModel",
            "description_width": "initial",
            "_view_module": "@jupyter-widgets/base",
            "_model_module_version": "1.5.0",
            "_view_count": null,
            "_view_module_version": "1.2.0",
            "bar_color": null,
            "_model_module": "@jupyter-widgets/controls"
          }
        },
        "946dfd89477c41edbe15a3562a80165b": {
          "model_module": "@jupyter-widgets/base",
          "model_name": "LayoutModel",
          "state": {
            "_view_name": "LayoutView",
            "grid_template_rows": null,
            "right": null,
            "justify_content": null,
            "_view_module": "@jupyter-widgets/base",
            "overflow": null,
            "_model_module_version": "1.2.0",
            "_view_count": null,
            "flex_flow": null,
            "width": null,
            "min_width": null,
            "border": null,
            "align_items": null,
            "bottom": null,
            "_model_module": "@jupyter-widgets/base",
            "top": null,
            "grid_column": null,
            "overflow_y": null,
            "overflow_x": null,
            "grid_auto_flow": null,
            "grid_area": null,
            "grid_template_columns": null,
            "flex": null,
            "_model_name": "LayoutModel",
            "justify_items": null,
            "grid_row": null,
            "max_height": null,
            "align_content": null,
            "visibility": null,
            "align_self": null,
            "height": null,
            "min_height": null,
            "padding": null,
            "grid_auto_rows": null,
            "grid_gap": null,
            "max_width": null,
            "order": null,
            "_view_module_version": "1.2.0",
            "grid_template_areas": null,
            "object_position": null,
            "object_fit": null,
            "grid_auto_columns": null,
            "margin": null,
            "display": null,
            "left": null
          }
        },
        "b2796430c14d437ca5d72dc4307198a8": {
          "model_module": "@jupyter-widgets/controls",
          "model_name": "DescriptionStyleModel",
          "state": {
            "_view_name": "StyleView",
            "_model_name": "DescriptionStyleModel",
            "description_width": "",
            "_view_module": "@jupyter-widgets/base",
            "_model_module_version": "1.5.0",
            "_view_count": null,
            "_view_module_version": "1.2.0",
            "_model_module": "@jupyter-widgets/controls"
          }
        },
        "29af84efedbf4a1c845e1909d2668f49": {
          "model_module": "@jupyter-widgets/base",
          "model_name": "LayoutModel",
          "state": {
            "_view_name": "LayoutView",
            "grid_template_rows": null,
            "right": null,
            "justify_content": null,
            "_view_module": "@jupyter-widgets/base",
            "overflow": null,
            "_model_module_version": "1.2.0",
            "_view_count": null,
            "flex_flow": null,
            "width": null,
            "min_width": null,
            "border": null,
            "align_items": null,
            "bottom": null,
            "_model_module": "@jupyter-widgets/base",
            "top": null,
            "grid_column": null,
            "overflow_y": null,
            "overflow_x": null,
            "grid_auto_flow": null,
            "grid_area": null,
            "grid_template_columns": null,
            "flex": null,
            "_model_name": "LayoutModel",
            "justify_items": null,
            "grid_row": null,
            "max_height": null,
            "align_content": null,
            "visibility": null,
            "align_self": null,
            "height": null,
            "min_height": null,
            "padding": null,
            "grid_auto_rows": null,
            "grid_gap": null,
            "max_width": null,
            "order": null,
            "_view_module_version": "1.2.0",
            "grid_template_areas": null,
            "object_position": null,
            "object_fit": null,
            "grid_auto_columns": null,
            "margin": null,
            "display": null,
            "left": null
          }
        }
      }
    }
  },
  "cells": [
    {
      "cell_type": "code",
      "metadata": {
        "colab": {
          "base_uri": "https://localhost:8080/"
        },
        "id": "GQZED2eq6gDd",
        "outputId": "41e3fe8e-aadb-4c34-eddf-bc901b97e967"
      },
      "source": [
        "import random\n",
        "import itertools\n",
        "import pickle\n",
        "from math import log2\n",
        "from tqdm.notebook import tqdm\n",
        "from collections import Counter, defaultdict\n",
        "import nltk\n",
        "from nltk.tokenize import word_tokenize\n",
        "nltk.download('punkt')"
      ],
      "execution_count": 107,
      "outputs": [
        {
          "output_type": "stream",
          "text": [
            "[nltk_data] Downloading package punkt to /root/nltk_data...\n",
            "[nltk_data]   Package punkt is already up-to-date!\n"
          ],
          "name": "stdout"
        },
        {
          "output_type": "execute_result",
          "data": {
            "text/plain": [
              "True"
            ]
          },
          "metadata": {
            "tags": []
          },
          "execution_count": 107
        }
      ]
    },
    {
      "cell_type": "code",
      "metadata": {
        "colab": {
          "base_uri": "https://localhost:8080/"
        },
        "id": "_4YDHlE66tlH",
        "outputId": "2d1ff9c0-6b86-46db-fb3b-2d0df894ed5b"
      },
      "source": [
        "from google.colab import drive\n",
        "drive.mount('/content/drive')"
      ],
      "execution_count": 2,
      "outputs": [
        {
          "output_type": "stream",
          "text": [
            "Drive already mounted at /content/drive; to attempt to forcibly remount, call drive.mount(\"/content/drive\", force_remount=True).\n"
          ],
          "name": "stdout"
        }
      ]
    },
    {
      "cell_type": "code",
      "metadata": {
        "id": "3V3PioLw6gDk",
        "colab": {
          "base_uri": "https://localhost:8080/"
        },
        "outputId": "f49c4c32-8d7b-4407-9844-bd15adc69acf"
      },
      "source": [
        "#Import our data here\n",
        "filepath = r'/content/drive/My Drive/RetardBot/'\n",
        "filename = r\"clean_data.txt\"\n",
        "\n",
        "# Load result:\n",
        "with open(filepath+filename, \"rb\") as fp:   # Unpickling\n",
        "    sentences = pickle.load(fp)\n",
        "\n",
        "print(sentences[22:35])"
      ],
      "execution_count": 3,
      "outputs": [
        {
          "output_type": "stream",
          "text": [
            "[\"we know you know the chewy-ryancohen-gamestop connection, but it wasn't real enough for you yet.\", \"well, i don't have to tell you, because you're not stupid, but i will anyway: it's gotten really real enough for you now.\", 'the chewy executive triumvirate joining the gamestop board of directors is your signal, friend.', 'you may start pumping gme to your boomer audience.', \"i don't believe reddit has been too kind to you in the past, but worry not, follow through with this and you'll have lots of friends here and we'll have your back forever.\", 'well, definitely not forever, but at least for a while.', 'what better time to start than today?', 'with love, brother.', \"- don't be afraid to use the rocket 🚀, it feels good.\", 'gme yolo update — dec 17 2020', '8x my annual income on this toss.', 'when i try to convince my broker for more margin', ' december 18, 2020']\n"
          ],
          "name": "stdout"
        }
      ]
    },
    {
      "cell_type": "markdown",
      "metadata": {
        "id": "mfm5C27axw2N"
      },
      "source": [
        "## Here are functions we took from the assignment notebook"
      ]
    },
    {
      "cell_type": "code",
      "metadata": {
        "id": "wfbQGhFU6gDl"
      },
      "source": [
        "#function to pad the sentences with <s> and </s> from SNLP assignment\n",
        "def pad(tokens, n):\n",
        "    \"\"\"Takes an iterable of tokens and pads with sentence boundary symbols.\n",
        "    \n",
        "    Always adds sentence end symbols. \n",
        "    For unigram sequences, does not add sentence starts.\n",
        "    \n",
        "    Arguments\n",
        "    ---------\n",
        "    tokens : list, tuple, iterable\n",
        "        sentence to be padded\n",
        "    n : int\n",
        "        the ngram order\n",
        "    \n",
        "    Returns\n",
        "    -------\n",
        "    tuple\n",
        "        Input padded with sentence boundary symbols\n",
        "    \"\"\"\n",
        "    start = \"<s>\"\n",
        "    end = \"</s>\"    \n",
        "    tokens = list(tokens)\n",
        "    tokens = [start]*(n-1) + tokens + [end]\n",
        "    # Always return tuples, we don't want to modify the input in-place.\n",
        "    tokens = tuple(tokens)  \n",
        "    # YOUR CODE HERE\n",
        "    return tokens"
      ],
      "execution_count": 4,
      "outputs": []
    },
    {
      "cell_type": "code",
      "metadata": {
        "id": "U4PjrU5U6gDo"
      },
      "source": [
        "#function to create n-grams from SNLP assignment\n",
        "def make_n_grams(tokens, n):\n",
        "    \"\"\"Takes in a tuple of tokens and forms n-grams\n",
        "    \n",
        "    Arguments\n",
        "    ---------\n",
        "    tokens : tuple\n",
        "        Tokens to make ngrams from\n",
        "    n : int\n",
        "        The order of ngrams to make\n",
        "    Returns\n",
        "    -------\n",
        "    list\n",
        "        A list of tuples: all ngrams of the specified order.\n",
        "    \"\"\"\n",
        "    if len(tokens) < n:\n",
        "        print(\"N-grams order is too big\")\n",
        "        return []\n",
        "    \n",
        "    ngrams = []\n",
        "    for i in range (len(tokens)-n+1):\n",
        "        ngrams.append(tokens[i:i+n])\n",
        "        \n",
        "    return ngrams "
      ],
      "execution_count": 5,
      "outputs": []
    },
    {
      "cell_type": "code",
      "metadata": {
        "id": "2lEfqsfM6gDp"
      },
      "source": [
        "#from SNLP assignment\n",
        "#this is probably needed for smoothing, because it requires all lower order n-grams\n",
        "def allgrams_pipeline(data, max_n):\n",
        "    \"\"\"Produces ngrams of all orders up to max_n from data, with padding\n",
        "    \n",
        "    This uses the user defined pad() and make_n_grams() functions.\n",
        "    It acts as an additional test for those.\n",
        "    \n",
        "    However, you must not change this. If there is some error, change \n",
        "    pad or make_n_grams instead.\"\"\"\n",
        "    for sentence in data:\n",
        "        for n in range(1, max_n+1):\n",
        "            padded = pad(sentence, n)\n",
        "            yield from make_n_grams(padded, n)\n",
        "    return"
      ],
      "execution_count": 6,
      "outputs": []
    },
    {
      "cell_type": "code",
      "metadata": {
        "id": "XV5kkldj6gDq"
      },
      "source": [
        "#from SNLP assignment\n",
        "#the n-gram counter\n",
        "\n",
        "def get_counts(ngrams, max_n):\n",
        "    \"\"\"Counts ngrams in a dataset.\n",
        "    \n",
        "    Takes an iterable of ngrams, of variable order. Simply counts how many times each\n",
        "    ngram is seen. The main idea is how the counts are organized.\n",
        "    \n",
        "    The input is an iterable, which might produce a stream such as:\n",
        "    \n",
        "    ('this',),\n",
        "    ('is',), \n",
        "    ('the',), \n",
        "    ('first',), \n",
        "    ('sentence',),\n",
        "    ('</s>',),    \n",
        "    ('<s>', 'this'), \n",
        "    ('this', 'is'), \n",
        "    ('is', 'the'), \n",
        "    ('the', 'first'), \n",
        "    ('first', 'sentence'), \n",
        "    ('sentence', '</s>'),\n",
        "\n",
        "    Note how the stream has a mix of unigrams and bigrams.\n",
        "\n",
        "    The output is a triply nested dict.\n",
        "    The first level is indexed by ngram order,\n",
        "    the second level is indexed by the history,\n",
        "    and the third level is indexed by the last token (the predicted token).\n",
        "    Additionally, we recommend making the third level an extended type of dict: a Counter\n",
        "    See https://docs.python.org/3/library/collections.html#collections.Counter\n",
        "    Example of the output structure:\n",
        "    {\n",
        "        1: {\n",
        "            (,): \n",
        "                Counter({\n",
        "                    '<s>': 21,\n",
        "                    'this': 43,\n",
        "                    'most': 31,\n",
        "                    'is': 50,\n",
        "                })\n",
        "        2: {\n",
        "            ('<s>', ): \n",
        "                Counter({\n",
        "                    'this': 21,\n",
        "                }),\n",
        "            ('the',):\n",
        "                Counter({\n",
        "                    'most': 31,\n",
        "                    'least': 14,\n",
        "                }),\n",
        "        3: {\n",
        "            ('<s>', 'this'): \n",
        "                Counter({\n",
        "                    'is': 12,\n",
        "                    'has': 8,\n",
        "                    '</s>': 1,\n",
        "                }),\n",
        "            ('the', 'most'):\n",
        "                Counter({\n",
        "                    'beautiful': 8,\n",
        "                    'intelligent': 10,\n",
        "                    'funny': 3,\n",
        "                }),\n",
        "    }\n",
        "    This structure is useful, since each history will also get its own \n",
        "    conditional probability distribution.\n",
        "    Note that when n==1, the ngram history simply becomes \n",
        "    the empty tuple, (,). This is fine.\n",
        "  \n",
        "    Arguments\n",
        "    ---------\n",
        "    sentences : iterable (such as list)\n",
        "        An iterable over ngrams.\n",
        "    max_n : int\n",
        "        The maximum ngram order.\n",
        "        \n",
        "    Returns\n",
        "    -------\n",
        "    dict\n",
        "        Triply nested dict, from ngram order to n_gram history parts, \n",
        "        to a dictionary of all continuations and their counts, e.g.\n",
        "        {2: {('a',): {'b': 3 'c': 4}}}\n",
        "    \n",
        "    \"\"\"\n",
        "    \n",
        "    n_gram_dict = {order: defaultdict(Counter) for order in range(1,max_n+1)}\n",
        "    # The line above creates the triply nested dict.\n",
        "    # The second and third layers are special: defaultdict and Counter\n",
        "    # See their documentation:\n",
        "    # https://docs.python.org/3/library/collections.html#collections.defaultdict\n",
        "    # https://docs.python.org/3/library/collections.html#collections.Counter    \n",
        "    for ngram in iter(ngrams):\n",
        "        order = len(ngram)\n",
        "        if ngram[-1] not in n_gram_dict[order][ngram[:-1]].keys():\n",
        "            n_gram_dict[order][ngram[:-1]][ngram[-1]] = 1\n",
        "        else:\n",
        "            n_gram_dict[order][ngram[:-1]][ngram[-1]] += 1\n",
        "    \n",
        "    # Lastly, make the defaultdicts into normal dicts, \n",
        "    # so that defaultdict doesn't bite us later (it can hide some bugs)        \n",
        "    return {n: dict(counts) for n, counts in n_gram_dict.items()}"
      ],
      "execution_count": 7,
      "outputs": []
    },
    {
      "cell_type": "code",
      "metadata": {
        "id": "PzKh-EkP6gDr"
      },
      "source": [
        "#from SNLP assignment\n",
        "#used for absolute discounting and calculating perplexity\n",
        "#(we use the perplexity with base 2)\n",
        "\"\"\"\n",
        "This cell has a utility function, which you need to use down the line.\n",
        "The function is already provided here because it is also needed for the\n",
        "sanity checks in the visible tests for the next task.\n",
        "\"\"\"\n",
        "\n",
        "def logsumexp2(*logs):\n",
        "    \"\"\"Linear-scale addition in log-scale\n",
        "    \n",
        "    https://en.wikipedia.org/wiki/LogSumExp#log-sum-exp_trick_for_log-domain_calculations\"\"\"\n",
        "    x_star = max(logs)\n",
        "    return x_star + log2(sum(pow(2, x-x_star) for x in logs))"
      ],
      "execution_count": 8,
      "outputs": []
    },
    {
      "cell_type": "code",
      "metadata": {
        "id": "9iOLoN5I6gDs"
      },
      "source": [
        "#absolute smoothing from SNLP assignment\n",
        "NEGINF = -float('inf')\n",
        "\n",
        "\n",
        "# Look at logprob_abs_discount first, to understand the full picture.\n",
        "# Then, start by implementing logprob_discounted\n",
        "# It has its own tests below; see that you can pass them first.\n",
        "# Next, implement log_interp_weight.\n",
        "# It also has its own tests.\n",
        "# Finally, fill in the missing parts in logprob_abs_discount\n",
        "\n",
        "def logprob_discounted(counts, context, token, delta):\n",
        "    \"\"\"The discounted log probability\n",
        "        \n",
        "    Remember to discount to 0 at most, max(count-delta, 0).\n",
        "    If discounted count becomes 0, the discounted log prob becomes -inf.\n",
        "    And the same concerns as with logprob_mle apply.\n",
        "    \n",
        "    This is the left side of the sum in the probability equations\n",
        "    (the log version of it).\n",
        "    \"\"\"\n",
        "    n = len(context) + 1  # N-gram order\n",
        "    token_count = counts[n][context][token]\n",
        "    \n",
        "    context_count = sum(counts[n][context].values())\n",
        "    if (max(token_count-delta,0) == 0) or (context_count==0):\n",
        "        return NEGINF\n",
        "    else:        \n",
        "        score = log2(max(token_count-delta,0)) - log2(context_count)\n",
        "        return score\n",
        "    \n",
        "def log_interp_weight(counts, context, delta):\n",
        "    \"\"\"The interpolation weight, as determined by the discount.\n",
        "    \n",
        "    You will need to figure out the total sum of discount applied\n",
        "    for this context.\n",
        "    \n",
        "    This is the lambda in the equations (log version of it).\n",
        "    \"\"\"\n",
        "    n = len(context) + 1  # N-gram order\n",
        "    discount_sum = 0\n",
        "    \n",
        "    for token in counts[n][context]:\n",
        "        token_count = counts[n][context][token]\n",
        "        discount_sum += token_count - max(token_count-delta,0)    \n",
        "    \n",
        "    context_count = sum(counts[n][context].values())\n",
        "    if (discount_sum == 0) or (context_count==0):\n",
        "        return NEGINF\n",
        "    else:        \n",
        "        lamda = log2(discount_sum) - log2(context_count)\n",
        "        return lamda    \n",
        "    \n",
        "\n",
        "def logprob_abs_discount(counts, context, token, delta=0.2):\n",
        "    \"\"\"Produces smoothed estimate of log(P(token | context))\n",
        "    \n",
        "    Now we will use absolute discounting and interpolation to lower\n",
        "    orders.\n",
        "    \n",
        "    There are four main challenges to compute here:\n",
        "    1. The discounted count for the token\n",
        "        - Remember to discount to 0 at most, \n",
        "          max(count-delta, 0)\n",
        "        - If discounted count becomes 0, the discounted log prob becomes -inf.\n",
        "          And the same concerns as with logprob_mle apply.\n",
        "    2. The interpolation weight, as determined by the discount.\n",
        "        - You will need to figure out the total sum of discount applied\n",
        "          for this context.\n",
        "    3. The log probability to interpolate with.\n",
        "        - This is easy: use recursion. So just call:\n",
        "          logprob_abs_discount(counts, context[1:], token, delta)\n",
        "        - Unigrams are the special case: they interpolate with the uniform\n",
        "          distribution P(x) = 1 / vocab size.\n",
        "    4. Interpolation in the log domain.\n",
        "        - So you can get log(P_delta(token|context)) and \n",
        "          log(P_interp(token|context[1:])) without problems. But then you need\n",
        "          the logarithmic equivalent of a sum.\n",
        "        - For that, use the logsumexp2 function defined above. \n",
        "    \n",
        "    The ngram counts are as produced by get_counts, same format as \n",
        "    with logprob_mle.\n",
        "    \n",
        "    Arguments\n",
        "    ---------\n",
        "    counts : dict\n",
        "        Triply nested dict as shown above.\n",
        "    context : tuple\n",
        "        The context to predict on as tuple, e.g. ('<s>',)\n",
        "    token : str\n",
        "        The token to predict.\n",
        "    delta : float\n",
        "        The value to discount by.\n",
        "    \"\"\"\n",
        "    n = len(context) + 1  # N-gram order\n",
        "    vocab = set(counts[1][tuple()])\n",
        "    V = len(vocab)  # Vocabulary size\n",
        "    \n",
        "    # Check that word is in the intended vocabulary,\n",
        "    # i.e. at least seen once in the data (as unigram).\n",
        "    # If the word is never seen in the data, we cannot expect it.\n",
        "    if token not in vocab:\n",
        "        return NEGINF\n",
        "\n",
        "    # Find an order where context has been seen:     \n",
        "    if n not in counts or context not in counts[n]:\n",
        "        if n == 1:\n",
        "            raise ValueError(\"Invalid counts-dict, needs to have all lower order counts.\")\n",
        "        return logprob_abs_discount(counts, context[1:], token)\n",
        "    \n",
        "    # 1. Discounted prob (computed by separate function above)\n",
        "    lp_discounted = logprob_discounted(counts, context, token, delta)\n",
        "    \n",
        "    # 2. Log interpolation weight (computed by separate function above):\n",
        "    log_lambda = log_interp_weight(counts, context, delta)\n",
        "    \n",
        "    # 3. Log lower order probability:\n",
        "    if n == 1:\n",
        "        # Stopping recursion at the unigram level, by interpolating with\n",
        "        # unigram distribution:\n",
        "        lp_lower = - log2(V)\n",
        "    else:  # Recursion\n",
        "        lp_lower = logprob_abs_discount(counts, context[1:], token)\n",
        "    \n",
        "    # 4. Putting it all together:\n",
        "    log_sum = [lp_discounted, log_lambda + lp_lower]\n",
        "    result = logsumexp2(*log_sum)\n",
        "\n",
        "    return result"
      ],
      "execution_count": 9,
      "outputs": []
    },
    {
      "cell_type": "code",
      "metadata": {
        "id": "dABZ5F436gDt"
      },
      "source": [
        "#perplexity function from SNLP assignment\n",
        "def perplexity(test_data, model_counts, logprob_func, **lp_kwargs):\n",
        "    \"\"\"\n",
        "    Computes perplexity on the given test data with the given language model\n",
        "    (as specified by the counts and the logprob function).\n",
        "    \n",
        "    Arguments\n",
        "    ---------\n",
        "    test_data : list\n",
        "        List of lists of tokenized sentences.\n",
        "    model_counts : dict\n",
        "        Triply nested dict of ngram counts, as returned by get_counts()\n",
        "    logprob_func : function\n",
        "        Function with signature (counts, context, token), which returns the\n",
        "        log-probability of the token given the context.\n",
        "    **lp_kwargs : kwargs\n",
        "        Log prob key word arguments, passed to logprob_func\n",
        "    \n",
        "    Returns\n",
        "    -------\n",
        "    float\n",
        "        The perplexity of the model on the test data.\n",
        "    \"\"\"\n",
        "    max_n = max(model_counts.keys())\n",
        "    total_log_prob = 0.\n",
        "    num_tokens = 0\n",
        "    for sentence in test_data:\n",
        "        padded = pad(sentence, max_n)\n",
        "        ngrams = make_n_grams(padded, max_n)\n",
        "        for *context, token in ngrams:\n",
        "            total_log_prob += logprob_func(model_counts, tuple(context), token, **lp_kwargs)\n",
        "            num_tokens += 1\n",
        "    ppl = pow(2, -total_log_prob / num_tokens)\n",
        "    return ppl"
      ],
      "execution_count": 10,
      "outputs": []
    },
    {
      "cell_type": "code",
      "metadata": {
        "id": "lDCjQRg46gDu"
      },
      "source": [
        "#text generator from SNLP assignment\n",
        "\n",
        "def generate_text(model_counts, logprob_func, seed_text=None, **lp_kwargs):\n",
        "    \"\"\"Generates text from an N-gram model.\n",
        "    \n",
        "    Arguments\n",
        "    ---------\n",
        "    model_counts : dict\n",
        "        N-gram counts as returned by get_counts()\n",
        "    logprob_func : callable\n",
        "        Function with signature (counts, context, token), which returns the\n",
        "        log-probability of the token given the context.\n",
        "    seed_text : list, optional\n",
        "        Text to start generating from. If None, will start from the\n",
        "        appropriate amount of sentence-start symbols (N-1).\n",
        "    **lp_kwargs : kwargs\n",
        "        Log prob key word arguments, passed to logprob_func\n",
        "        \n",
        "    Returns\n",
        "    -------\n",
        "    tuple\n",
        "        Sentence generated by model as a list of tokens. If\n",
        "        seed_text was given, will include it. Padding is stripped.\n",
        "    \"\"\"\n",
        "    max_n = max(model_counts.keys())\n",
        "    vocab = list(model_counts[1][tuple()])\n",
        "    if seed_text is None:\n",
        "        seed_text = ('<s>',) * (max_n-1)\n",
        "    end = '</s>'\n",
        "    output = list(seed_text)\n",
        "    while output[-1] != end and len(output) < 200:  # Also guard against infinite loops\n",
        "        context = output[-max_n+1:] if max_n > 1 else []\n",
        "        token_logprobs = [2**logprob_func(model_counts, tuple(context), token, **lp_kwargs) \n",
        "                          for token in vocab]\n",
        "        next_part = random.choices(vocab, token_logprobs)\n",
        "        output.extend(next_part)  # next_part is a list: [token]\n",
        "    return tuple(token for token in output if token not in ['<s>', '</s>'])"
      ],
      "execution_count": 11,
      "outputs": []
    },
    {
      "cell_type": "code",
      "metadata": {
        "id": "0pgP7Fvl6gDv"
      },
      "source": [
        "#deetokenizer from SNLP assignment\n",
        "def detokenize(seq, full_sentence=True):\n",
        "    \"\"\"A simple rule-based detokenizer for this assignment\"\"\"\n",
        "    last_seen_start = full_sentence\n",
        "    formatted_tokens = []\n",
        "    for token in seq:\n",
        "        if token == \"<s>\":\n",
        "            last_seen_start = True\n",
        "            continue\n",
        "        if token == \"</s>\":\n",
        "            continue\n",
        "        if last_seen_start:\n",
        "            token = token.capitalize()\n",
        "            last_seen_start = False\n",
        "        if token == \"i\":\n",
        "            token = \"I\"\n",
        "        if token in \".!?,;\" or token == \"'s\":\n",
        "            formatted_tokens.append(token)\n",
        "        elif formatted_tokens:\n",
        "            formatted_tokens.append(\" \" + token)\n",
        "        else:\n",
        "            formatted_tokens.append(token)\n",
        "    return \"\".join(formatted_tokens)        "
      ],
      "execution_count": 12,
      "outputs": []
    },
    {
      "cell_type": "code",
      "metadata": {
        "id": "YhDyEnG7yqs3"
      },
      "source": [
        "#from SNLP assignment\n",
        "#the function to replace any word out of the vocabulary with <unk>\n",
        "def replace_oovs(vocab, data, unk=\"<unk>\"):\n",
        "    \"\"\"Replace OOV words with unknown-token\n",
        "    \n",
        "    Arguments\n",
        "    ---------\n",
        "    vocab : set\n",
        "        The set of tokens that are in-vocabulary.\n",
        "        token not in vocab => token is out-of-vocabulary.\n",
        "    data : list of iterables\n",
        "        List of sentences, which are lists (or other iterables) of tokens.\n",
        "    unk : str\n",
        "        Token to replace tokens which are not in the vocabulary\n",
        "    \n",
        "    Returns\n",
        "    -------\n",
        "    list\n",
        "        list of lists, (list of sentences in data, sentences are lists of tokens)\n",
        "        The data with out-of-vocabulary tokens replaced with the unknown token.\n",
        "        Does NOT modify in-place.\n",
        "    \n",
        "    \"\"\"\n",
        "    # NOTE: Do not modify input in-place.\n",
        "    data_oovs_replaced = [list(sentence) for sentence in data]\n",
        "    for i, sentence in enumerate(data):\n",
        "        for j, token in enumerate(sentence):\n",
        "            if token not in vocab:\n",
        "                data_oovs_replaced[i][j] = unk\n",
        "        \n",
        "    return data_oovs_replaced"
      ],
      "execution_count": 13,
      "outputs": []
    },
    {
      "cell_type": "code",
      "metadata": {
        "id": "5H6amoE8079I"
      },
      "source": [
        "#the cache thing from the SNLP assignment\n",
        "class LIWCache:\n",
        "    \"\"\"Very simple cache for log_interp_weight for speeding up querys\n",
        "    \n",
        "    The log_interp_weight function gets called many times with the same\n",
        "    arguments. The normal Python LRU Cache decorator however cannot handle\n",
        "    the counts argument, as it is unhashable. \n",
        "    \"\"\"\n",
        "    def __init__(self, func):\n",
        "        self.func = func\n",
        "        self.cache = {}\n",
        "        self._caching = False\n",
        "        self.hits = 0\n",
        "        self.misses = 0\n",
        "        \n",
        "    def __call__(self, counts, context, delta):\n",
        "        if not self._caching:\n",
        "            return self.func(counts, context, delta)\n",
        "        key = (context, delta)\n",
        "        if key not in self.cache:\n",
        "            self.cache[key] = self.func(counts, context, delta)\n",
        "            self.misses += 1\n",
        "        else:\n",
        "            self.hits += 1\n",
        "        return self.cache[key]\n",
        "        \n",
        "    @property\n",
        "    def caching(self):\n",
        "        return self._caching\n",
        "\n",
        "    @caching.setter\n",
        "    def caching(self, value):\n",
        "        self._caching = value\n",
        "        if not value:\n",
        "            self.cache = {}  # Empty\n",
        "            self.hits = 0\n",
        "            self.misses = 0\n",
        "\n",
        "if not isinstance(log_interp_weight, LIWCache):\n",
        "    log_interp_weight = LIWCache(log_interp_weight)"
      ],
      "execution_count": 14,
      "outputs": []
    },
    {
      "cell_type": "markdown",
      "metadata": {
        "id": "_o_Y_3zJ6gDv"
      },
      "source": [
        "# Start our text generation here"
      ]
    },
    {
      "cell_type": "code",
      "metadata": {
        "colab": {
          "base_uri": "https://localhost:8080/",
          "height": 66,
          "referenced_widgets": [
            "c2417807658c420f89f21d0cbb6b1d4b",
            "771abad96e4c45dc9168bf551a175dd5",
            "21421c209eca485aa70705b4bbd6c3e0",
            "9636c4f2bf964ff384b4d2dcf18e9e33",
            "77abd923363b4f168d63ee69b67df7a2",
            "91db9d9d3fb543b497a6cccda95df63f",
            "65b17850d68444d29f507f36b585c452",
            "a9367dd9294f4fa4b74699ea22dd7718"
          ]
        },
        "id": "pb7DYS5s6gDw",
        "outputId": "9bef9a92-7d5e-4ebd-a45d-4cf28e364578"
      },
      "source": [
        "#tokenize the WSB sentences here\n",
        "wsb_tokenized = []\n",
        "for sentence in tqdm(sentences):\n",
        "    \n",
        "    # We split the sentences into a list to do the next step\n",
        "    sentence_list = word_tokenize(sentence)    \n",
        "    if sentence_list:        \n",
        "        wsb_tokenized.append(sentence_list) "
      ],
      "execution_count": 122,
      "outputs": [
        {
          "output_type": "display_data",
          "data": {
            "application/vnd.jupyter.widget-view+json": {
              "model_id": "c2417807658c420f89f21d0cbb6b1d4b",
              "version_minor": 0,
              "version_major": 2
            },
            "text/plain": [
              "HBox(children=(FloatProgress(value=0.0, max=851344.0), HTML(value='')))"
            ]
          },
          "metadata": {
            "tags": []
          }
        },
        {
          "output_type": "stream",
          "text": [
            "\n"
          ],
          "name": "stdout"
        }
      ]
    },
    {
      "cell_type": "code",
      "metadata": {
        "colab": {
          "base_uri": "https://localhost:8080/"
        },
        "id": "S9MXp-Qw6gDx",
        "outputId": "950b51ae-cb01-4371-e17c-87eda24cc352"
      },
      "source": [
        "#create training and test sets here\n",
        "#test_split_index = round(0.9 * len(wsb_tokenized)) #original\n",
        "test_split_index = round(0.99 * len(wsb_tokenized))\n",
        "wsb_train = wsb_tokenized[:test_split_index]\n",
        "wsb_test = wsb_tokenized[test_split_index:]\n",
        "\n",
        "print(\"The training set has\", len(wsb_train), \"sentences, and the test set\", len(wsb_test), \"sentences\")"
      ],
      "execution_count": 123,
      "outputs": [
        {
          "output_type": "stream",
          "text": [
            "The training set has 842831 sentences, and the test set 8513 sentences\n"
          ],
          "name": "stdout"
        }
      ]
    },
    {
      "cell_type": "markdown",
      "metadata": {
        "id": "8Pv-qBO5WlBL"
      },
      "source": [
        "## 5,000 word vocabulary"
      ]
    },
    {
      "cell_type": "code",
      "metadata": {
        "id": "uSsziiT_xhNE"
      },
      "source": [
        "#here is where we set our vocab and the discount delta\n",
        "#only the top vocab_size words will be kept as they are and the rest will be replaced by <unk>\n",
        "vocab_size = 5000\n",
        "delta = 5.2 "
      ],
      "execution_count": 150,
      "outputs": []
    },
    {
      "cell_type": "code",
      "metadata": {
        "colab": {
          "base_uri": "https://localhost:8080/"
        },
        "id": "bwna_Pf66gDx",
        "outputId": "ccc735e6-0ca3-447b-fc35-e207db6456eb"
      },
      "source": [
        "#here is where we set the vocabulary and put <unk>s in\n",
        "wsb_unigram_counts = Counter(itertools.chain.from_iterable(wsb_train)).most_common()\n",
        "\n",
        "print(\"The 10 most common tokens:\")\n",
        "print(\"\\n\".join(word for word, freq in wsb_unigram_counts[:10]))\n",
        "print()\n",
        "print(\"The least common tokens in vocabulary:\")\n",
        "print(\"\\n\".join(word for word, freq in wsb_unigram_counts[vocab_size-10:vocab_size]))\n",
        "\n",
        "\n",
        "#######################################################################################\n",
        "#######################################################################################\n",
        "#######################################################################################\n",
        "wsb_vocab_filt = set(word for word, freq in wsb_unigram_counts[:vocab_size]) | {\"</s>\", \"<unk>\"} #this is the vocabulary\n",
        "\n",
        "#from here we replace anything out of the vocabulary with <unk>\n",
        "wsb_train_filt = replace_oovs(wsb_vocab_filt, wsb_train)\n",
        "wsb_test_filt = replace_oovs(wsb_vocab_filt, wsb_test)\n",
        "\n",
        "print(\"\\n Example of a sentence with limited vocab and <unk>:\")\n",
        "print(detokenize(wsb_train_filt[2000]))"
      ],
      "execution_count": 151,
      "outputs": [
        {
          "output_type": "stream",
          "text": [
            "The 10 most common tokens:\n",
            ".\n",
            "the\n",
            ",\n",
            "to\n",
            "i\n",
            "a\n",
            "and\n",
            "you\n",
            "is\n",
            "of\n",
            "\n",
            "The least common tokens in vocabulary:\n",
            "severely\n",
            "phrase\n",
            "haircut\n",
            "420.69\n",
            "signals\n",
            "collapsing\n",
            "fuckery\n",
            "vagina\n",
            "cmon\n",
            "withdrew\n",
            "\n",
            " Example of a sentence with limited vocab and <unk>:\n",
            "<unk> election discussion thread\n"
          ],
          "name": "stdout"
        }
      ]
    },
    {
      "cell_type": "code",
      "metadata": {
        "id": "kLgy3_MY6gDy"
      },
      "source": [
        "# Produce counts from the real world data:\n",
        "#we're using 5-grams\n",
        "wsb_counts = get_counts(allgrams_pipeline(wsb_train_filt, 5), 5)"
      ],
      "execution_count": 152,
      "outputs": []
    },
    {
      "cell_type": "code",
      "metadata": {
        "id": "GT2wpBqD6gDy"
      },
      "source": [
        "def eval_ngram(wcounts, smoothing_func, seed_text, delta):\n",
        "  log_interp_weight.caching = True\n",
        "  text_results = []\n",
        "  for i in tqdm(range(4)):\n",
        "    text_result = detokenize(generate_text(wcounts, smoothing_func, seed_text, delta=delta))\n",
        "    text_results.append(text_result)\n",
        "    print(text_results[i])\n",
        "\n",
        "  for sentence in text_results:\n",
        "    text = sentence.split()\n",
        "    text = [each_string.lower() for each_string in text]\n",
        "    #text[-1] = text[-1][:-1]\n",
        "    perplex = perplexity(text, wsb_counts, logprob_abs_discount)\n",
        "    print(text)\n",
        "    print('---------------------------------------------------')\n",
        "    print('Score {}'.format(perplex))\n",
        "    print('===================================================')\n",
        "  log_interp_weight.caching = False\n"
      ],
      "execution_count": 127,
      "outputs": []
    },
    {
      "cell_type": "code",
      "metadata": {
        "colab": {
          "base_uri": "https://localhost:8080/",
          "height": 406,
          "referenced_widgets": [
            "8f543c0f83db4f8ebf28b1061e8bddf4",
            "926f7d95fd80476692025a21049e4daf",
            "7937411e40c1424b922b911890cb21cd",
            "790998ca69dd448e83db51b150f47fe3",
            "b5af1f716f1d4e2e89ca4857ce8c42bb",
            "4d837cd21ce74db59e92c5845bed74f7",
            "f6c2cdacc94b4a94a9e8300889e49e70",
            "9dd2e6dd29f347c9aaafdd51605925e0"
          ]
        },
        "id": "FLCFQ4Yw3nJ8",
        "outputId": "ef5acce3-790c-404e-f121-8e5cf77df00d"
      },
      "source": [
        "seed_text = ['gme',]\n",
        "eval_ngram(wsb_counts, logprob_abs_discount, seed_text, delta)"
      ],
      "execution_count": 128,
      "outputs": [
        {
          "output_type": "display_data",
          "data": {
            "application/vnd.jupyter.widget-view+json": {
              "model_id": "8f543c0f83db4f8ebf28b1061e8bddf4",
              "version_minor": 0,
              "version_major": 2
            },
            "text/plain": [
              "HBox(children=(FloatProgress(value=0.0, max=4.0), HTML(value='')))"
            ]
          },
          "metadata": {
            "tags": []
          }
        },
        {
          "output_type": "stream",
          "text": [
            "Gme ✅ oil war is all about memes and making the stocks where they need to take in september this year.\n",
            "Gme, socialism with their dying breath.\n",
            "Gme.\n",
            "Gme to be the place told to come here on a saturday, sounds legit.\n",
            "\n",
            "['gme', '✅', 'oil', 'war', 'is', 'all', 'about', 'memes', 'and', 'making', 'the', 'stocks', 'where', 'they', 'need', 'to', 'take', 'in', 'september', 'this', 'year.']\n",
            "---------------------------------------------------\n",
            "Score 3196.56331573966\n",
            "===================================================\n",
            "['gme,', 'socialism', 'with', 'their', 'dying', 'breath.']\n",
            "---------------------------------------------------\n",
            "Score 5250.2048852117405\n",
            "===================================================\n",
            "['gme.']\n",
            "---------------------------------------------------\n",
            "Score 5830.973639729579\n",
            "===================================================\n",
            "['gme', 'to', 'be', 'the', 'place', 'told', 'to', 'come', 'here', 'on', 'a', 'saturday,', 'sounds', 'legit.']\n",
            "---------------------------------------------------\n",
            "Score 2971.829493571773\n",
            "===================================================\n"
          ],
          "name": "stdout"
        }
      ]
    },
    {
      "cell_type": "code",
      "metadata": {
        "colab": {
          "base_uri": "https://localhost:8080/",
          "height": 406,
          "referenced_widgets": [
            "a626af34d73c49d683fabff0e601de60",
            "f61d5546c1ec49a78d95c8be3d8256c6",
            "59315f3e95084b599af785f2dedefcb0",
            "45b7edc3f49944dfb0a0edc45e738e2b",
            "d0199d4b78f6482580f4a2763aef54fb",
            "1833abe6e272473280d4af0df3cf6361",
            "397fd3b27cd14252821ed0e155e0fcb0",
            "b4a90d4c86264eb9aba10a965246f484"
          ]
        },
        "id": "KKNFcAzSJjFr",
        "outputId": "23c0474a-229f-454c-9bee-223b0d06ca78"
      },
      "source": [
        "seed_text = [\"to\", \"the\", \"moon\",]\n",
        "eval_ngram(wsb_counts, logprob_abs_discount, seed_text, delta)"
      ],
      "execution_count": 129,
      "outputs": [
        {
          "output_type": "display_data",
          "data": {
            "application/vnd.jupyter.widget-view+json": {
              "model_id": "a626af34d73c49d683fabff0e601de60",
              "version_minor": 0,
              "version_major": 2
            },
            "text/plain": [
              "HBox(children=(FloatProgress(value=0.0, max=4.0), HTML(value='')))"
            ]
          },
          "metadata": {
            "tags": []
          }
        },
        {
          "output_type": "stream",
          "text": [
            "To the moon\n",
            "To the moon\n",
            "To the moon with no <unk> technology and they 're all invited to my yacht ”\n",
            "To the moon.\n",
            "\n",
            "['to', 'the', 'moon']\n",
            "---------------------------------------------------\n",
            "Score 2485.8101111854708\n",
            "===================================================\n",
            "['to', 'the', 'moon']\n",
            "---------------------------------------------------\n",
            "Score 2485.8101111854708\n",
            "===================================================\n",
            "['to', 'the', 'moon', 'with', 'no', '<unk>', 'technology', 'and', 'they', \"'re\", 'all', 'invited', 'to', 'my', 'yacht', '”']\n",
            "---------------------------------------------------\n",
            "Score inf\n",
            "===================================================\n",
            "['to', 'the', 'moon.']\n",
            "---------------------------------------------------\n",
            "Score 2231.0866086027136\n",
            "===================================================\n"
          ],
          "name": "stdout"
        }
      ]
    },
    {
      "cell_type": "code",
      "metadata": {
        "colab": {
          "base_uri": "https://localhost:8080/",
          "height": 406,
          "referenced_widgets": [
            "ccb1e4b1600845d3b67d2db9f06f48ff",
            "05f2a2c98a05447aa170057b7600622c",
            "29afe72dffc04382ba3b435ba6d93ada",
            "ca1327ef5b6847e2bb79445209cd9824",
            "c38b95e672c043eb87383d38f3a7585b",
            "55ca45c812ca47a583df7d156b3cb77b",
            "c777d372ca62425e83968aa0f4b04131",
            "bd1534bb10cc48cdaf82ce42ba189d96"
          ]
        },
        "id": "p7_chkOZQyhM",
        "outputId": "0925b03f-33ce-474f-d968-def66462f9ea"
      },
      "source": [
        "seed_text = [\"elon\", \"mush\",]\n",
        "eval_ngram(wsb_counts, logprob_abs_discount, seed_text, delta)"
      ],
      "execution_count": 130,
      "outputs": [
        {
          "output_type": "display_data",
          "data": {
            "application/vnd.jupyter.widget-view+json": {
              "model_id": "ccb1e4b1600845d3b67d2db9f06f48ff",
              "version_minor": 0,
              "version_major": 2
            },
            "text/plain": [
              "HBox(children=(FloatProgress(value=0.0, max=4.0), HTML(value='')))"
            ]
          },
          "metadata": {
            "tags": []
          }
        },
        {
          "output_type": "stream",
          "text": [
            "Elon mush the article : * powell is legit bad at this and you just wan na <unk> this existence.\n",
            "Elon mush mistake\n",
            "Elon mush an iphone know exactly what it looked like apple was.\n",
            "Elon mush earnings.\n",
            "\n",
            "['elon', 'mush', 'the', 'article', ':', '*', 'powell', 'is', 'legit', 'bad', 'at', 'this', 'and', 'you', 'just', 'wan', 'na', '<unk>', 'this', 'existence.']\n",
            "---------------------------------------------------\n",
            "Score inf\n",
            "===================================================\n",
            "['elon', 'mush', 'mistake']\n",
            "---------------------------------------------------\n",
            "Score 2998.757196406375\n",
            "===================================================\n",
            "['elon', 'mush', 'an', 'iphone', 'know', 'exactly', 'what', 'it', 'looked', 'like', 'apple', 'was.']\n",
            "---------------------------------------------------\n",
            "Score 3782.3414506397544\n",
            "===================================================\n",
            "['elon', 'mush', 'earnings.']\n",
            "---------------------------------------------------\n",
            "Score 191.88196661913108\n",
            "===================================================\n"
          ],
          "name": "stdout"
        }
      ]
    },
    {
      "cell_type": "code",
      "metadata": {
        "colab": {
          "base_uri": "https://localhost:8080/",
          "height": 406,
          "referenced_widgets": [
            "cd664d8dcfbd4b67a61bfb7f2a983e2e",
            "c39c503548e84d24a598c6dc45fb15d6",
            "f7ea12da381744ada848006eb42ed220",
            "8368962fb4804cc9a11947121d0e3c12",
            "a31443d3f8904329976cbf985e70157d",
            "e90fef40c53e4da2a5160afaf191da02",
            "aec3815ac4e64edfa234fc6382b3283d",
            "f8771cc3d0904e158d7f1a538fd1d719"
          ]
        },
        "id": "yod9DwPJSc0k",
        "outputId": "f29b5d8c-e327-4351-c3d5-2af76b5d4ed5"
      },
      "source": [
        "seed_text = [\"pltr\",]\n",
        "eval_ngram(wsb_counts, logprob_abs_discount, seed_text, delta)"
      ],
      "execution_count": 131,
      "outputs": [
        {
          "output_type": "display_data",
          "data": {
            "application/vnd.jupyter.widget-view+json": {
              "model_id": "cd664d8dcfbd4b67a61bfb7f2a983e2e",
              "version_minor": 0,
              "version_major": 2
            },
            "text/plain": [
              "HBox(children=(FloatProgress(value=0.0, max=4.0), HTML(value='')))"
            ]
          },
          "metadata": {
            "tags": []
          }
        },
        {
          "output_type": "stream",
          "text": [
            "Pltr has no unique tech, a negative <unk>, and I mean like options?\n",
            "Pltr to be like you have a nice cock <unk>\n",
            "Pltr, I wish <unk> was public <unk>\n",
            "Pltr, peter thiel is <unk> fucking real.\n",
            "\n",
            "['pltr', 'has', 'no', 'unique', 'tech,', 'a', 'negative', '<unk>,', 'and', 'i', 'mean', 'like', 'options?']\n",
            "---------------------------------------------------\n",
            "Score inf\n",
            "===================================================\n",
            "['pltr', 'to', 'be', 'like', 'you', 'have', 'a', 'nice', 'cock', '<unk>']\n",
            "---------------------------------------------------\n",
            "Score inf\n",
            "===================================================\n",
            "['pltr,', 'i', 'wish', '<unk>', 'was', 'public', '<unk>']\n",
            "---------------------------------------------------\n",
            "Score inf\n",
            "===================================================\n",
            "['pltr,', 'peter', 'thiel', 'is', '<unk>', 'fucking', 'real.']\n",
            "---------------------------------------------------\n",
            "Score inf\n",
            "===================================================\n"
          ],
          "name": "stdout"
        }
      ]
    },
    {
      "cell_type": "code",
      "metadata": {
        "colab": {
          "base_uri": "https://localhost:8080/",
          "height": 426,
          "referenced_widgets": [
            "a7995cfb8ce74e288cc6d023e6e159e0",
            "dbee51fa6bbe433ea5d15d5b927ee736",
            "71c69b4e7cc04c469e16c3aa557b0cc6",
            "7a84cc0b4b674ac4b66f81b09da041e0",
            "35b2619ff04c452dbba62c5747c0a45b",
            "3c2f84c434b74e6f8d4e8ae1793cbcb8",
            "4f4ac8107f1845e1b7f420e67ddd900d",
            "54d9d809978d4d0d960f0a0db3d3b9a0"
          ]
        },
        "id": "Z0zO3CQyjNym",
        "outputId": "fcc9d1fd-ee3e-4d14-cf03-3d08b9ae9b8d"
      },
      "source": [
        "seed_text = [\"stonk\",]\n",
        "eval_ngram(wsb_counts, logprob_abs_discount, seed_text, delta)"
      ],
      "execution_count": 132,
      "outputs": [
        {
          "output_type": "display_data",
          "data": {
            "application/vnd.jupyter.widget-view+json": {
              "model_id": "a7995cfb8ce74e288cc6d023e6e159e0",
              "version_minor": 0,
              "version_major": 2
            },
            "text/plain": [
              "HBox(children=(FloatProgress(value=0.0, max=4.0), HTML(value='')))"
            ]
          },
          "metadata": {
            "tags": []
          }
        },
        {
          "output_type": "stream",
          "text": [
            "Stonk I invested in them and what they said about my pltr <unk>?\n",
            "Stonk town.\n",
            "Stonk go - $ 2k immediately at open?\n",
            "Stonk goes on a twitter <unk>, someone broke into my boss's boss, <unk>, <unk>, and <unk> page about to get crazy high, at least take someone from r/investing?\n",
            "\n",
            "['stonk', 'i', 'invested', 'in', 'them', 'and', 'what', 'they', 'said', 'about', 'my', 'pltr', '<unk>?']\n",
            "---------------------------------------------------\n",
            "Score inf\n",
            "===================================================\n",
            "['stonk', 'town.']\n",
            "---------------------------------------------------\n",
            "Score 263.44420763285945\n",
            "===================================================\n",
            "['stonk', 'go', '-', '$', '2k', 'immediately', 'at', 'open?']\n",
            "---------------------------------------------------\n",
            "Score 2249.6264579600006\n",
            "===================================================\n",
            "['stonk', 'goes', 'on', 'a', 'twitter', '<unk>,', 'someone', 'broke', 'into', 'my', \"boss's\", 'boss,', '<unk>,', '<unk>,', 'and', '<unk>', 'page', 'about', 'to', 'get', 'crazy', 'high,', 'at', 'least', 'take', 'someone', 'from', 'r/investing?']\n",
            "---------------------------------------------------\n",
            "Score inf\n",
            "===================================================\n"
          ],
          "name": "stdout"
        }
      ]
    },
    {
      "cell_type": "code",
      "metadata": {
        "colab": {
          "base_uri": "https://localhost:8080/",
          "height": 426,
          "referenced_widgets": [
            "adb124aafdbc4d09be5f4f73adc6f65f",
            "01a7b6ea0bfe470c81846d0bbb7aa2e2",
            "1df9e67e9056464c9cb78ed66daf9b21",
            "6f583aa3885243ec9d20ae58698c6d3f",
            "33a59956db664fb5a218f0fa265f1033",
            "2594a27b1a0d44009d900c8d77ca333a",
            "609a6f378d094583a052715b5e15f594",
            "14a20901df8e4c5c87f3000c21fc1a11"
          ]
        },
        "id": "KM5DzmHclQoj",
        "outputId": "23ce64c0-ea9f-42ae-dc9f-476ee2bce965"
      },
      "source": [
        "seed_text = [\"stock\",\"market\",]\n",
        "eval_ngram(wsb_counts, logprob_abs_discount, seed_text, delta)"
      ],
      "execution_count": 133,
      "outputs": [
        {
          "output_type": "display_data",
          "data": {
            "application/vnd.jupyter.widget-view+json": {
              "model_id": "adb124aafdbc4d09be5f4f73adc6f65f",
              "version_minor": 0,
              "version_major": 2
            },
            "text/plain": [
              "HBox(children=(FloatProgress(value=0.0, max=4.0), HTML(value='')))"
            ]
          },
          "metadata": {
            "tags": []
          }
        },
        {
          "output_type": "stream",
          "text": [
            "Stock market is <unk> right now.\n",
            "Stock market is still free enough to realize that gold is nowhere near <unk>.\n",
            "Stock market not react in a `` in negotiations for economic growth?\n",
            "Stock market you have to say if you mind your own business and just keep making all the wrong moves and losing money 🍻 boys\n",
            "\n",
            "['stock', 'market', 'is', '<unk>', 'right', 'now.']\n",
            "---------------------------------------------------\n",
            "Score inf\n",
            "===================================================\n",
            "['stock', 'market', 'is', 'still', 'free', 'enough', 'to', 'realize', 'that', 'gold', 'is', 'nowhere', 'near', '<unk>.']\n",
            "---------------------------------------------------\n",
            "Score inf\n",
            "===================================================\n",
            "['stock', 'market', 'not', 'react', 'in', 'a', '``', 'in', 'negotiations', 'for', 'economic', 'growth?']\n",
            "---------------------------------------------------\n",
            "Score 717.297535830128\n",
            "===================================================\n",
            "['stock', 'market', 'you', 'have', 'to', 'say', 'if', 'you', 'mind', 'your', 'own', 'business', 'and', 'just', 'keep', 'making', 'all', 'the', 'wrong', 'moves', 'and', 'losing', 'money', '🍻', 'boys']\n",
            "---------------------------------------------------\n",
            "Score 1824.6802577617368\n",
            "===================================================\n"
          ],
          "name": "stdout"
        }
      ]
    },
    {
      "cell_type": "code",
      "metadata": {
        "colab": {
          "base_uri": "https://localhost:8080/",
          "height": 406,
          "referenced_widgets": [
            "9b20e70b5980479eb9b18da5fa6709d2",
            "cdb96a18c975409a812fce495263a9e7",
            "d85ce0809db840099eece5f8028080b6",
            "300a435e3bae425a855023ff89e6d524",
            "3c46950aa9c44b28bc1e20fce116847b",
            "f9c9dadad65a41da86528157ff28d4c1",
            "df47a5bc667e407882cee7daa1407162",
            "8549717b3a6d4542b4dc5a20f5368a1d"
          ]
        },
        "id": "TsiNHUJVoFDm",
        "outputId": "8bd00d1c-29d3-499a-9c49-7fc337ead1c6"
      },
      "source": [
        "seed_text = [\"invest\",\"in\",]\n",
        "eval_ngram(wsb_counts, logprob_abs_discount, seed_text, delta)"
      ],
      "execution_count": 134,
      "outputs": [
        {
          "output_type": "display_data",
          "data": {
            "application/vnd.jupyter.widget-view+json": {
              "model_id": "9b20e70b5980479eb9b18da5fa6709d2",
              "version_major": 2,
              "version_minor": 0
            },
            "text/plain": [
              "HBox(children=(FloatProgress(value=0.0, max=4.0), HTML(value='')))"
            ]
          },
          "metadata": {
            "tags": []
          }
        },
        {
          "output_type": "stream",
          "text": [
            "Invest in.\n",
            "Invest in european stocks said no one ever <unk> for.\n",
            "Invest in gme\n",
            "Invest in it.\n",
            "\n",
            "['invest', 'in.']\n",
            "---------------------------------------------------\n",
            "Score 718.3458750609933\n",
            "===================================================\n",
            "['invest', 'in', 'european', 'stocks', 'said', 'no', 'one', 'ever', '<unk>', 'for.']\n",
            "---------------------------------------------------\n",
            "Score inf\n",
            "===================================================\n",
            "['invest', 'in', 'gme']\n",
            "---------------------------------------------------\n",
            "Score 1456.5348318779718\n",
            "===================================================\n",
            "['invest', 'in', 'it.']\n",
            "---------------------------------------------------\n",
            "Score 1709.2951830803709\n",
            "===================================================\n"
          ],
          "name": "stdout"
        }
      ]
    },
    {
      "cell_type": "code",
      "metadata": {
        "colab": {
          "base_uri": "https://localhost:8080/",
          "height": 406,
          "referenced_widgets": [
            "4cd2e6cc391f48b6983847e1b4155740",
            "0a97fc4298d04ec7836caf6843a6a3e0",
            "f0c9d31b8202426b9a427b3a243cfc8f",
            "d35ee29454224faa970f143c545ab636",
            "0849b27517c441c4a8e8a9f84292d8e8",
            "2ccb9ebcef574e5d98b86bf1ecbb0bfa",
            "2f522031183b44aa8e4d07f5d5c91dfa",
            "6afeeef201784970b77c7c773e28d320"
          ]
        },
        "id": "_BbOwsVFqm7K",
        "outputId": "e841a580-c586-4478-d1e1-93f5e884d218"
      },
      "source": [
        "seed_text = [\"short\",\"term\",]\n",
        "eval_ngram(wsb_counts, logprob_abs_discount, seed_text, delta)"
      ],
      "execution_count": 135,
      "outputs": [
        {
          "output_type": "display_data",
          "data": {
            "application/vnd.jupyter.widget-view+json": {
              "model_id": "4cd2e6cc391f48b6983847e1b4155740",
              "version_minor": 0,
              "version_major": 2
            },
            "text/plain": [
              "HBox(children=(FloatProgress(value=0.0, max=4.0), HTML(value='')))"
            ]
          },
          "metadata": {
            "tags": []
          }
        },
        {
          "output_type": "stream",
          "text": [
            "Short term in ... <unk> extremely low territory, even for a day or two.\n",
            "Short term options will get the better of me `` <unk>, <unk>, <unk> stories.\n",
            "Short term gains tax, you ’ re <unk> to <unk> big <unk> and <unk> on my balls\n",
            "Short term.\n",
            "\n",
            "['short', 'term', 'in', '...', '<unk>', 'extremely', 'low', 'territory,', 'even', 'for', 'a', 'day', 'or', 'two.']\n",
            "---------------------------------------------------\n",
            "Score inf\n",
            "===================================================\n",
            "['short', 'term', 'options', 'will', 'get', 'the', 'better', 'of', 'me', '``', '<unk>,', '<unk>,', '<unk>', 'stories.']\n",
            "---------------------------------------------------\n",
            "Score inf\n",
            "===================================================\n",
            "['short', 'term', 'gains', 'tax,', 'you', '’', 're', '<unk>', 'to', '<unk>', 'big', '<unk>', 'and', '<unk>', 'on', 'my', 'balls']\n",
            "---------------------------------------------------\n",
            "Score inf\n",
            "===================================================\n",
            "['short', 'term.']\n",
            "---------------------------------------------------\n",
            "Score 4077.618305498825\n",
            "===================================================\n"
          ],
          "name": "stdout"
        }
      ]
    },
    {
      "cell_type": "code",
      "metadata": {
        "colab": {
          "base_uri": "https://localhost:8080/"
        },
        "id": "9sIirobSBNl6",
        "outputId": "4624af95-5c9e-4b5b-8345-62c110024da0"
      },
      "source": [
        "log_interp_weight.caching = True\n",
        "ppx_5000 = perplexity(wsb_test_filt, wsb_counts, logprob_abs_discount)\n",
        "log_interp_weight.caching = False\n",
        "print(\"Perplexity for test set: \",ppx_5000)"
      ],
      "execution_count": 153,
      "outputs": [
        {
          "output_type": "stream",
          "text": [
            "Perplexity for test set:  69.38473968998498\n"
          ],
          "name": "stdout"
        }
      ]
    },
    {
      "cell_type": "markdown",
      "metadata": {
        "id": "PqixChZVsmFT"
      },
      "source": [
        "## 2,500 word vocabulary"
      ]
    },
    {
      "cell_type": "code",
      "metadata": {
        "id": "e6gc62GEs6Sj"
      },
      "source": [
        "vocab_size = 2500\n",
        "delta = 5.2"
      ],
      "execution_count": 136,
      "outputs": []
    },
    {
      "cell_type": "code",
      "metadata": {
        "colab": {
          "base_uri": "https://localhost:8080/"
        },
        "id": "-nukfRL7slfG",
        "outputId": "1144327e-9d8a-49ce-adab-8a94832f87d1"
      },
      "source": [
        "#here is where we set the vocabulary and put <unk>s in\n",
        "wsb_unigram_counts = Counter(itertools.chain.from_iterable(wsb_train)).most_common()\n",
        "\n",
        "print(\"The 10 most common tokens:\")\n",
        "print(\"\\n\".join(word for word, freq in wsb_unigram_counts[:10]))\n",
        "print()\n",
        "print(\"The least common tokens in vocabulary:\")\n",
        "print(\"\\n\".join(word for word, freq in wsb_unigram_counts[vocab_size-10:vocab_size]))\n",
        "\n",
        "\n",
        "#######################################################################################\n",
        "#######################################################################################\n",
        "#######################################################################################\n",
        "wsb_vocab_filt = set(word for word, freq in wsb_unigram_counts[:vocab_size]) | {\"</s>\", \"<unk>\"} #this is the vocabulary\n",
        "\n",
        "#from here we replace anything out of the vocabulary with <unk>\n",
        "wsb_train_filt = replace_oovs(wsb_vocab_filt, wsb_train)\n",
        "wsb_test_filt = replace_oovs(wsb_vocab_filt, wsb_test)\n",
        "\n",
        "print(\"\\n Example of a sentence with limited vocab and <unk>:\")\n",
        "print(detokenize(wsb_train_filt[2000]))"
      ],
      "execution_count": 137,
      "outputs": [
        {
          "output_type": "stream",
          "text": [
            "The 10 most common tokens:\n",
            ".\n",
            "the\n",
            ",\n",
            "to\n",
            "i\n",
            "a\n",
            "and\n",
            "you\n",
            "is\n",
            "of\n",
            "\n",
            "The least common tokens in vocabulary:\n",
            "sheet\n",
            "staring\n",
            "iq\n",
            "peace\n",
            "mattress\n",
            "valuable\n",
            "deliver\n",
            "expires\n",
            "ups\n",
            "pathetic\n",
            "\n",
            " Example of a sentence with limited vocab and <unk>:\n",
            "<unk> election discussion thread\n"
          ],
          "name": "stdout"
        }
      ]
    },
    {
      "cell_type": "code",
      "metadata": {
        "id": "qmE6we15tHng"
      },
      "source": [
        "# Produce counts from the real world data:\n",
        "#we're using 5-grams\n",
        "wsb_counts = get_counts(allgrams_pipeline(wsb_train_filt, 5), 5)"
      ],
      "execution_count": 138,
      "outputs": []
    },
    {
      "cell_type": "code",
      "metadata": {
        "colab": {
          "base_uri": "https://localhost:8080/",
          "height": 406,
          "referenced_widgets": [
            "259ae58111254a06b02b75f81511afc7",
            "6c8ae409dcd745ee9efab8444cc3ac30",
            "1dbb369594b444d4b6a42f18ca424972",
            "3c8c1a2a9c02468894a04523c6465565",
            "6d8c9f94527d43debc2ac75dc853d80d",
            "43c6639c9a6d484b9e461e3266670247",
            "2f577498e7c444eeb13940caa0accd1d",
            "0acbd2512cf3450092db7ae81087bdc1"
          ]
        },
        "id": "Xxrt1gfRtYX9",
        "outputId": "abca4604-5224-4c45-e08f-392a7b57e1aa"
      },
      "source": [
        "seed_text = ['gme',]\n",
        "eval_ngram(wsb_counts, logprob_abs_discount, seed_text, delta)"
      ],
      "execution_count": 139,
      "outputs": [
        {
          "output_type": "display_data",
          "data": {
            "application/vnd.jupyter.widget-view+json": {
              "model_id": "259ae58111254a06b02b75f81511afc7",
              "version_minor": 0,
              "version_major": 2
            },
            "text/plain": [
              "HBox(children=(FloatProgress(value=0.0, max=4.0), HTML(value='')))"
            ]
          },
          "metadata": {
            "tags": []
          }
        },
        {
          "output_type": "stream",
          "text": [
            "Gme\n",
            "Gme was a <unk> to no cut next week and not getting it.\n",
            "Gme happen and is <unk> <unk> <unk>\n",
            "Gme <unk>.\n",
            "\n",
            "['gme']\n",
            "---------------------------------------------------\n",
            "Score inf\n",
            "===================================================\n",
            "['gme', 'was', 'a', '<unk>', 'to', 'no', 'cut', 'next', 'week', 'and', 'not', 'getting', 'it.']\n",
            "---------------------------------------------------\n",
            "Score inf\n",
            "===================================================\n",
            "['gme', 'happen', 'and', 'is', '<unk>', '<unk>', '<unk>']\n",
            "---------------------------------------------------\n",
            "Score inf\n",
            "===================================================\n",
            "['gme', '<unk>.']\n",
            "---------------------------------------------------\n",
            "Score inf\n",
            "===================================================\n"
          ],
          "name": "stdout"
        }
      ]
    },
    {
      "cell_type": "code",
      "metadata": {
        "colab": {
          "base_uri": "https://localhost:8080/",
          "height": 406,
          "referenced_widgets": [
            "a1c163683d47448d9ec7f0f5e61ca2ea",
            "74885b3d7ae643cd92c85e89a522efce",
            "50d8a0728b3b476c824f076e1de5553c",
            "17c0908767a446a394d2fce93963b053",
            "fe714142bfbb4d108a3799e4a431f20b",
            "3d0b2eb20ef642e1afbda54a406e0fac",
            "d026e44a95f64a0eab79185461cb24e1",
            "21f08c861a014ae593a1c2be3c7ad273"
          ]
        },
        "id": "RYagUhCmuBPG",
        "outputId": "169eb24c-f54d-49d1-df64-35a6bfc5ee35"
      },
      "source": [
        "seed_text = [\"to\", \"the\", \"moon\",]\n",
        "eval_ngram(wsb_counts, logprob_abs_discount, seed_text, delta)"
      ],
      "execution_count": 140,
      "outputs": [
        {
          "output_type": "display_data",
          "data": {
            "application/vnd.jupyter.widget-view+json": {
              "model_id": "a1c163683d47448d9ec7f0f5e61ca2ea",
              "version_minor": 0,
              "version_major": 2
            },
            "text/plain": [
              "HBox(children=(FloatProgress(value=0.0, max=4.0), HTML(value='')))"
            ]
          },
          "metadata": {
            "tags": []
          }
        },
        {
          "output_type": "stream",
          "text": [
            "To the moon, <unk> long on rkt with 2 year leaps\n",
            "To the moon.\n",
            "To the moon 🚀\n",
            "To the moon.\n",
            "\n",
            "['to', 'the', 'moon,', '<unk>', 'long', 'on', 'rkt', 'with', '2', 'year', 'leaps']\n",
            "---------------------------------------------------\n",
            "Score inf\n",
            "===================================================\n",
            "['to', 'the', 'moon.']\n",
            "---------------------------------------------------\n",
            "Score inf\n",
            "===================================================\n",
            "['to', 'the', 'moon', '🚀']\n",
            "---------------------------------------------------\n",
            "Score inf\n",
            "===================================================\n",
            "['to', 'the', 'moon.']\n",
            "---------------------------------------------------\n",
            "Score inf\n",
            "===================================================\n"
          ],
          "name": "stdout"
        }
      ]
    },
    {
      "cell_type": "code",
      "metadata": {
        "colab": {
          "base_uri": "https://localhost:8080/",
          "height": 406,
          "referenced_widgets": [
            "8d6c8bfdc4dd480296a4e9541fe01ce3",
            "a17f738181684c5e893a00956822df3c",
            "9921d4c3355d416dbebb3cc1a225524b",
            "904f5fb61ebe4a699531caf831472be9",
            "7065719171c647b99998b63da05cbcb1",
            "496cf5d38e854dd0a600b8530a3f9706",
            "b432b64f18834a708642e0a9f01d989f",
            "7e8a1f87d35341fbb35ca2db889fe81d"
          ]
        },
        "id": "OxXKMe5huZN-",
        "outputId": "7c63d178-f6c2-4407-d5f3-6dba5b9b6331"
      },
      "source": [
        "seed_text = [\"elon\", \"mush\",]\n",
        "eval_ngram(wsb_counts, logprob_abs_discount, seed_text, delta)"
      ],
      "execution_count": 141,
      "outputs": [
        {
          "output_type": "display_data",
          "data": {
            "application/vnd.jupyter.widget-view+json": {
              "model_id": "8d6c8bfdc4dd480296a4e9541fe01ce3",
              "version_minor": 0,
              "version_major": 2
            },
            "text/plain": [
              "HBox(children=(FloatProgress(value=0.0, max=4.0), HTML(value='')))"
            ]
          },
          "metadata": {
            "tags": []
          }
        },
        {
          "output_type": "stream",
          "text": [
            "Elon mush book.\n",
            "Elon mush that spce <unk> back up.\n",
            "Elon mush a <unk>.\n",
            "Elon mush <unk> some, *i <unk>, are you totally retarded\n",
            "\n",
            "['elon', 'mush', 'book.']\n",
            "---------------------------------------------------\n",
            "Score inf\n",
            "===================================================\n",
            "['elon', 'mush', 'that', 'spce', '<unk>', 'back', 'up.']\n",
            "---------------------------------------------------\n",
            "Score inf\n",
            "===================================================\n",
            "['elon', 'mush', 'a', '<unk>.']\n",
            "---------------------------------------------------\n",
            "Score inf\n",
            "===================================================\n",
            "['elon', 'mush', '<unk>', 'some,', '*i', '<unk>,', 'are', 'you', 'totally', 'retarded']\n",
            "---------------------------------------------------\n",
            "Score inf\n",
            "===================================================\n"
          ],
          "name": "stdout"
        }
      ]
    },
    {
      "cell_type": "code",
      "metadata": {
        "colab": {
          "base_uri": "https://localhost:8080/",
          "height": 406,
          "referenced_widgets": [
            "99a5c124062c47bf8e393f5d3735b8a8",
            "bd169c50ed984fda91e429a94461eb70",
            "8414766e2344459b9ace20ca41859637",
            "607aa41a25a84d7bad08ddd3bdc87977",
            "c4c81251b55e4961af0ee224e569b56e",
            "ed80e73e8cf2442da904bc6417baa708",
            "612971d91bd4460c8ce9ef5a3cd6d4e3",
            "9c24c2e1ff9643f2b4071a288d024e8a"
          ]
        },
        "id": "t7FJDXqUu676",
        "outputId": "ffc5619c-cdb3-40c7-9459-3a007b905282"
      },
      "source": [
        "seed_text = [\"pltr\",]\n",
        "eval_ngram(wsb_counts, logprob_abs_discount, seed_text, delta)"
      ],
      "execution_count": 142,
      "outputs": [
        {
          "output_type": "display_data",
          "data": {
            "application/vnd.jupyter.widget-view+json": {
              "model_id": "99a5c124062c47bf8e393f5d3735b8a8",
              "version_minor": 0,
              "version_major": 2
            },
            "text/plain": [
              "HBox(children=(FloatProgress(value=0.0, max=4.0), HTML(value='')))"
            ]
          },
          "metadata": {
            "tags": []
          }
        },
        {
          "output_type": "stream",
          "text": [
            "Pltr rocket.\n",
            "Pltr.\n",
            "Pltr mooning '' over <unk> moves is out of the most obvious bubble that's ever <unk>.\n",
            "Pltr cap so early 2022\n",
            "\n",
            "['pltr', 'rocket.']\n",
            "---------------------------------------------------\n",
            "Score inf\n",
            "===================================================\n",
            "['pltr.']\n",
            "---------------------------------------------------\n",
            "Score inf\n",
            "===================================================\n",
            "['pltr', 'mooning', \"''\", 'over', '<unk>', 'moves', 'is', 'out', 'of', 'the', 'most', 'obvious', 'bubble', \"that's\", 'ever', '<unk>.']\n",
            "---------------------------------------------------\n",
            "Score inf\n",
            "===================================================\n",
            "['pltr', 'cap', 'so', 'early', '2022']\n",
            "---------------------------------------------------\n",
            "Score inf\n",
            "===================================================\n"
          ],
          "name": "stdout"
        }
      ]
    },
    {
      "cell_type": "code",
      "metadata": {
        "colab": {
          "base_uri": "https://localhost:8080/",
          "height": 406,
          "referenced_widgets": [
            "3950f355ad3c416fb9c74a5ff76fa959",
            "e7e50b3212854001a809366e5744ad5d",
            "57006c7846e14debb73903e798a00c98",
            "e40ccc9fd32c40a8a895ea09442590e2",
            "74ecd71f788345cf8f6c561ece29e2dc",
            "77641585f18f440b88ad55ae20817377",
            "1590443f39fe49818386cf9b133716a6",
            "121f787d22054d738c5c357b1c61f9e0"
          ]
        },
        "id": "oVpaCCNKvwF4",
        "outputId": "245a880c-02ff-4f92-fa5c-d2fc8a87b203"
      },
      "source": [
        "seed_text = [\"stonk\",]\n",
        "eval_ngram(wsb_counts, logprob_abs_discount, seed_text, delta)"
      ],
      "execution_count": 143,
      "outputs": [
        {
          "output_type": "display_data",
          "data": {
            "application/vnd.jupyter.widget-view+json": {
              "model_id": "3950f355ad3c416fb9c74a5ff76fa959",
              "version_minor": 0,
              "version_major": 2
            },
            "text/plain": [
              "HBox(children=(FloatProgress(value=0.0, max=4.0), HTML(value='')))"
            ]
          },
          "metadata": {
            "tags": []
          }
        },
        {
          "output_type": "stream",
          "text": [
            "Stonk market <unk> of our <unk>\n",
            "Stonk go up.\n",
            "Stonk\n",
            "Stonk both <unk> their own service\n",
            "\n",
            "['stonk', 'market', '<unk>', 'of', 'our', '<unk>']\n",
            "---------------------------------------------------\n",
            "Score inf\n",
            "===================================================\n",
            "['stonk', 'go', 'up.']\n",
            "---------------------------------------------------\n",
            "Score inf\n",
            "===================================================\n",
            "['stonk']\n",
            "---------------------------------------------------\n",
            "Score 39.73412507785317\n",
            "===================================================\n",
            "['stonk', 'both', '<unk>', 'their', 'own', 'service']\n",
            "---------------------------------------------------\n",
            "Score inf\n",
            "===================================================\n"
          ],
          "name": "stdout"
        }
      ]
    },
    {
      "cell_type": "code",
      "metadata": {
        "colab": {
          "base_uri": "https://localhost:8080/",
          "height": 426,
          "referenced_widgets": [
            "2b391460a84e486fb2301afc50614ab1",
            "cd7ef9bd0ded409a9afc7b04ea66256a",
            "1b3b978f71a341928f394e84650011c3",
            "7c7137bde67648beb5f145b17dc825f8",
            "d81816e453aa44b98275338b4c0b6ad1",
            "2d25eede8d98412f885d5ee0156150c5",
            "d6a286af468546fdba2477987cfc903b",
            "eb5bc543f3b5478fae69c6bc0685824e"
          ]
        },
        "id": "ameaL5zGv8to",
        "outputId": "92681833-fc39-4d25-91b2-01b64998e5f4"
      },
      "source": [
        "seed_text = [\"stock\",\"market\",]\n",
        "eval_ngram(wsb_counts, logprob_abs_discount, seed_text, delta)"
      ],
      "execution_count": 144,
      "outputs": [
        {
          "output_type": "display_data",
          "data": {
            "application/vnd.jupyter.widget-view+json": {
              "model_id": "2b391460a84e486fb2301afc50614ab1",
              "version_minor": 0,
              "version_major": 2
            },
            "text/plain": [
              "HBox(children=(FloatProgress(value=0.0, max=4.0), HTML(value='')))"
            ]
          },
          "metadata": {
            "tags": []
          }
        },
        {
          "output_type": "stream",
          "text": [
            "Stock market back here in 30 minutes ... .. green by open and then drill aren ’ t selling and the average of what is said every friday on this sub <unk> me\n",
            "Stock market\n",
            "Stock market go <unk>.\n",
            "Stock market has decided they like that trade off more than paying <unk>.\n",
            "\n",
            "['stock', 'market', 'back', 'here', 'in', '30', 'minutes', '...', '..', 'green', 'by', 'open', 'and', 'then', 'drill', 'aren', '’', 't', 'selling', 'and', 'the', 'average', 'of', 'what', 'is', 'said', 'every', 'friday', 'on', 'this', 'sub', '<unk>', 'me']\n",
            "---------------------------------------------------\n",
            "Score inf\n",
            "===================================================\n",
            "['stock', 'market']\n",
            "---------------------------------------------------\n",
            "Score 36.18961100188603\n",
            "===================================================\n",
            "['stock', 'market', 'go', '<unk>.']\n",
            "---------------------------------------------------\n",
            "Score inf\n",
            "===================================================\n",
            "['stock', 'market', 'has', 'decided', 'they', 'like', 'that', 'trade', 'off', 'more', 'than', 'paying', '<unk>.']\n",
            "---------------------------------------------------\n",
            "Score inf\n",
            "===================================================\n"
          ],
          "name": "stdout"
        }
      ]
    },
    {
      "cell_type": "code",
      "metadata": {
        "colab": {
          "base_uri": "https://localhost:8080/",
          "height": 426,
          "referenced_widgets": [
            "b9226847a2b945c1a68c5684c34f2507",
            "9c73d7e620cf4d2e80a125e0808c400d",
            "51970038fc8e45b6958b746840f680b5",
            "6a467bf0e65345718eb5a3760be44b0c",
            "7bf45d24a7764a71980f8db27b4580e8",
            "25a68113a0b04fb083f5cee96e3b0975",
            "44ad25e1cac14a7b8f66460ec0e30ba1",
            "795418c84ac1491fa79dc774ed94da02"
          ]
        },
        "id": "u-qdcsY3v9hC",
        "outputId": "78eeff5b-214a-4b77-ffd0-666121fe7a99"
      },
      "source": [
        "seed_text = [\"invest\",\"in\",]\n",
        "eval_ngram(wsb_counts, logprob_abs_discount, seed_text, delta)"
      ],
      "execution_count": 145,
      "outputs": [
        {
          "output_type": "display_data",
          "data": {
            "application/vnd.jupyter.widget-view+json": {
              "model_id": "b9226847a2b945c1a68c5684c34f2507",
              "version_minor": 0,
              "version_major": 2
            },
            "text/plain": [
              "HBox(children=(FloatProgress(value=0.0, max=4.0), HTML(value='')))"
            ]
          },
          "metadata": {
            "tags": []
          }
        },
        {
          "output_type": "stream",
          "text": [
            "Invest in a <unk> <unk>.\n",
            "Invest in a <unk> hot stock tip stories I 've doing this summer ( asking if I had just left <unk> <unk> <unk> and the sex isnt great.\n",
            "Invest in <unk> bears blowing guys in 2 days.\n",
            "Invest in a month\n",
            "\n",
            "['invest', 'in', 'a', '<unk>', '<unk>.']\n",
            "---------------------------------------------------\n",
            "Score inf\n",
            "===================================================\n",
            "['invest', 'in', 'a', '<unk>', 'hot', 'stock', 'tip', 'stories', 'i', \"'ve\", 'doing', 'this', 'summer', '(', 'asking', 'if', 'i', 'had', 'just', 'left', '<unk>', '<unk>', '<unk>', 'and', 'the', 'sex', 'isnt', 'great.']\n",
            "---------------------------------------------------\n",
            "Score inf\n",
            "===================================================\n",
            "['invest', 'in', '<unk>', 'bears', 'blowing', 'guys', 'in', '2', 'days.']\n",
            "---------------------------------------------------\n",
            "Score inf\n",
            "===================================================\n",
            "['invest', 'in', 'a', 'month']\n",
            "---------------------------------------------------\n",
            "Score inf\n",
            "===================================================\n"
          ],
          "name": "stdout"
        }
      ]
    },
    {
      "cell_type": "code",
      "metadata": {
        "colab": {
          "base_uri": "https://localhost:8080/",
          "height": 426,
          "referenced_widgets": [
            "f211f77776124b179fa57e1f49c32104",
            "537e74b0f41b44bdb0b524297c3b923b",
            "30d74247276b4a309c50656ca4e5b4a8",
            "6d623299d6fa4a5b936ca52abddd6d86",
            "10f3a2755ecf4c4c8acbb572ee368667",
            "946dfd89477c41edbe15a3562a80165b",
            "b2796430c14d437ca5d72dc4307198a8",
            "29af84efedbf4a1c845e1909d2668f49"
          ]
        },
        "id": "d4t4-RWLwDiq",
        "outputId": "817f4cbb-c806-47be-c35f-92a62dcf837c"
      },
      "source": [
        "seed_text = [\"short\",\"term\",]\n",
        "eval_ngram(wsb_counts, logprob_abs_discount, seed_text, delta)"
      ],
      "execution_count": 146,
      "outputs": [
        {
          "output_type": "display_data",
          "data": {
            "application/vnd.jupyter.widget-view+json": {
              "model_id": "f211f77776124b179fa57e1f49c32104",
              "version_minor": 0,
              "version_major": 2
            },
            "text/plain": [
              "HBox(children=(FloatProgress(value=0.0, max=4.0), HTML(value='')))"
            ]
          },
          "metadata": {
            "tags": []
          }
        },
        {
          "output_type": "stream",
          "text": [
            "Short term play.\n",
            "Short term fucked long term <unk> of policy changes, <unk> money is coming from ... we 're going to be in the <unk>.\n",
            "Short term <unk> with an <unk> at <unk>, based on the fuckin virus and unemployment is <unk> to all the bulls screaming : the market is n't <unk> them cause of their <unk> is to write cnbc <unk> you <unk> in on the ground and the great american story about how <unk> a casino and gamble in <unk>, pltr, and <unk> their <unk> a little bit, me having to pay this back next year.\n",
            "Short term right into off the wall shit, don ’ t know what is one <unk> % day <unk> with spx I ’ ve been laid off in the summer.\n",
            "\n",
            "['short', 'term', 'play.']\n",
            "---------------------------------------------------\n",
            "Score inf\n",
            "===================================================\n",
            "['short', 'term', 'fucked', 'long', 'term', '<unk>', 'of', 'policy', 'changes,', '<unk>', 'money', 'is', 'coming', 'from', '...', 'we', \"'re\", 'going', 'to', 'be', 'in', 'the', '<unk>.']\n",
            "---------------------------------------------------\n",
            "Score inf\n",
            "===================================================\n",
            "['short', 'term', '<unk>', 'with', 'an', '<unk>', 'at', '<unk>,', 'based', 'on', 'the', 'fuckin', 'virus', 'and', 'unemployment', 'is', '<unk>', 'to', 'all', 'the', 'bulls', 'screaming', ':', 'the', 'market', 'is', \"n't\", '<unk>', 'them', 'cause', 'of', 'their', '<unk>', 'is', 'to', 'write', 'cnbc', '<unk>', 'you', '<unk>', 'in', 'on', 'the', 'ground', 'and', 'the', 'great', 'american', 'story', 'about', 'how', '<unk>', 'a', 'casino', 'and', 'gamble', 'in', '<unk>,', 'pltr,', 'and', '<unk>', 'their', '<unk>', 'a', 'little', 'bit,', 'me', 'having', 'to', 'pay', 'this', 'back', 'next', 'year.']\n",
            "---------------------------------------------------\n",
            "Score inf\n",
            "===================================================\n",
            "['short', 'term', 'right', 'into', 'off', 'the', 'wall', 'shit,', 'don', '’', 't', 'know', 'what', 'is', 'one', '<unk>', '%', 'day', '<unk>', 'with', 'spx', 'i', '’', 've', 'been', 'laid', 'off', 'in', 'the', 'summer.']\n",
            "---------------------------------------------------\n",
            "Score inf\n",
            "===================================================\n"
          ],
          "name": "stdout"
        }
      ]
    },
    {
      "cell_type": "code",
      "metadata": {
        "colab": {
          "base_uri": "https://localhost:8080/"
        },
        "id": "PzOki_nKwadi",
        "outputId": "7524bda9-d2ee-49ac-b879-f7c210b1332b"
      },
      "source": [
        "log_interp_weight.caching = True\n",
        "ppx_2000 = perplexity(wsb_test_filt, wsb_counts, logprob_abs_discount)\n",
        "log_interp_weight.caching = False\n",
        "print(\"Perplexity for test set: \",ppx_2000)"
      ],
      "execution_count": 147,
      "outputs": [
        {
          "output_type": "stream",
          "text": [
            "Perplexity for test set:  57.32341502302042\n"
          ],
          "name": "stdout"
        }
      ]
    },
    {
      "cell_type": "markdown",
      "metadata": {
        "id": "Ql9KB6hlwlNt"
      },
      "source": [
        "### Original experimental codes"
      ]
    },
    {
      "cell_type": "code",
      "metadata": {
        "colab": {
          "base_uri": "https://localhost:8080/"
        },
        "id": "2O2jK7yY6gDz",
        "outputId": "090740f2-1f87-41c2-e33d-2737dba1e55f"
      },
      "source": [
        "print(\"Sentences from a smoothed model:\")\n",
        "log_interp_weight.caching = True\n",
        "text_results = []\n",
        "for i in tqdm(range(4)):\n",
        "    text_result = detokenize(generate_text(wsb_counts, logprob_abs_discount, seed_text, delta=5.2))\n",
        "    text_results.append(text_result)\n",
        "    print(text_results[i])\n",
        "    \n",
        "log_interp_weight.caching = False"
      ],
      "execution_count": null,
      "outputs": [
        {
          "output_type": "stream",
          "text": [
            "\n",
            "  0%|          | 0/4 [00:00<?, ?it/s]\u001b[A"
          ],
          "name": "stderr"
        },
        {
          "output_type": "stream",
          "text": [
            "Sentences from a smoothed model:\n"
          ],
          "name": "stdout"
        },
        {
          "output_type": "stream",
          "text": [
            "\n",
            " 25%|██▌       | 1/4 [10:58<32:55, 658.38s/it]\u001b[A"
          ],
          "name": "stderr"
        },
        {
          "output_type": "stream",
          "text": [
            "Gme I had set up a national testing supply chain ( who knew ) and we now have an entire diversified meme portfolio printing tendies at record highs, unprecedented fed <unk> needed to stop credit market <unk>, these are the same china market.\n"
          ],
          "name": "stdout"
        },
        {
          "output_type": "stream",
          "text": [
            "\n",
            " 50%|█████     | 2/4 [14:50<17:40, 530.39s/it]\u001b[A"
          ],
          "name": "stderr"
        },
        {
          "output_type": "stream",
          "text": [
            "Gme would know, I knew this was up over missing out or selling too early, again.\n"
          ],
          "name": "stdout"
        },
        {
          "output_type": "stream",
          "text": [
            "\n",
            " 75%|███████▌  | 3/4 [16:04<06:33, 393.58s/it]\u001b[A"
          ],
          "name": "stderr"
        },
        {
          "output_type": "stream",
          "text": [
            "Gme my mouth are permanently <unk>?\n"
          ],
          "name": "stdout"
        },
        {
          "output_type": "stream",
          "text": [
            "\n",
            "100%|██████████| 4/4 [16:27<00:00, 246.85s/it]"
          ],
          "name": "stderr"
        },
        {
          "output_type": "stream",
          "text": [
            "Gme <unk>.\n"
          ],
          "name": "stdout"
        },
        {
          "output_type": "stream",
          "text": [
            "\n"
          ],
          "name": "stderr"
        }
      ]
    },
    {
      "cell_type": "code",
      "metadata": {
        "id": "jHb952gwtXmm"
      },
      "source": [
        ""
      ],
      "execution_count": null,
      "outputs": []
    },
    {
      "cell_type": "code",
      "metadata": {
        "colab": {
          "base_uri": "https://localhost:8080/"
        },
        "id": "YGiDJSz66gDz",
        "outputId": "a6e2358e-cb4c-45e3-d918-d6d607f54893"
      },
      "source": [
        "for sentence in text_results:\n",
        "    text = sentence.split()\n",
        "    text = [each_string.lower() for each_string in text]\n",
        "    text[-1] = text[-1][:-1]\n",
        "    print(text)\n",
        "    print('---------------------------------------------------')\n",
        "    print('Score {}'.format(perplexity([text], wsb_counts, logprob_abs_discount)))\n",
        "    print('===================================================')"
      ],
      "execution_count": null,
      "outputs": [
        {
          "output_type": "stream",
          "text": [
            "['gme', 'i', 'had', 'set', 'up', 'a', 'national', 'testing', 'supply', 'chain', '(', 'who', 'knew', ')', 'and', 'we', 'now', 'have', 'an', 'entire', 'diversified', 'meme', 'portfolio', 'printing', 'tendies', 'at', 'record', 'highs,', 'unprecedented', 'fed', '<unk>', 'needed', 'to', 'stop', 'credit', 'market', '<unk>,', 'these', 'are', 'the', 'same', 'china', 'market']\n",
            "---------------------------------------------------\n",
            "Score inf\n",
            "===================================================\n",
            "['gme', 'would', 'know,', 'i', 'knew', 'this', 'was', 'up', 'over', 'missing', 'out', 'or', 'selling', 'too', 'early,', 'again']\n",
            "---------------------------------------------------\n",
            "Score inf\n",
            "===================================================\n",
            "['gme', 'my', 'mouth', 'are', 'permanently', '<unk>']\n",
            "---------------------------------------------------\n",
            "Score 73.52216756741151\n",
            "===================================================\n",
            "['gme', '<unk>']\n",
            "---------------------------------------------------\n",
            "Score 358.7804250492436\n",
            "===================================================\n"
          ],
          "name": "stdout"
        }
      ]
    },
    {
      "cell_type": "code",
      "metadata": {
        "colab": {
          "base_uri": "https://localhost:8080/"
        },
        "id": "2fut_nlZEwvG",
        "outputId": "21e0fc53-a9e0-46b4-8d64-663c1a6a80f5"
      },
      "source": [
        "perplexity(['gme', 'i', 'had', 'set', 'up', 'a', 'national', 'testing', 'supply', 'chain', '(', 'who', 'knew', ')', 'and', 'we', 'now', 'have', 'an', 'entire', 'diversified', 'meme', 'portfolio', 'printing', 'tendies', 'at', 'record', 'highs,', 'unprecedented', 'fed', 'needed', 'to', 'stop', 'credit', 'market', 'these', 'are', 'the', 'same', 'china', 'market','.'],wsb_counts, logprob_abs_discount)"
      ],
      "execution_count": null,
      "outputs": [
        {
          "output_type": "execute_result",
          "data": {
            "text/plain": [
              "2495.6783340283496"
            ]
          },
          "metadata": {
            "tags": []
          },
          "execution_count": 57
        }
      ]
    },
    {
      "cell_type": "code",
      "metadata": {
        "colab": {
          "base_uri": "https://localhost:8080/"
        },
        "id": "ZKmr6vfEHvwF",
        "outputId": "6ef2ad28-864f-4932-fc2e-e72b62bc941d"
      },
      "source": [
        "perplexity(['gme', 'would', 'know,', 'i', 'knew', 'this', 'was', 'up', 'over', 'missing', 'out', 'or', 'selling', 'too', 'early,', 'again','.'], wsb_counts, logprob_abs_discount)"
      ],
      "execution_count": null,
      "outputs": [
        {
          "output_type": "execute_result",
          "data": {
            "text/plain": [
              "3715.0339165799496"
            ]
          },
          "metadata": {
            "tags": []
          },
          "execution_count": 58
        }
      ]
    },
    {
      "cell_type": "code",
      "metadata": {
        "colab": {
          "base_uri": "https://localhost:8080/"
        },
        "id": "HZLc5NjE6gDz",
        "outputId": "da643701-4005-4669-d709-a5fd56e17dca"
      },
      "source": [
        "seed_text = [\"to\", \"the\", \"moon\",]\n",
        "print(\"Sentences from a smoothed model:\")\n",
        "log_interp_weight.caching = True\n",
        "text_results = []\n",
        "for i in tqdm(range(4)):\n",
        "    text_result = detokenize(generate_text(wsb_counts, logprob_abs_discount, seed_text, delta=5.2))\n",
        "    text_results.append(text_result)\n",
        "    print(text_results[i])\n",
        "    \n",
        "log_interp_weight.caching = False"
      ],
      "execution_count": null,
      "outputs": [
        {
          "output_type": "stream",
          "text": [
            "\n",
            "  0%|          | 0/4 [00:00<?, ?it/s]\u001b[A"
          ],
          "name": "stderr"
        },
        {
          "output_type": "stream",
          "text": [
            "Sentences from a smoothed model:\n"
          ],
          "name": "stdout"
        },
        {
          "output_type": "stream",
          "text": [
            "\n",
            " 25%|██▌       | 1/4 [00:25<01:16, 25.52s/it]\u001b[A"
          ],
          "name": "stderr"
        },
        {
          "output_type": "stream",
          "text": [
            "To the moon tomorrow\n"
          ],
          "name": "stdout"
        },
        {
          "output_type": "stream",
          "text": [
            "\n",
            " 50%|█████     | 2/4 [00:51<00:51, 25.56s/it]\u001b[A"
          ],
          "name": "stderr"
        },
        {
          "output_type": "stream",
          "text": [
            "To the moon!\n"
          ],
          "name": "stdout"
        },
        {
          "output_type": "stream",
          "text": [
            "\n",
            " 75%|███████▌  | 3/4 [01:02<00:21, 21.20s/it]\u001b[A"
          ],
          "name": "stderr"
        },
        {
          "output_type": "stream",
          "text": [
            "To the moon\n"
          ],
          "name": "stdout"
        },
        {
          "output_type": "stream",
          "text": [
            "\n",
            "100%|██████████| 4/4 [01:27<00:00, 21.85s/it]"
          ],
          "name": "stderr"
        },
        {
          "output_type": "stream",
          "text": [
            "To the moon.\n"
          ],
          "name": "stdout"
        },
        {
          "output_type": "stream",
          "text": [
            "\n"
          ],
          "name": "stderr"
        }
      ]
    },
    {
      "cell_type": "code",
      "metadata": {
        "id": "gHnJnqKLHvAC"
      },
      "source": [
        ""
      ],
      "execution_count": null,
      "outputs": []
    },
    {
      "cell_type": "code",
      "metadata": {
        "colab": {
          "base_uri": "https://localhost:8080/"
        },
        "id": "eFd5Ws9s6gD0",
        "outputId": "d34a1302-08d2-4ba6-cb3b-a8f64890a398"
      },
      "source": [
        "for sentence in text_results:\n",
        "    text = sentence.split()\n",
        "    text = [each_string.lower() for each_string in text]\n",
        "    text[-1] = text[-1][:-1]\n",
        "    \n",
        "    print(text)\n",
        "    print('---------------------------------------------------')    \n",
        "    print('Score {}'.format(perplexity([text], wsb_counts, logprob_abs_discount)))\n",
        "    print('===================================================')"
      ],
      "execution_count": null,
      "outputs": [
        {
          "output_type": "stream",
          "text": [
            "['to', 'the', 'moon', 'tomorro']\n",
            "---------------------------------------------------\n",
            "Score inf\n",
            "===================================================\n",
            "['to', 'the', 'moon']\n",
            "---------------------------------------------------\n",
            "Score 34.799007445288815\n",
            "===================================================\n",
            "['to', 'the', 'moo']\n",
            "---------------------------------------------------\n",
            "Score inf\n",
            "===================================================\n",
            "['to', 'the', 'moon']\n",
            "---------------------------------------------------\n",
            "Score 34.799007445288815\n",
            "===================================================\n"
          ],
          "name": "stdout"
        }
      ]
    },
    {
      "cell_type": "code",
      "metadata": {
        "colab": {
          "base_uri": "https://localhost:8080/"
        },
        "id": "mRkGHh9CKkj-",
        "outputId": "31491dcb-f642-4d48-f042-43b10453735a"
      },
      "source": [
        "perplexity(['to', 'the', 'moon', 'tomorrow'], wsb_counts, logprob_abs_discount)"
      ],
      "execution_count": null,
      "outputs": [
        {
          "output_type": "execute_result",
          "data": {
            "text/plain": [
              "3189.329977624238"
            ]
          },
          "metadata": {
            "tags": []
          },
          "execution_count": 59
        }
      ]
    },
    {
      "cell_type": "code",
      "metadata": {
        "colab": {
          "base_uri": "https://localhost:8080/"
        },
        "id": "vyJisih3K7LI",
        "outputId": "6f214003-0b8b-4e2d-e4c3-6e6be17beb42"
      },
      "source": [
        "perplexity(['to', 'the', 'moon', '!'], wsb_counts, logprob_abs_discount)"
      ],
      "execution_count": null,
      "outputs": [
        {
          "output_type": "execute_result",
          "data": {
            "text/plain": [
              "6535.755967479491"
            ]
          },
          "metadata": {
            "tags": []
          },
          "execution_count": 60
        }
      ]
    },
    {
      "cell_type": "code",
      "metadata": {
        "colab": {
          "base_uri": "https://localhost:8080/"
        },
        "id": "cwHBxZ436gD0",
        "outputId": "758c6fca-0d14-4f3b-a204-a0c5030a4945"
      },
      "source": [
        "seed_text = [\"elon\", \"mush\",]\n",
        "print(\"Sentences from a smoothed model:\")\n",
        "log_interp_weight.caching = True\n",
        "text_results = []\n",
        "for i in tqdm(range(4)):\n",
        "    text_result = detokenize(generate_text(wsb_counts, logprob_abs_discount, seed_text, delta=5.2))\n",
        "    text_results.append(text_result)\n",
        "    print(text_results[i])\n",
        "    \n",
        "log_interp_weight.caching = False"
      ],
      "execution_count": null,
      "outputs": [
        {
          "output_type": "stream",
          "text": [
            "\n",
            "\n",
            "  0%|          | 0/4 [00:00<?, ?it/s]\u001b[A\u001b[A"
          ],
          "name": "stderr"
        },
        {
          "output_type": "stream",
          "text": [
            "Sentences from a smoothed model:\n"
          ],
          "name": "stdout"
        },
        {
          "output_type": "stream",
          "text": [
            "\n",
            "\n",
            " 25%|██▌       | 1/4 [01:05<03:16, 65.67s/it]\u001b[A\u001b[A"
          ],
          "name": "stderr"
        },
        {
          "output_type": "stream",
          "text": [
            "Elon mush there is rona.\n"
          ],
          "name": "stdout"
        },
        {
          "output_type": "stream",
          "text": [
            "\n",
            "\n",
            " 50%|█████     | 2/4 [01:13<01:36, 48.40s/it]\u001b[A\u001b[A"
          ],
          "name": "stderr"
        },
        {
          "output_type": "stream",
          "text": [
            "Elon mush\n"
          ],
          "name": "stdout"
        },
        {
          "output_type": "stream",
          "text": [
            "\n",
            "\n",
            " 75%|███████▌  | 3/4 [01:33<00:39, 39.72s/it]\u001b[A\u001b[A"
          ],
          "name": "stderr"
        },
        {
          "output_type": "stream",
          "text": [
            "Elon mush ''\n"
          ],
          "name": "stdout"
        },
        {
          "output_type": "stream",
          "text": [
            "\n",
            "\n",
            "100%|██████████| 4/4 [01:41<00:00, 25.25s/it]"
          ],
          "name": "stderr"
        },
        {
          "output_type": "stream",
          "text": [
            "Elon mush\n"
          ],
          "name": "stdout"
        },
        {
          "output_type": "stream",
          "text": [
            "\n"
          ],
          "name": "stderr"
        }
      ]
    },
    {
      "cell_type": "code",
      "metadata": {
        "colab": {
          "base_uri": "https://localhost:8080/"
        },
        "id": "4a8LzqFq6gD0",
        "outputId": "57797d94-aa7c-40c5-ce68-5627d99ede96"
      },
      "source": [
        "for sentence in text_results:\n",
        "    text = sentence.split()\n",
        "    text = [each_string.lower() for each_string in text]\n",
        "    #text[-1] = text[-1][:-1]\n",
        "    text[-1] = text[-1]\n",
        "    print(text)\n",
        "    print('---------------------------------------------------')    \n",
        "    print('Score {}'.format(perplexity(text, wsb_counts, logprob_abs_discount)))\n",
        "    print('===================================================')"
      ],
      "execution_count": null,
      "outputs": [
        {
          "output_type": "stream",
          "text": [
            "['elon', 'mush', 'there', 'is', 'rona.']\n",
            "---------------------------------------------------\n",
            "Score 1654.690388507937\n",
            "===================================================\n",
            "['elon', 'mush']\n",
            "---------------------------------------------------\n",
            "Score 1049.1177840846137\n",
            "===================================================\n",
            "['elon', 'mush', \"''\"]\n",
            "---------------------------------------------------\n",
            "Score 2038.7328570488178\n",
            "===================================================\n",
            "['elon', 'mush']\n",
            "---------------------------------------------------\n",
            "Score 1049.1177840846137\n",
            "===================================================\n"
          ],
          "name": "stdout"
        }
      ]
    },
    {
      "cell_type": "code",
      "metadata": {
        "colab": {
          "base_uri": "https://localhost:8080/"
        },
        "id": "sappTJmkRsyL",
        "outputId": "bbcb4a19-2844-4d7e-e347-319a70570e02"
      },
      "source": [
        "perplexity(['elon', 'mush', 'there', 'is', 'rona.'], wsb_counts, logprob_abs_discount)"
      ],
      "execution_count": null,
      "outputs": [
        {
          "output_type": "execute_result",
          "data": {
            "text/plain": [
              "1654.690388507937"
            ]
          },
          "metadata": {
            "tags": []
          },
          "execution_count": 71
        }
      ]
    },
    {
      "cell_type": "code",
      "metadata": {
        "id": "5BoA4ROB6gD1",
        "colab": {
          "base_uri": "https://localhost:8080/",
          "height": 447
        },
        "outputId": "35910f60-7045-4b9f-dc1a-7e13fa7074f3"
      },
      "source": [
        "seed_text = ['Daddy',]\n",
        "print(\"Sentences from a smoothed model:\")\n",
        "log_interp_weight.caching = True\n",
        "text_results = []\n",
        "for i in tqdm(range(4)):\n",
        "    text_result = detokenize(generate_text(wsb_counts, logprob_abs_discount, seed_text, delta=5.2))\n",
        "    text_results.append(text_result)\n",
        "    print(text_results[i])\n",
        "    \n",
        "log_interp_weight.caching = False"
      ],
      "execution_count": 21,
      "outputs": [
        {
          "output_type": "stream",
          "text": [
            "\r  0%|          | 0/4 [00:00<?, ?it/s]"
          ],
          "name": "stderr"
        },
        {
          "output_type": "stream",
          "text": [
            "Sentences from a smoothed model:\n"
          ],
          "name": "stdout"
        },
        {
          "output_type": "stream",
          "text": [
            "\r 25%|██▌       | 1/4 [00:23<01:10, 23.64s/it]"
          ],
          "name": "stderr"
        },
        {
          "output_type": "stream",
          "text": [
            "Daddy mango.\n"
          ],
          "name": "stdout"
        },
        {
          "output_type": "stream",
          "text": [
            "\r 50%|█████     | 2/4 [01:54<01:27, 43.84s/it]"
          ],
          "name": "stderr"
        },
        {
          "output_type": "stream",
          "text": [
            "Daddy we will <unk> these as well?\n"
          ],
          "name": "stdout"
        },
        {
          "output_type": "stream",
          "text": [
            "\r 75%|███████▌  | 3/4 [05:13<01:30, 90.25s/it]"
          ],
          "name": "stderr"
        },
        {
          "output_type": "stream",
          "text": [
            "Daddy exactly the <unk> face in about 3 weeks ago lmao pt $ 80 jan 2021\n"
          ],
          "name": "stdout"
        },
        {
          "output_type": "error",
          "ename": "KeyboardInterrupt",
          "evalue": "ignored",
          "traceback": [
            "\u001b[0;31m---------------------------------------------------------------------------\u001b[0m",
            "\u001b[0;31mKeyboardInterrupt\u001b[0m                         Traceback (most recent call last)",
            "\u001b[0;32m<ipython-input-21-82f8931de951>\u001b[0m in \u001b[0;36m<module>\u001b[0;34m()\u001b[0m\n\u001b[1;32m      4\u001b[0m \u001b[0mtext_results\u001b[0m \u001b[0;34m=\u001b[0m \u001b[0;34m[\u001b[0m\u001b[0;34m]\u001b[0m\u001b[0;34m\u001b[0m\u001b[0;34m\u001b[0m\u001b[0m\n\u001b[1;32m      5\u001b[0m \u001b[0;32mfor\u001b[0m \u001b[0mi\u001b[0m \u001b[0;32min\u001b[0m \u001b[0mtqdm\u001b[0m\u001b[0;34m(\u001b[0m\u001b[0mrange\u001b[0m\u001b[0;34m(\u001b[0m\u001b[0;36m4\u001b[0m\u001b[0;34m)\u001b[0m\u001b[0;34m)\u001b[0m\u001b[0;34m:\u001b[0m\u001b[0;34m\u001b[0m\u001b[0;34m\u001b[0m\u001b[0m\n\u001b[0;32m----> 6\u001b[0;31m     \u001b[0mtext_result\u001b[0m \u001b[0;34m=\u001b[0m \u001b[0mdetokenize\u001b[0m\u001b[0;34m(\u001b[0m\u001b[0mgenerate_text\u001b[0m\u001b[0;34m(\u001b[0m\u001b[0mwsb_counts\u001b[0m\u001b[0;34m,\u001b[0m \u001b[0mlogprob_abs_discount\u001b[0m\u001b[0;34m,\u001b[0m \u001b[0mseed_text\u001b[0m\u001b[0;34m,\u001b[0m \u001b[0mdelta\u001b[0m\u001b[0;34m=\u001b[0m\u001b[0;36m5.2\u001b[0m\u001b[0;34m)\u001b[0m\u001b[0;34m)\u001b[0m\u001b[0;34m\u001b[0m\u001b[0;34m\u001b[0m\u001b[0m\n\u001b[0m\u001b[1;32m      7\u001b[0m     \u001b[0mtext_results\u001b[0m\u001b[0;34m.\u001b[0m\u001b[0mappend\u001b[0m\u001b[0;34m(\u001b[0m\u001b[0mtext_result\u001b[0m\u001b[0;34m)\u001b[0m\u001b[0;34m\u001b[0m\u001b[0;34m\u001b[0m\u001b[0m\n\u001b[1;32m      8\u001b[0m     \u001b[0mprint\u001b[0m\u001b[0;34m(\u001b[0m\u001b[0mtext_results\u001b[0m\u001b[0;34m[\u001b[0m\u001b[0mi\u001b[0m\u001b[0;34m]\u001b[0m\u001b[0;34m)\u001b[0m\u001b[0;34m\u001b[0m\u001b[0;34m\u001b[0m\u001b[0m\n",
            "\u001b[0;32m<ipython-input-11-d099e8349e6a>\u001b[0m in \u001b[0;36mgenerate_text\u001b[0;34m(model_counts, logprob_func, seed_text, **lp_kwargs)\u001b[0m\n\u001b[1;32m     32\u001b[0m         \u001b[0mcontext\u001b[0m \u001b[0;34m=\u001b[0m \u001b[0moutput\u001b[0m\u001b[0;34m[\u001b[0m\u001b[0;34m-\u001b[0m\u001b[0mmax_n\u001b[0m\u001b[0;34m+\u001b[0m\u001b[0;36m1\u001b[0m\u001b[0;34m:\u001b[0m\u001b[0;34m]\u001b[0m \u001b[0;32mif\u001b[0m \u001b[0mmax_n\u001b[0m \u001b[0;34m>\u001b[0m \u001b[0;36m1\u001b[0m \u001b[0;32melse\u001b[0m \u001b[0;34m[\u001b[0m\u001b[0;34m]\u001b[0m\u001b[0;34m\u001b[0m\u001b[0;34m\u001b[0m\u001b[0m\n\u001b[1;32m     33\u001b[0m         token_logprobs = [2**logprob_func(model_counts, tuple(context), token, **lp_kwargs) \n\u001b[0;32m---> 34\u001b[0;31m                           for token in vocab]\n\u001b[0m\u001b[1;32m     35\u001b[0m         \u001b[0mnext_part\u001b[0m \u001b[0;34m=\u001b[0m \u001b[0mrandom\u001b[0m\u001b[0;34m.\u001b[0m\u001b[0mchoices\u001b[0m\u001b[0;34m(\u001b[0m\u001b[0mvocab\u001b[0m\u001b[0;34m,\u001b[0m \u001b[0mtoken_logprobs\u001b[0m\u001b[0;34m)\u001b[0m\u001b[0;34m\u001b[0m\u001b[0;34m\u001b[0m\u001b[0m\n\u001b[1;32m     36\u001b[0m         \u001b[0moutput\u001b[0m\u001b[0;34m.\u001b[0m\u001b[0mextend\u001b[0m\u001b[0;34m(\u001b[0m\u001b[0mnext_part\u001b[0m\u001b[0;34m)\u001b[0m  \u001b[0;31m# next_part is a list: [token]\u001b[0m\u001b[0;34m\u001b[0m\u001b[0;34m\u001b[0m\u001b[0m\n",
            "\u001b[0;32m<ipython-input-11-d099e8349e6a>\u001b[0m in \u001b[0;36m<listcomp>\u001b[0;34m(.0)\u001b[0m\n\u001b[1;32m     32\u001b[0m         \u001b[0mcontext\u001b[0m \u001b[0;34m=\u001b[0m \u001b[0moutput\u001b[0m\u001b[0;34m[\u001b[0m\u001b[0;34m-\u001b[0m\u001b[0mmax_n\u001b[0m\u001b[0;34m+\u001b[0m\u001b[0;36m1\u001b[0m\u001b[0;34m:\u001b[0m\u001b[0;34m]\u001b[0m \u001b[0;32mif\u001b[0m \u001b[0mmax_n\u001b[0m \u001b[0;34m>\u001b[0m \u001b[0;36m1\u001b[0m \u001b[0;32melse\u001b[0m \u001b[0;34m[\u001b[0m\u001b[0;34m]\u001b[0m\u001b[0;34m\u001b[0m\u001b[0;34m\u001b[0m\u001b[0m\n\u001b[1;32m     33\u001b[0m         token_logprobs = [2**logprob_func(model_counts, tuple(context), token, **lp_kwargs) \n\u001b[0;32m---> 34\u001b[0;31m                           for token in vocab]\n\u001b[0m\u001b[1;32m     35\u001b[0m         \u001b[0mnext_part\u001b[0m \u001b[0;34m=\u001b[0m \u001b[0mrandom\u001b[0m\u001b[0;34m.\u001b[0m\u001b[0mchoices\u001b[0m\u001b[0;34m(\u001b[0m\u001b[0mvocab\u001b[0m\u001b[0;34m,\u001b[0m \u001b[0mtoken_logprobs\u001b[0m\u001b[0;34m)\u001b[0m\u001b[0;34m\u001b[0m\u001b[0;34m\u001b[0m\u001b[0m\n\u001b[1;32m     36\u001b[0m         \u001b[0moutput\u001b[0m\u001b[0;34m.\u001b[0m\u001b[0mextend\u001b[0m\u001b[0;34m(\u001b[0m\u001b[0mnext_part\u001b[0m\u001b[0;34m)\u001b[0m  \u001b[0;31m# next_part is a list: [token]\u001b[0m\u001b[0;34m\u001b[0m\u001b[0;34m\u001b[0m\u001b[0m\n",
            "\u001b[0;32m<ipython-input-9-b0f9a284169f>\u001b[0m in \u001b[0;36mlogprob_abs_discount\u001b[0;34m(counts, context, token, delta)\u001b[0m\n\u001b[1;32m    121\u001b[0m         \u001b[0mlp_lower\u001b[0m \u001b[0;34m=\u001b[0m \u001b[0;34m-\u001b[0m \u001b[0mlog2\u001b[0m\u001b[0;34m(\u001b[0m\u001b[0mV\u001b[0m\u001b[0;34m)\u001b[0m\u001b[0;34m\u001b[0m\u001b[0;34m\u001b[0m\u001b[0m\n\u001b[1;32m    122\u001b[0m     \u001b[0;32melse\u001b[0m\u001b[0;34m:\u001b[0m  \u001b[0;31m# Recursion\u001b[0m\u001b[0;34m\u001b[0m\u001b[0;34m\u001b[0m\u001b[0m\n\u001b[0;32m--> 123\u001b[0;31m         \u001b[0mlp_lower\u001b[0m \u001b[0;34m=\u001b[0m \u001b[0mlogprob_abs_discount\u001b[0m\u001b[0;34m(\u001b[0m\u001b[0mcounts\u001b[0m\u001b[0;34m,\u001b[0m \u001b[0mcontext\u001b[0m\u001b[0;34m[\u001b[0m\u001b[0;36m1\u001b[0m\u001b[0;34m:\u001b[0m\u001b[0;34m]\u001b[0m\u001b[0;34m,\u001b[0m \u001b[0mtoken\u001b[0m\u001b[0;34m)\u001b[0m\u001b[0;34m\u001b[0m\u001b[0;34m\u001b[0m\u001b[0m\n\u001b[0m\u001b[1;32m    124\u001b[0m \u001b[0;34m\u001b[0m\u001b[0m\n\u001b[1;32m    125\u001b[0m     \u001b[0;31m# 4. Putting it all together:\u001b[0m\u001b[0;34m\u001b[0m\u001b[0;34m\u001b[0m\u001b[0;34m\u001b[0m\u001b[0m\n",
            "\u001b[0;32m<ipython-input-9-b0f9a284169f>\u001b[0m in \u001b[0;36mlogprob_abs_discount\u001b[0;34m(counts, context, token, delta)\u001b[0m\n\u001b[1;32m    121\u001b[0m         \u001b[0mlp_lower\u001b[0m \u001b[0;34m=\u001b[0m \u001b[0;34m-\u001b[0m \u001b[0mlog2\u001b[0m\u001b[0;34m(\u001b[0m\u001b[0mV\u001b[0m\u001b[0;34m)\u001b[0m\u001b[0;34m\u001b[0m\u001b[0;34m\u001b[0m\u001b[0m\n\u001b[1;32m    122\u001b[0m     \u001b[0;32melse\u001b[0m\u001b[0;34m:\u001b[0m  \u001b[0;31m# Recursion\u001b[0m\u001b[0;34m\u001b[0m\u001b[0;34m\u001b[0m\u001b[0m\n\u001b[0;32m--> 123\u001b[0;31m         \u001b[0mlp_lower\u001b[0m \u001b[0;34m=\u001b[0m \u001b[0mlogprob_abs_discount\u001b[0m\u001b[0;34m(\u001b[0m\u001b[0mcounts\u001b[0m\u001b[0;34m,\u001b[0m \u001b[0mcontext\u001b[0m\u001b[0;34m[\u001b[0m\u001b[0;36m1\u001b[0m\u001b[0;34m:\u001b[0m\u001b[0;34m]\u001b[0m\u001b[0;34m,\u001b[0m \u001b[0mtoken\u001b[0m\u001b[0;34m)\u001b[0m\u001b[0;34m\u001b[0m\u001b[0;34m\u001b[0m\u001b[0m\n\u001b[0m\u001b[1;32m    124\u001b[0m \u001b[0;34m\u001b[0m\u001b[0m\n\u001b[1;32m    125\u001b[0m     \u001b[0;31m# 4. Putting it all together:\u001b[0m\u001b[0;34m\u001b[0m\u001b[0;34m\u001b[0m\u001b[0;34m\u001b[0m\u001b[0m\n",
            "\u001b[0;31mKeyboardInterrupt\u001b[0m: "
          ]
        }
      ]
    },
    {
      "cell_type": "code",
      "metadata": {
        "id": "iiqFzllo6gD1",
        "outputId": "9ad0b35c-20e2-4260-abbd-640f6877c413"
      },
      "source": [
        "for sentence in text_results:\n",
        "    text = sentence.split()\n",
        "    text[-1] = text[-1][:-1]\n",
        "    print(text)\n",
        "    print('---------------------------------------------------')    \n",
        "    print('Score {}'.format(perplexity([text], wsb_counts, logprob_abs_discount)))\n",
        "    print('===================================================')"
      ],
      "execution_count": null,
      "outputs": [
        {
          "output_type": "stream",
          "text": [
            "['Daddy', 'You', 'fuck', 'around', 'too', 'muc']\n",
            "---------------------------------------------------\n",
            "Score inf\n",
            "===================================================\n",
            "['Dadd']\n",
            "---------------------------------------------------\n",
            "Score inf\n",
            "===================================================\n",
            "['Daddy', 'my', 'upvote']\n",
            "---------------------------------------------------\n",
            "Score inf\n",
            "===================================================\n",
            "['Daddy']\n",
            "---------------------------------------------------\n",
            "Score inf\n",
            "===================================================\n"
          ],
          "name": "stdout"
        }
      ]
    },
    {
      "cell_type": "code",
      "metadata": {
        "id": "OOW0qHgv6gD1",
        "outputId": "2edd0a40-f3b3-4476-8c6d-c80f749834b4"
      },
      "source": [
        "seed_text = ['My', 'wife',]\n",
        "print(\"Sentences from a smoothed model:\")\n",
        "log_interp_weight.caching = True\n",
        "text_results = []\n",
        "for i in tqdm(range(4)):\n",
        "    text_result = detokenize(generate_text(wsb_counts, logprob_abs_discount, seed_text, delta=5.2))\n",
        "    text_results.append(text_result)\n",
        "    print(text_results[i])\n",
        "    \n",
        "log_interp_weight.caching = False"
      ],
      "execution_count": null,
      "outputs": [
        {
          "output_type": "stream",
          "text": [
            "\r  0%|                                                                                            | 0/4 [00:00<?, ?it/s]"
          ],
          "name": "stderr"
        },
        {
          "output_type": "stream",
          "text": [
            "Sentences from a smoothed model:\n"
          ],
          "name": "stdout"
        },
        {
          "output_type": "stream",
          "text": [
            "\r 25%|█████████████████████                                                               | 1/4 [00:21<01:03, 21.14s/it]"
          ],
          "name": "stderr"
        },
        {
          "output_type": "stream",
          "text": [
            "My wife ’ s boyfriend is the <unk> <unk> of the United States has to do.\n"
          ],
          "name": "stdout"
        },
        {
          "output_type": "stream",
          "text": [
            "\r 50%|██████████████████████████████████████████                                          | 2/4 [00:50<00:51, 25.83s/it]"
          ],
          "name": "stderr"
        },
        {
          "output_type": "stream",
          "text": [
            "My wife ’ s boyfriend said if SPY did n't even see any fucking positions or strike prices in here OP BAN\n"
          ],
          "name": "stdout"
        },
        {
          "output_type": "stream",
          "text": [
            "\r 75%|███████████████████████████████████████████████████████████████                     | 3/4 [00:54<00:16, 16.13s/it]"
          ],
          "name": "stderr"
        },
        {
          "output_type": "stream",
          "text": [
            "My wife ’ s boyfriend\n"
          ],
          "name": "stdout"
        },
        {
          "output_type": "stream",
          "text": [
            "100%|████████████████████████████████████████████████████████████████████████████████████| 4/4 [01:03<00:00, 15.82s/it]"
          ],
          "name": "stderr"
        },
        {
          "output_type": "stream",
          "text": [
            "My wife ’ s boyfriend ’ comments.\n"
          ],
          "name": "stdout"
        },
        {
          "output_type": "stream",
          "text": [
            "\n"
          ],
          "name": "stderr"
        }
      ]
    },
    {
      "cell_type": "code",
      "metadata": {
        "id": "1TUxRpDl6gD1",
        "outputId": "07db95dd-a693-432c-b744-eae04ca246db"
      },
      "source": [
        "for sentence in text_results:\n",
        "    text = sentence.split()\n",
        "    text[-1] = text[-1][:-1]\n",
        "    print(text)\n",
        "    print('---------------------------------------------------')    \n",
        "    print('Score {}'.format(perplexity([text], wsb_counts, logprob_abs_discount)))\n",
        "    print('===================================================')"
      ],
      "execution_count": null,
      "outputs": [
        {
          "output_type": "stream",
          "text": [
            "['My', 'wife', '’', 's', 'boyfriend', 'is', 'the', '<unk>', '<unk>', 'of', 'the', 'United', 'States', 'has', 'to', 'do']\n",
            "---------------------------------------------------\n",
            "Score 11.595135423904363\n",
            "===================================================\n",
            "['My', 'wife', '’', 's', 'boyfriend', 'said', 'if', 'SPY', 'did', \"n't\", 'even', 'see', 'any', 'fucking', 'positions', 'or', 'strike', 'prices', 'in', 'here', 'OP', 'BA']\n",
            "---------------------------------------------------\n",
            "Score 15.468115285824581\n",
            "===================================================\n",
            "['My', 'wife', '’', 's', 'boyfrien']\n",
            "---------------------------------------------------\n",
            "Score inf\n",
            "===================================================\n",
            "['My', 'wife', '’', 's', 'boyfriend', '’', 'comments']\n",
            "---------------------------------------------------\n",
            "Score 25.27509886143185\n",
            "===================================================\n"
          ],
          "name": "stdout"
        }
      ]
    },
    {
      "cell_type": "code",
      "metadata": {
        "id": "G9Vyof7_6gD2"
      },
      "source": [
        "seed_text = ['More', 'rocket', 'please',]\n",
        "print(\"Sentences from a smoothed model:\")\n",
        "log_interp_weight.caching = True\n",
        "text_results = []\n",
        "for i in tqdm(range(4)):\n",
        "    text_result = detokenize(generate_text(wsb_counts, logprob_abs_discount, seed_text, delta=5.2))\n",
        "    text_results.append(text_result)\n",
        "    print(text_results[i])\n",
        "    \n",
        "log_interp_weight.caching = False"
      ],
      "execution_count": null,
      "outputs": []
    },
    {
      "cell_type": "code",
      "metadata": {
        "id": "QieFqkVEPzd_"
      },
      "source": [
        "log_interp_weight.caching = True\n",
        "perplexity(wsb_test_filt, wsb_counts, logprob_abs_discount)\n",
        "log_interp_weight.caching = False"
      ],
      "execution_count": null,
      "outputs": []
    }
  ]
}