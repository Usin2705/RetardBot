{
 "cells": [
  {
   "cell_type": "markdown",
   "metadata": {},
   "source": [
    "# The LSTM model shown in the KDnuggets article\n",
    "\n",
    "https://www.kdnuggets.com/2020/07/pytorch-lstm-text-generation-tutorial.html"
   ]
  },
  {
   "cell_type": "code",
   "execution_count": 1,
   "metadata": {},
   "outputs": [],
   "source": [
    "import torch\n",
    "from torch import nn, optim\n",
    "import numpy as np\n",
    "import pandas as pd\n",
    "from collections import Counter\n",
    "from torch.utils.data import DataLoader"
   ]
  },
  {
   "cell_type": "code",
   "execution_count": 2,
   "metadata": {},
   "outputs": [],
   "source": [
    "is_training = True\n",
    "#parameters needed to run the model\n",
    "#these originally needed to be specified from the terminal\n",
    "sequence_length = 4 #Default = 4 \n",
    "batch_size = 256 #Default = 256 Reduce if PC don't have enough RAM\n",
    "max_epochs = 200 #Default = 10\n",
    "device = torch.device('cuda:0')\n",
    "#device = torch.device('cpu')"
   ]
  },
  {
   "cell_type": "markdown",
   "metadata": {},
   "source": [
    "### Notes on the model architecture\n",
    "\n",
    "Based on model from https://www.kdnuggets.com/2020/07/pytorch-lstm-text-generation-tutorial.html\n",
    "\n",
    "The model has three components:\n",
    "1. **Embedding layer:** converts input of size (batch_size, sequence_length) to embedding of size (batch_size, sequence_length, embedding_dim)\n",
    "2. **Stacked LSTM of 3 layers:** accepts embedding and a tuple (previous hidden state, previous cell state) and gives an output of size (batch_size, sequence_length, embedding_dim) and the tuple (current hidden state, current cell state). The hidden state and cell state both have size (num_layers, sequence_length, embedding_dim).\n",
    "3. **Linear layer:** Maps the output of LSTM to logits for each word in vocab. Not a probability yet. Output size is  (batch_size, sequence_length, vocab_size)"
   ]
  },
  {
   "cell_type": "code",
   "execution_count": 3,
   "metadata": {},
   "outputs": [],
   "source": [
    "class Model(nn.Module):\n",
    "    def __init__(self, dataset):\n",
    "        super(Model, self).__init__()\n",
    "        self.lstm_size = 128\n",
    "        self.embedding_dim = 128\n",
    "        self.num_layers = 3 #stack 3 LSTM layers for abstract representation\n",
    "\n",
    "        n_vocab = len(dataset.uniq_words)\n",
    "        self.embedding = nn.Embedding(\n",
    "            num_embeddings=n_vocab,\n",
    "            embedding_dim=self.embedding_dim,\n",
    "        )\n",
    "        self.lstm = nn.LSTM(\n",
    "            input_size=self.lstm_size,\n",
    "            hidden_size=self.lstm_size,\n",
    "            num_layers=self.num_layers,\n",
    "            dropout=0.1,\n",
    "        )\n",
    "        self.fc = nn.Linear(self.lstm_size, n_vocab)\n",
    "\n",
    "    def forward(self, x, prev_state):\n",
    "        embed = self.embedding(x)\n",
    "        output, state = self.lstm(embed, prev_state)\n",
    "        logits = self.fc(output)\n",
    "        return logits, state\n",
    "\n",
    "    def init_state(self, sequence_length):\n",
    "        return (torch.zeros(self.num_layers, sequence_length, self.lstm_size).to(device),\n",
    "                torch.zeros(self.num_layers, sequence_length, self.lstm_size).to(device))"
   ]
  },
  {
   "cell_type": "markdown",
   "metadata": {},
   "source": [
    "### Notes on the custom dataset\n",
    "\n",
    "According to the Pytorch documentation, a custom dataset needs at least the functions \\_\\_len\\_\\_ and \\_\\_getitem\\_\\_. \\_\\_len\\_\\_\\_ allows len(dataset) to return the size of the dataset and  \\_\\_getitem\\_\\_ allows the ith element of the dataset to be fetched with dataset\\[i\\].\n",
    "\n",
    "In this custom dataset, \\_\\_len\\_\\_ and \\_\\_getitem\\_\\_ are designed like this. Let's say the only sentence we have in the dataset is:\n",
    "\n",
    "__*We are using LSTM to create the Retard-bot language model.*__\n",
    "\n",
    "__\\_\\_len\\_\\_:__<br>\n",
    "For this custom dataset it's defined as \"the size of the dataset - sequence length\". This is probably because this model is created to make predictions based the first 4 words (default sequence length) given as prompt, but I can't say for certain. So in the example sentence above, it will return  the length of \"**to create the Retard-bot language model.**\"\n",
    "\n",
    "__\\_\\_getitem\\_\\_:__<br>\n",
    "It seems that this returns a tuple of n-grams with the n defined by sequence length. So if we say dataset\\[0\\] in the simple example, we would get (**We are using LSTM**, **are using LSTM to**). Not sure why it does this."
   ]
  },
  {
   "cell_type": "code",
   "execution_count": 4,
   "metadata": {},
   "outputs": [],
   "source": [
    "class Dataset(torch.utils.data.Dataset):\n",
    "    def __init__(\n",
    "        self,\n",
    "        sequence_length\n",
    "    ):\n",
    "        \"\"\"\n",
    "        words:                 words in entire dataset split by whitespace\n",
    "        uniq_words:       the unique words sorted by frequency (most frequent first)\n",
    "        index_to_word: index to word dict {index0: word0, index1:word1...}, most frequent have smaller index\n",
    "        word_to_index: word to index dict {word0: index0, word1:index1...}, most frequent have smaller index\n",
    "        words_indexes:  the words converted to their indices using word_to_index\n",
    "        \"\"\"\n",
    "        self.sequence_length = sequence_length\n",
    "        self.words = self.load_words()\n",
    "        self.uniq_words = self.get_uniq_words()\n",
    "        self.index_to_word = {index: word for index, word in enumerate(self.uniq_words)}\n",
    "        self.word_to_index = {word: index for index, word in enumerate(self.uniq_words)}\n",
    "        self.words_indexes = [self.word_to_index[w] for w in self.words]\n",
    "        \n",
    "    def load_words(self):\n",
    "        train_df = pd.read_csv('reddit-cleanjokes.csv')\n",
    "        text = train_df['Joke'].str.cat(sep=' ')\n",
    "        return text.split(' ')\n",
    "    \n",
    "    def get_uniq_words(self):\n",
    "        word_counts = Counter(self.words)\n",
    "        return sorted(word_counts, key=word_counts.get, reverse=True) \n",
    "    \n",
    "    def __len__(self):\n",
    "        return len(self.words_indexes) - self.sequence_length\n",
    "    \n",
    "    def __getitem__(self, index):\n",
    "        return (\n",
    "            torch.tensor(self.words_indexes[index:index+self.sequence_length]),\n",
    "            torch.tensor(self.words_indexes[index+1:index+self.sequence_length+1]),\n",
    "        )"
   ]
  },
  {
   "cell_type": "code",
   "execution_count": 5,
   "metadata": {},
   "outputs": [],
   "source": [
    "dataset = Dataset(sequence_length)\n",
    "model = Model(dataset)\n",
    "model = model.to(device)\n",
    "\n",
    "def train(dataset, model):\n",
    "    model.train()\n",
    "    \n",
    "    dataloader = DataLoader(dataset, batch_size=batch_size)\n",
    "    criterion = nn.CrossEntropyLoss()\n",
    "    optimizer = optim.Adam(model.parameters(), lr=0.001)\n",
    "    \n",
    "    for epoch in range(max_epochs):\n",
    "        state_h, state_c = model.init_state(sequence_length)\n",
    "        epoch_loss = 0.0\n",
    "        \n",
    "        for i, batch in enumerate(dataloader):\n",
    "            x, y = batch\n",
    "            x, y = x.to(device), y.to(device)\n",
    "            optimizer.zero_grad()\n",
    "            y_pred, (state_h, state_c) = model(x, (state_h, state_c))\n",
    "            loss = criterion(y_pred.transpose(1, 2), y)\n",
    "            \n",
    "            state_h = state_h.detach()\n",
    "            state_c = state_c.detach()\n",
    "            \n",
    "            loss.backward()\n",
    "            optimizer.step()\n",
    "            epoch_loss += loss.item()\n",
    "        \n",
    "        if ((epoch+1)%10) == 0:\n",
    "            print({ 'epoch': epoch+1, 'loss': epoch_loss/(i+1) })\n",
    "    print({ 'epoch': epoch+1, 'loss': epoch_loss/(i+1) })"
   ]
  },
  {
   "cell_type": "code",
   "execution_count": 6,
   "metadata": {},
   "outputs": [],
   "source": [
    "def predict(dataset, model, text, next_words=100):\n",
    "    model.eval()\n",
    "    \n",
    "    words = text.split(' ')\n",
    "    state_h, state_c = model.init_state(len(words))\n",
    "    \n",
    "    for i in range(0, next_words):\n",
    "        x = torch.tensor([[dataset.word_to_index[w] for w in words[i:]]], device=device)\n",
    "        y_pred, (state_h, state_c) = model(x, (state_h, state_c))\n",
    "        \n",
    "        last_word_logits = y_pred[0][-1]\n",
    "        p = torch.nn.functional.softmax(last_word_logits, dim=0).detach().cpu().numpy()\n",
    "        \n",
    "        word_index = np.random.choice(len(last_word_logits), p=p)\n",
    "        words.append(dataset.index_to_word[word_index])\n",
    "        \n",
    "    return words"
   ]
  },
  {
   "cell_type": "code",
   "execution_count": 7,
   "metadata": {},
   "outputs": [
    {
     "name": "stdout",
     "output_type": "stream",
     "text": [
      "{'epoch': 0, 'loss': 8.037236286246259}\n",
      "{'epoch': 10, 'loss': 6.659230325532996}\n",
      "{'epoch': 20, 'loss': 5.717670254085375}\n",
      "{'epoch': 30, 'loss': 5.1656972325366475}\n",
      "{'epoch': 40, 'loss': 4.61857415282208}\n",
      "{'epoch': 50, 'loss': 4.192252537478572}\n",
      "{'epoch': 60, 'loss': 3.8988133409748906}\n",
      "{'epoch': 70, 'loss': 3.371039603067481}\n",
      "{'epoch': 80, 'loss': 3.2438957224721494}\n",
      "{'epoch': 90, 'loss': 2.7846299617186836}\n",
      "{'epoch': 100, 'loss': 2.473770794661149}\n",
      "{'epoch': 110, 'loss': 2.0925980080728945}\n",
      "{'epoch': 120, 'loss': 1.9693893842075183}\n",
      "{'epoch': 130, 'loss': 1.8112949780795886}\n",
      "{'epoch': 140, 'loss': 1.469342291355133}\n",
      "{'epoch': 150, 'loss': 1.1740045949168827}\n",
      "{'epoch': 160, 'loss': 1.0335961437743644}\n",
      "{'epoch': 170, 'loss': 0.8354895438836969}\n",
      "{'epoch': 180, 'loss': 0.7099623252516207}\n",
      "{'epoch': 190, 'loss': 0.6042536691479061}\n",
      "{'epoch': 199, 'loss': 0.503647515307302}\n"
     ]
    }
   ],
   "source": [
    "if is_training:\n",
    "    train(dataset, model)\n",
    "    file_name = 'kdnuggests' + str(max_epochs)\n",
    "    torch.save(model.state_dict(), file_name)\n",
    "else:\n",
    "    model.load_state_dict(torch.load(file_name, map_location=lambda storage, loc: storage))\n",
    "    model.to(device)"
   ]
  },
  {
   "cell_type": "code",
   "execution_count": 8,
   "metadata": {},
   "outputs": [
    {
     "name": "stdout",
     "output_type": "stream",
     "text": [
      "['Knock', 'knock.', 'Whos', 'there?', '\"Yep,', 'say', 'say', 'to', 'the', 'jumper', 'cables?', 'You', 'better', 'not', 'try', 'to', 'start', 'anything.', 'As', 'did', 'the', 'butcher', 'did', 'no', 'draw', 'did', 'Captain', 'alligator', 'call', 'a', 'most', 'peach?', 'after', 'not', 'hitting', 'his', 'pointed', 'and', 'rhymes', 'in', 'Italian.', 'Lost.', 'All', 'these', 'guys', 'says', 'not', 'not', 'some', 'episodes.', 'What', 'does', 'a', 'little', 'trees', 'that', 'steal', 'looking', 'ate', 'his', 'bike', 'In', 'in', 'a', 'byte', 'of', 'UN-B-REATHABLE!', 'I', 'was', 'stand', 'her', 'tie', 'an', 'field.', 'We', 'that', 'tell', 'are', 'made', 'for', 'leaving', 'me', 'It', 'has', 'leaving', 'their', 'rights.', 'They', 'was', 'going', 'to', 'make', 'me', 'that', 'for', 'gum', 'This', 'life', 'like', 'a', 'invisible', 'asked', 'as', 'getting']\n"
     ]
    }
   ],
   "source": [
    "print(predict(dataset, model, text='Knock knock. Whos there?'))"
   ]
  },
  {
   "cell_type": "code",
   "execution_count": 9,
   "metadata": {},
   "outputs": [
    {
     "name": "stdout",
     "output_type": "stream",
     "text": [
      "['What', 'did', 'the', 'bartender', 'say', 'to', 'the', 'jumper', 'cables?', 'You', 'better', 'not', 'try', 'to', 'start', 'anything.', \"Don't\", 'you', 'hate', 'jokes', 'about', 'German', 'sausage?', 'But', 'by', 'sick', 'what', 'Do', 'you', 'get', 'their', 'empty', 'This', 'by', 'front', 'is', 'my', 'high', 'knotsies!', 'suspect', 'from', 'three', 'you\"?', 'up,', 'these', 'wooden', 'tsst', 'What', 'is', 'a', 'wife', 'Do', 'you', \"don't\", 'run', 'in', 'your', 'leg?', 'Knight', \"What's\", 'a', 'chef', 'who', 'Will', 'both', 'eight.', 'Why', 'did', 'the', 'bee', 'wear', 'his', 'gun', 'to', 'a', 'supermarket', 'The', 'tube', 'In', 'to', 'each', 'driving', 'Old', 'told', 'my', 'sick', 'walks', 'if', 'to', 'the', 'red', 'The', 'boy', 'help', 'in', 'can', 'out,', 'Trump', 'Where', 'many', 'hipsters', 'to', 'hear']\n"
     ]
    }
   ],
   "source": [
    "print(predict(dataset, model, text='What did the'))"
   ]
  },
  {
   "cell_type": "code",
   "execution_count": 12,
   "metadata": {},
   "outputs": [
    {
     "name": "stdout",
     "output_type": "stream",
     "text": [
      "['Why', 'did', 'the', 'chicken', 'cross', 'the', 'road', '[', 'Masahiro', 'papa', 'abroad', 'a', 'music', 'charge', 'says', 'like', 'to', 'her', 'son', 'the', 'feel', 'You', 'tells', 'to', 'good', 'out', 'to', 'go', 'what', 'many', 'greatest', 'throat', 'I', 'AM', 'everybody', 'before', 'a', 'statue?', \"It's\", 'ended', 'departure', 'I', 'would', 'affect', 'a', 'big', 'dressing', '\"Hey,', 'my', 'C.', 'An', 'morning', 'later,', 'the', 'rabbit', 'First', 'balloon', '-', 'but', 'has', 'the', 'same', 'page.\"', \"Don't\", 'least', 'that', 'say,', 'sun', 'possible', 'there', 'anyone', 'see', 'who', 'if', 'afterwards', 'Tim', \"roommate's\", 'Why', 'did', 'the', 'best', 'leave', 'a', 'moment', 'is', 'a', 'Siberian', 'husky', 'It', 'they', 'had', 'a', 'hot', 'nostrils?', '\"Hey,', \"they're\", 'the', 'fresh', 'prints.', '*THUD*', 'Cause', 'are', 'falls', 'this', 'sheep', 'every', 'fueled']\n"
     ]
    }
   ],
   "source": [
    "print(predict(dataset, model, text='Why did the chicken cross the road'))"
   ]
  }
 ],
 "metadata": {
  "kernelspec": {
   "display_name": "Python 3",
   "language": "python",
   "name": "python3"
  },
  "language_info": {
   "codemirror_mode": {
    "name": "ipython",
    "version": 3
   },
   "file_extension": ".py",
   "mimetype": "text/x-python",
   "name": "python",
   "nbconvert_exporter": "python",
   "pygments_lexer": "ipython3",
   "version": "3.7.9"
  }
 },
 "nbformat": 4,
 "nbformat_minor": 4
}
