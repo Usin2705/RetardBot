{
 "cells": [
  {
   "cell_type": "markdown",
   "metadata": {},
   "source": [
    "# The LSTM model shown in the KDnuggets article\n",
    "\n",
    "https://www.kdnuggets.com/2020/07/pytorch-lstm-text-generation-tutorial.html"
   ]
  },
  {
   "cell_type": "code",
   "execution_count": 13,
   "metadata": {},
   "outputs": [],
   "source": [
    "import torch\n",
    "from torch import nn, optim\n",
    "import numpy as np\n",
    "import pandas as pd\n",
    "from collections import Counter\n",
    "from torch.utils.data import DataLoader"
   ]
  },
  {
   "cell_type": "code",
   "execution_count": 14,
   "metadata": {},
   "outputs": [],
   "source": [
    "is_training = False\n",
    "#parameters needed to run the model\n",
    "#these originally needed to be specified from the terminal\n",
    "sequence_length = 4 #Default = 4 \n",
    "batch_size = 256 #Default = 256 Reduce if PC don't have enough RAM\n",
    "max_epochs = 400 #Default = 10\n",
    "device = torch.device('cuda:0')\n",
    "#device = torch.device('cpu')"
   ]
  },
  {
   "cell_type": "markdown",
   "metadata": {},
   "source": [
    "### Notes on the model architecture\n",
    "\n",
    "Based on model from https://www.kdnuggets.com/2020/07/pytorch-lstm-text-generation-tutorial.html\n",
    "\n",
    "The model has three components:\n",
    "1. **Embedding layer:** converts input of size (batch_size, sequence_length) to embedding of size (batch_size, sequence_length, embedding_dim)\n",
    "2. **Stacked LSTM of 3 layers:** accepts embedding and a tuple (previous hidden state, previous cell state) and gives an output of size (batch_size, sequence_length, embedding_dim) and the tuple (current hidden state, current cell state). The hidden state and cell state both have size (num_layers, sequence_length, embedding_dim).\n",
    "3. **Linear layer:** Maps the output of LSTM to logits for each word in vocab. Not a probability yet. Output size is  (batch_size, sequence_length, vocab_size)"
   ]
  },
  {
   "cell_type": "code",
   "execution_count": 15,
   "metadata": {},
   "outputs": [],
   "source": [
    "class Model(nn.Module):\n",
    "    def __init__(self, dataset):\n",
    "        super(Model, self).__init__()\n",
    "        self.lstm_size = 128\n",
    "        self.embedding_dim = 128\n",
    "        self.num_layers = 3 #stack 3 LSTM layers for abstract representation\n",
    "\n",
    "        n_vocab = len(dataset.uniq_words)\n",
    "        self.embedding = nn.Embedding(\n",
    "            num_embeddings=n_vocab,\n",
    "            embedding_dim=self.embedding_dim,\n",
    "        )\n",
    "        self.lstm = nn.LSTM(\n",
    "            input_size=self.lstm_size,\n",
    "            hidden_size=self.lstm_size,\n",
    "            num_layers=self.num_layers,\n",
    "            dropout=0.1,\n",
    "        )\n",
    "        self.fc = nn.Linear(self.lstm_size, n_vocab)\n",
    "\n",
    "    def forward(self, x, prev_state):\n",
    "        embed = self.embedding(x)\n",
    "        output, state = self.lstm(embed, prev_state)\n",
    "        logits = self.fc(output)\n",
    "        return logits, state\n",
    "\n",
    "    def init_state(self, sequence_length):\n",
    "        return (torch.zeros(self.num_layers, sequence_length, self.lstm_size).to(device),\n",
    "                torch.zeros(self.num_layers, sequence_length, self.lstm_size).to(device))"
   ]
  },
  {
   "cell_type": "markdown",
   "metadata": {},
   "source": [
    "### Notes on the custom dataset\n",
    "\n",
    "According to the Pytorch documentation, a custom dataset needs at least the functions \\_\\_len\\_\\_ and \\_\\_getitem\\_\\_. \\_\\_len\\_\\_\\_ allows len(dataset) to return the size of the dataset and  \\_\\_getitem\\_\\_ allows the ith element of the dataset to be fetched with dataset\\[i\\].\n",
    "\n",
    "In this custom dataset, \\_\\_len\\_\\_ and \\_\\_getitem\\_\\_ are designed like this. Let's say the only sentence we have in the dataset is:\n",
    "\n",
    "__*We are using LSTM to create the Retard-bot language model.*__\n",
    "\n",
    "__\\_\\_len\\_\\_:__<br>\n",
    "For this custom dataset it's defined as \"the size of the dataset - sequence length\". This is probably because this model is created to make predictions based the first 4 words (default sequence length) given as prompt, but I can't say for certain. So in the example sentence above, it will return  the length of \"**to create the Retard-bot language model.**\"\n",
    "\n",
    "__\\_\\_getitem\\_\\_:__<br>\n",
    "It seems that this returns a tuple of n-grams with the n defined by sequence length. So if we say dataset\\[0\\] in the simple example, we would get (**We are using LSTM**, **are using LSTM to**). Not sure why it does this."
   ]
  },
  {
   "cell_type": "code",
   "execution_count": 16,
   "metadata": {},
   "outputs": [],
   "source": [
    "class Dataset(torch.utils.data.Dataset):\n",
    "    def __init__(\n",
    "        self,\n",
    "        sequence_length\n",
    "    ):\n",
    "        \"\"\"\n",
    "        words:                 words in entire dataset split by whitespace\n",
    "        uniq_words:       the unique words sorted by frequency (most frequent first)\n",
    "        index_to_word: index to word dict {index0: word0, index1:word1...}, most frequent have smaller index\n",
    "        word_to_index: word to index dict {word0: index0, word1:index1...}, most frequent have smaller index\n",
    "        words_indexes:  the words converted to their indices using word_to_index\n",
    "        \"\"\"\n",
    "        self.sequence_length = sequence_length\n",
    "        self.words = self.load_words()\n",
    "        self.uniq_words = self.get_uniq_words()\n",
    "        self.index_to_word = {index: word for index, word in enumerate(self.uniq_words)}\n",
    "        self.word_to_index = {word: index for index, word in enumerate(self.uniq_words)}\n",
    "        self.words_indexes = [self.word_to_index[w] for w in self.words]\n",
    "        \n",
    "    def load_words(self):\n",
    "        train_df = pd.read_csv('reddit-cleanjokes.csv')\n",
    "        text = train_df['Joke'].str.cat(sep=' ')\n",
    "        return text.split(' ')\n",
    "    \n",
    "    def get_uniq_words(self):\n",
    "        word_counts = Counter(self.words)\n",
    "        return sorted(word_counts, key=word_counts.get, reverse=True) \n",
    "    \n",
    "    def __len__(self):\n",
    "        return len(self.words_indexes) - self.sequence_length\n",
    "    \n",
    "    def __getitem__(self, index):\n",
    "        return (\n",
    "            torch.tensor(self.words_indexes[index:index+self.sequence_length]),\n",
    "            torch.tensor(self.words_indexes[index+1:index+self.sequence_length+1]),\n",
    "        )"
   ]
  },
  {
   "cell_type": "code",
   "execution_count": 17,
   "metadata": {},
   "outputs": [],
   "source": [
    "dataset = Dataset(sequence_length)\n",
    "model = Model(dataset)\n",
    "model = model.to(device)\n",
    "\n",
    "def train(dataset, model):\n",
    "    model.train()\n",
    "    \n",
    "    dataloader = DataLoader(dataset, batch_size=batch_size, shuffle = True) # NEED TO SHUFFLE AND RERUN\n",
    "    criterion = nn.CrossEntropyLoss()\n",
    "    optimizer = optim.Adam(model.parameters(), lr=0.001)\n",
    "    \n",
    "    for epoch in range(max_epochs):\n",
    "        state_h, state_c = model.init_state(sequence_length)\n",
    "        epoch_loss = 0.0\n",
    "        \n",
    "        for i, batch in enumerate(dataloader):\n",
    "            x, y = batch\n",
    "            x, y = x.to(device), y.to(device)\n",
    "            optimizer.zero_grad()\n",
    "            y_pred, (state_h, state_c) = model(x, (state_h, state_c))\n",
    "            loss = criterion(y_pred.transpose(1, 2), y)\n",
    "            \n",
    "            state_h = state_h.detach()\n",
    "            state_c = state_c.detach()\n",
    "            \n",
    "            loss.backward()\n",
    "            optimizer.step()\n",
    "            epoch_loss += loss.item()\n",
    "        \n",
    "        if ((epoch+1)%10) == 0:\n",
    "            print({ 'epoch': epoch+1, 'loss': epoch_loss/(i+1) })\n",
    "    print({ 'epoch': epoch+1, 'loss': epoch_loss/(i+1) })"
   ]
  },
  {
   "cell_type": "code",
   "execution_count": 18,
   "metadata": {},
   "outputs": [],
   "source": [
    "def predict(dataset, model, text, next_words=100):\n",
    "    model.eval()\n",
    "    \n",
    "    words = text.split(' ')\n",
    "    state_h, state_c = model.init_state(len(words))\n",
    "    \n",
    "    for i in range(0, next_words):\n",
    "        x = torch.tensor([[dataset.word_to_index[w] for w in words[i:]]], device=device)\n",
    "        y_pred, (state_h, state_c) = model(x, (state_h, state_c))\n",
    "        \n",
    "        last_word_logits = y_pred[0][-1]\n",
    "        p = torch.nn.functional.softmax(last_word_logits, dim=0).detach().cpu().numpy()\n",
    "        \n",
    "        word_index = np.random.choice(len(last_word_logits), p=p)\n",
    "        words.append(dataset.index_to_word[word_index])\n",
    "        \n",
    "    return words"
   ]
  },
  {
   "cell_type": "code",
   "execution_count": 19,
   "metadata": {},
   "outputs": [
    {
     "name": "stdout",
     "output_type": "stream",
     "text": [
      "{'epoch': 10, 'loss': 6.195232523248551}\n",
      "{'epoch': 20, 'loss': 5.223994280429596}\n",
      "{'epoch': 30, 'loss': 4.50238367090834}\n",
      "{'epoch': 40, 'loss': 3.9088037825645285}\n",
      "{'epoch': 50, 'loss': 3.300746189787033}\n",
      "{'epoch': 60, 'loss': 2.790144108711405}\n",
      "{'epoch': 70, 'loss': 2.3659794127687497}\n",
      "{'epoch': 80, 'loss': 1.9345681578555005}\n",
      "{'epoch': 90, 'loss': 1.6538201545147186}\n",
      "{'epoch': 100, 'loss': 1.3773037404456037}\n",
      "{'epoch': 110, 'loss': 1.095457470163386}\n",
      "{'epoch': 120, 'loss': 0.912247175865985}\n",
      "{'epoch': 130, 'loss': 0.7396798495282518}\n",
      "{'epoch': 140, 'loss': 0.5959996913975858}\n",
      "{'epoch': 150, 'loss': 0.4891324458604163}\n",
      "{'epoch': 160, 'loss': 0.4043774885383058}\n",
      "{'epoch': 170, 'loss': 0.33141733705997467}\n",
      "{'epoch': 180, 'loss': 0.263129656619214}\n",
      "{'epoch': 190, 'loss': 0.21829561389824179}\n",
      "{'epoch': 200, 'loss': 0.17672634774700124}\n",
      "{'epoch': 210, 'loss': 0.14731967904941834}\n",
      "{'epoch': 220, 'loss': 0.12312525348301898}\n",
      "{'epoch': 230, 'loss': 0.10497785030685841}\n",
      "{'epoch': 240, 'loss': 0.08649923105506187}\n",
      "{'epoch': 250, 'loss': 0.07739372981434807}\n",
      "{'epoch': 260, 'loss': 0.06641474219554282}\n",
      "{'epoch': 270, 'loss': 0.054725309397946016}\n",
      "{'epoch': 280, 'loss': 0.053486595911152186}\n",
      "{'epoch': 290, 'loss': 0.04797690573762706}\n",
      "{'epoch': 300, 'loss': 0.04799666598518478}\n",
      "{'epoch': 310, 'loss': 0.03764819518286497}\n",
      "{'epoch': 320, 'loss': 0.0324947872456718}\n",
      "{'epoch': 330, 'loss': 0.03293853815882764}\n",
      "{'epoch': 340, 'loss': 0.030886578690656957}\n",
      "{'epoch': 350, 'loss': 0.028267360886836304}\n",
      "{'epoch': 360, 'loss': 0.029180697214968028}\n",
      "{'epoch': 370, 'loss': 0.02052408456306984}\n",
      "{'epoch': 380, 'loss': 0.020924572481159517}\n",
      "{'epoch': 390, 'loss': 0.028273647289445744}\n",
      "{'epoch': 400, 'loss': 0.020213584742568274}\n",
      "{'epoch': 400, 'loss': 0.020213584742568274}\n"
     ]
    }
   ],
   "source": [
    "if is_training:\n",
    "    train(dataset, model)\n",
    "    file_name = 'kdnuggests' + str(max_epochs)\n",
    "    torch.save(model.state_dict(), file_name)\n",
    "else:\n",
    "    model.load_state_dict(torch.load(file_name, map_location=lambda storage, loc: storage))\n",
    "    model.to(device)"
   ]
  },
  {
   "cell_type": "code",
   "execution_count": 20,
   "metadata": {},
   "outputs": [
    {
     "name": "stdout",
     "output_type": "stream",
     "text": [
      "['Knock', 'knock.', 'Whos', 'there?', 'hearing!', 'diving', 'bartender', 'say', 'to', 'the', 'jumper', 'cables?', 'You', 'better', 'not', 'try', 'to', 'start', 'anything.', \"Don't\", 'you', 'hate', 'jokes', 'about', 'German', 'sausage?', \"They're\", 'the', 'wurst!', 'Two', 'artists', 'had', 'an', 'art', 'contest...', 'It', 'ended', 'in', 'a', 'draw', 'Why', 'did', 'the', 'chicken', 'cross', 'the', 'playground?', 'To', 'get', 'to', 'the', 'other', 'slide.', 'What', 'gun', 'do', 'you', 'use', 'to', 'hunt', 'a', 'moose?', 'A', 'moosecut!', 'If', 'life', 'gives', 'you', 'melons,', 'you', 'might', 'have', 'dyslexia.', 'Broken', 'pencils...', '...are', 'pointless.', 'What', 'did', 'one', 'snowman', 'say', 'to', 'the', 'other', 'snowman?', \"'Do\", 'you', 'smell', \"carrots?'\", 'How', 'many', 'hipsters', 'does', 'it', 'take', 'to', 'change', 'a', 'lightbulb?', \"It's\", 'a', 'really', 'obscure']\n"
     ]
    }
   ],
   "source": [
    "print(predict(dataset, model, text='Knock knock. Whos there?'))"
   ]
  },
  {
   "cell_type": "code",
   "execution_count": 21,
   "metadata": {},
   "outputs": [
    {
     "name": "stdout",
     "output_type": "stream",
     "text": [
      "['What', 'did', 'the', 'bartender', 'say', 'to', 'the', 'jumper', 'cables?', 'You', 'better', 'not', 'try', 'to', 'start', 'anything.', \"Don't\", 'you', 'hate', 'jokes', 'about', 'German', 'sausage?', \"They're\", 'the', 'wurst!', 'Two', 'artists', 'had', 'an', 'art', 'contest...', 'It', 'ended', 'in', 'a', 'draw', 'Why', 'did', 'the', 'chicken', 'cross', 'the', 'playground?', 'To', 'get', 'to', 'the', 'other', 'slide.', 'What', 'gun', 'do', 'you', 'use', 'to', 'hunt', 'a', 'moose?', 'A', 'moosecut!', 'If', 'life', 'gives', 'you', 'melons,', 'you', 'might', 'have', 'dyslexia.', 'Broken', 'pencils...', '...are', 'pointless.', 'What', 'did', 'one', 'snowman', 'say', 'to', 'the', 'other', 'snowman?', \"'Do\", 'you', 'smell', \"carrots?'\", 'How', 'many', 'hipsters', 'does', 'it', 'take', 'to', 'change', 'a', 'lightbulb?', \"It's\", 'a', 'really', 'obscure', 'number.', \"You've\"]\n"
     ]
    }
   ],
   "source": [
    "print(predict(dataset, model, text='What did the'))"
   ]
  },
  {
   "cell_type": "code",
   "execution_count": 22,
   "metadata": {},
   "outputs": [
    {
     "name": "stdout",
     "output_type": "stream",
     "text": [
      "['Why', 'did', 'the', 'chicken', 'cross', 'the', 'road', 'week...', 'favorite', 'Italian', 'asks', 'what', 'always', 'God', 'through', 'brown', 'two', 'year', 'first', 'job', 'wheels', 'that', 'work.', 'Why', 'do', 'galaxies', 'have', 'old', 'poker', 'Because', \"they're\", 'look', 'before', \"that'd\", 'episodes.', \"What's\", 'Sam', \"Smith's\", 'favorite', 'kind', 'with', 'paper.', 'What', 'do', 'you', 'call', 'a', 'pig', 'that', 'does', 'karate?', '*A', 'pork', 'chop.*', 'What', 'was', 'the', 'car', 'doing', 'in', 'the', 'dressing', 'room?', 'Changing', 'attire.', 'What', 'do', 'you', 'call', 'a', 'pile', 'of', 'dogs?', 'A', 'ruff', 'terrain.', 'How', 'do', 'you', 'prepare', 'for', 'a', 'party', 'in', 'space?', 'You', 'Planet', 'Thanks', 'u/BostonCentrist', 'What', 'do', 'you', 'get', 'when', 'you', 'cross', 'an', 'octopus', 'with', 'a', 'cow?', 'A', 'stern', 'rebuke', 'from', 'the', 'Ethics']\n"
     ]
    }
   ],
   "source": [
    "print(predict(dataset, model, text='Why did the chicken cross the road'))"
   ]
  }
 ],
 "metadata": {
  "kernelspec": {
   "display_name": "Python 3",
   "language": "python",
   "name": "python3"
  },
  "language_info": {
   "codemirror_mode": {
    "name": "ipython",
    "version": 3
   },
   "file_extension": ".py",
   "mimetype": "text/x-python",
   "name": "python",
   "nbconvert_exporter": "python",
   "pygments_lexer": "ipython3",
   "version": "3.7.9"
  }
 },
 "nbformat": 4,
 "nbformat_minor": 4
}
