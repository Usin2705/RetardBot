{
  "nbformat": 4,
  "nbformat_minor": 0,
  "metadata": {
    "kernelspec": {
      "display_name": "Python 3",
      "language": "python",
      "name": "python3"
    },
    "language_info": {
      "codemirror_mode": {
        "name": "ipython",
        "version": 3
      },
      "file_extension": ".py",
      "mimetype": "text/x-python",
      "name": "python",
      "nbconvert_exporter": "python",
      "pygments_lexer": "ipython3",
      "version": "3.8.3"
    },
    "colab": {
      "name": "LSTM_kdn_preprocess.ipynb",
      "provenance": [],
      "collapsed_sections": [],
      "toc_visible": true
    }
  },
  "cells": [
    {
      "cell_type": "markdown",
      "metadata": {
        "id": "HwMoK7If86mX"
      },
      "source": [
        "# The LSTM model shown in the KDnuggets article\n",
        "\n",
        "https://www.kdnuggets.com/2020/07/pytorch-lstm-text-generation-tutorial.html"
      ]
    },
    {
      "cell_type": "code",
      "metadata": {
        "id": "aldZUwUz86mZ"
      },
      "source": [
        "import torch\n",
        "from torch import nn, optim\n",
        "import numpy as np\n",
        "import pandas as pd\n",
        "from collections import Counter\n",
        "from torch.utils.data import DataLoader\n",
        "import re, string\n",
        "from nltk.tokenize import WordPunctTokenizer"
      ],
      "execution_count": 146,
      "outputs": []
    },
    {
      "cell_type": "code",
      "metadata": {
        "colab": {
          "base_uri": "https://localhost:8080/"
        },
        "id": "ZNi2QLnC-Kuf",
        "outputId": "6db5e470-6fa9-4413-c927-2150d1ee767c"
      },
      "source": [
        "# this is to connect this notebook to the contents of your Google Drive\n",
        "# files uploaded to Google Drive will not be deleted by inactivity,\n",
        "# but it does require an authorization code every time you use it\n",
        "from google.colab import drive\n",
        "drive.mount(r'/content/drive')"
      ],
      "execution_count": 147,
      "outputs": [
        {
          "output_type": "stream",
          "text": [
            "Drive already mounted at /content/drive; to attempt to forcibly remount, call drive.mount(\"/content/drive\", force_remount=True).\n"
          ],
          "name": "stdout"
        }
      ]
    },
    {
      "cell_type": "code",
      "metadata": {
        "id": "3LnKyN44_25w"
      },
      "source": [
        "# this is Ryoko's Google Drive filepath\n",
        "# please specify your own, or we can (probably) share a folder for it\n",
        "filepath = r'/content/drive/My Drive/RetardBot/'"
      ],
      "execution_count": 148,
      "outputs": []
    },
    {
      "cell_type": "code",
      "metadata": {
        "id": "pTRefLnj86mb"
      },
      "source": [
        "is_training = True\n",
        "\n",
        "#this is for saving/loading the model from the checkpoint when colab crashes\n",
        "load_model  =True\n",
        "load_file = \"kdn_temp2\" #file name if I'm going to load the model\n",
        "tmp_name = \"kdn_temp2\" #temporary file I want to create checkpoint in\n",
        "\n",
        "#the device switch\n",
        "#device = torch.device('cuda:0')\n",
        "device = torch.device('cpu')\n",
        "\n",
        "#parameters needed to run the model\n",
        "#these originally needed to be specified from the terminal\n",
        "sequence_length = 4 #Default = 4 \n",
        "batch_size = 128 #Default = 256 Reduce if PC don't have enough RAM\n",
        "max_epochs = 400 #Default = 10"
      ],
      "execution_count": 149,
      "outputs": []
    },
    {
      "cell_type": "markdown",
      "metadata": {
        "id": "eWp9TaJV86mb"
      },
      "source": [
        "### Notes on the model architecture\n",
        "\n",
        "Based on model from https://www.kdnuggets.com/2020/07/pytorch-lstm-text-generation-tutorial.html\n",
        "\n",
        "The model has three components:\n",
        "1. **Embedding layer:** converts input of size (batch_size, sequence_length) to embedding of size (batch_size, sequence_length, embedding_dim)\n",
        "2. **Stacked LSTM of 3 layers:** accepts embedding and a tuple (previous hidden state, previous cell state) and gives an output of size (batch_size, sequence_length, embedding_dim) and the tuple (current hidden state, current cell state). The hidden state and cell state both have size (num_layers, sequence_length, embedding_dim).\n",
        "3. **Linear layer:** Maps the output of LSTM to logits for each word in vocab. Not a probability yet. Output size is  (batch_size, sequence_length, vocab_size)"
      ]
    },
    {
      "cell_type": "code",
      "metadata": {
        "id": "ipp87kCB86mc"
      },
      "source": [
        "class Model(nn.Module):\n",
        "    def __init__(self, dataset):\n",
        "        super(Model, self).__init__()\n",
        "        self.lstm_size = 128\n",
        "        self.embedding_dim = 128\n",
        "        self.num_layers = 3 #stack 3 LSTM layers for abstract representation\n",
        "\n",
        "        n_vocab = len(dataset.uniq_words)\n",
        "        self.embedding = nn.Embedding(\n",
        "            num_embeddings=n_vocab,\n",
        "            embedding_dim=self.embedding_dim,\n",
        "        )\n",
        "        self.lstm = nn.LSTM(\n",
        "            input_size=self.lstm_size,\n",
        "            hidden_size=self.lstm_size,\n",
        "            num_layers=self.num_layers,\n",
        "            dropout=0.1,\n",
        "        )\n",
        "        self.fc = nn.Linear(self.lstm_size, n_vocab)\n",
        "\n",
        "    def forward(self, x, prev_state):\n",
        "        embed = self.embedding(x)\n",
        "        output, state = self.lstm(embed, prev_state)\n",
        "        logits = self.fc(output)\n",
        "        return logits, state\n",
        "\n",
        "    def init_state(self, sequence_length):\n",
        "        return (torch.zeros(self.num_layers, sequence_length, self.lstm_size).to(device),\n",
        "                torch.zeros(self.num_layers, sequence_length, self.lstm_size).to(device))"
      ],
      "execution_count": 150,
      "outputs": []
    },
    {
      "cell_type": "markdown",
      "metadata": {
        "id": "jorh-klW86md"
      },
      "source": [
        "### Notes on the custom dataset\n",
        "\n",
        "According to the Pytorch documentation, a custom dataset needs at least the functions \\_\\_len\\_\\_ and \\_\\_getitem\\_\\_. \\_\\_len\\_\\_\\_ allows len(dataset) to return the size of the dataset and  \\_\\_getitem\\_\\_ allows the ith element of the dataset to be fetched with dataset\\[i\\].\n",
        "\n",
        "In this custom dataset, \\_\\_len\\_\\_ and \\_\\_getitem\\_\\_ are designed like this. Let's say the only sentence we have in the dataset is:\n",
        "\n",
        "__*We are using LSTM to create the Retard-bot language model.*__\n",
        "\n",
        "__\\_\\_len\\_\\_:__<br>\n",
        "For this custom dataset it's defined as \"the size of the dataset - sequence length\". This is probably because this model is created to make predictions based the first 4 words (default sequence length) given as prompt, but I can't say for certain. So in the example sentence above, it will return  the length of \"**to create the Retard-bot language model.**\"\n",
        "\n",
        "__\\_\\_getitem\\_\\_:__<br>\n",
        "It seems that this returns a tuple of n-grams with the n defined by sequence length. So if we say dataset\\[0\\] in the simple example, we would get (**We are using LSTM**, **are using LSTM to**). Not sure why it does this."
      ]
    },
    {
      "cell_type": "code",
      "metadata": {
        "id": "tjLxQzLJLc-p"
      },
      "source": [
        "def preprocess(filename, clip=1):\n",
        "  f = open(filename, \"r\")\n",
        "  text = f.read()\n",
        "  \n",
        "\n",
        "  text = text.split(' ')\n",
        "  text = [word for word in text if not '\\\\' in r\"%r\" %word] #remove the words containing backslashes (formerly emojis or sth?)\n",
        "  text = [word.lower() for word in text] \n",
        "  text =  [WordPunctTokenizer().tokenize(word) for word in text] #using nltk to separate punctuation from words\n",
        "  text = [item for sublist in text for item in sublist]\n",
        "\n",
        "  #if passed, clip shortens the text to 1/clip of the original\n",
        "  clip_idx = round(len(text) / clip)\n",
        "  text = text[:clip_idx]\n",
        "  \n",
        "  return text"
      ],
      "execution_count": 151,
      "outputs": []
    },
    {
      "cell_type": "code",
      "metadata": {
        "id": "EYCe9N3N86me"
      },
      "source": [
        "class Dataset(torch.utils.data.Dataset):\n",
        "    def __init__(\n",
        "        self,\n",
        "        sequence_length\n",
        "    ):\n",
        "        \"\"\"\n",
        "        words:                 words in entire dataset split by whitespace\n",
        "        uniq_words:       the unique words sorted by frequency (most frequent first)\n",
        "        index_to_word: index to word dict {index0: word0, index1:word1...}, most frequent have smaller index\n",
        "        word_to_index: word to index dict {word0: index0, word1:index1...}, most frequent have smaller index\n",
        "        words_indexes:  the words converted to their indices using word_to_index\n",
        "        \"\"\"\n",
        "        self.sequence_length = sequence_length\n",
        "        self.words = self.load_words()\n",
        "        self.uniq_words = self.get_uniq_words()\n",
        "        self.index_to_word = {index: word for index, word in enumerate(self.uniq_words)}\n",
        "        self.word_to_index = {word: index for index, word in enumerate(self.uniq_words)}\n",
        "        self.words_indexes = [self.word_to_index[w] for w in self.words]\n",
        "        \n",
        "    def load_words(self):\n",
        "        #train_df = pd.read_csv('reddit-cleanjokes.csv') #original reddit-jokes dataset\n",
        "        #text = train_df['Joke'].str.cat(sep=' ')\n",
        "        return preprocess(filepath+\"data.txt\", clip=15)\n",
        "    \n",
        "    def get_uniq_words(self):\n",
        "        word_counts = Counter(self.words)\n",
        "        return sorted(word_counts, key=word_counts.get, reverse=True) \n",
        "    \n",
        "    def __len__(self):\n",
        "        return len(self.words_indexes) - self.sequence_length\n",
        "    \n",
        "    def __getitem__(self, index):\n",
        "        return (\n",
        "            torch.tensor(self.words_indexes[index:index+self.sequence_length]),\n",
        "            torch.tensor(self.words_indexes[index+1:index+self.sequence_length+1]),\n",
        "        )"
      ],
      "execution_count": 152,
      "outputs": []
    },
    {
      "cell_type": "code",
      "metadata": {
        "id": "anb85jBK86mf"
      },
      "source": [
        "dataset = Dataset(sequence_length)\n",
        "model = Model(dataset)\n",
        "model = model.to(device)\n",
        "tmp_name = \"kdn_temp2\"\n",
        "\n",
        "def train(dataset, model):\n",
        "    model.train()\n",
        "\n",
        "    dataloader = DataLoader(dataset, batch_size=batch_size, shuffle = True) # NEED TO SHUFFLE AND RERUN\n",
        "    criterion = nn.CrossEntropyLoss()\n",
        "    optimizer = optim.Adam(model.parameters(), lr=0.001)\n",
        "\n",
        "    if load_model == True:\n",
        "      checkpoint = torch.load(filepath+load_file)\n",
        "      model.load_state_dict(checkpoint['model_state_dict'])\n",
        "      optimizer.load_state_dict(checkpoint['optimizer_state_dict'])\n",
        "      last_epoch = checkpoint['epoch']\n",
        "    else:\n",
        "      last_epoch = 0\n",
        "    \n",
        "    for epoch in range(last_epoch, max_epochs):\n",
        "      epoch_loss = 0.0\n",
        "      state_h, state_c = model.init_state(sequence_length)\n",
        "      \n",
        "      for i, batch in enumerate(dataloader):\n",
        "          x, y = batch\n",
        "          x, y = x.to(device), y.to(device)\n",
        "          optimizer.zero_grad()\n",
        "          y_pred, (state_h, state_c) = model(x, (state_h, state_c))\n",
        "          loss = criterion(y_pred.transpose(1, 2), y)\n",
        "          \n",
        "          state_h = state_h.detach()\n",
        "          state_c = state_c.detach()\n",
        "          \n",
        "          loss.backward()\n",
        "          optimizer.step()\n",
        "          epoch_loss += loss.item()\n",
        "\n",
        "          if (i +1)% 100 ==0:\n",
        "            print({ 'epoch': epoch+1, \"batch\": i+1, 'loss': epoch_loss/(i+1) })\n",
        "\n",
        "      print({ 'epoch': epoch+1, 'loss': epoch_loss/(i+1) })\n",
        "\n",
        "      # this is needed for work in Colab because once the time limit is up,\n",
        "      # it will automatically delete all files that are not saved in Google Drive      \n",
        "      print(\"saving model\")\n",
        "      torch.save({\n",
        "            'epoch': epoch,\n",
        "            'model_state_dict': model.state_dict(),\n",
        "            'optimizer_state_dict': optimizer.state_dict(),\n",
        "            }, filepath + tmp_name)\n",
        "      \n",
        "      "
      ],
      "execution_count": 153,
      "outputs": []
    },
    {
      "cell_type": "code",
      "metadata": {
        "id": "TiIa1Hw786mg"
      },
      "source": [
        "def predict(dataset, model, text, next_words=100):\n",
        "    model.eval()\n",
        "    \n",
        "    words = text.split(' ')\n",
        "    state_h, state_c = model.init_state(len(words))\n",
        "    \n",
        "    for i in range(0, next_words):\n",
        "        x = torch.tensor([[dataset.word_to_index[w] for w in words[i:]]], device=device)\n",
        "        y_pred, (state_h, state_c) = model(x, (state_h, state_c))\n",
        "        \n",
        "        last_word_logits = y_pred[0][-1]\n",
        "        p = torch.nn.functional.softmax(last_word_logits, dim=0).detach().cpu().numpy()\n",
        "        p /= p.sum() #this is to avoid an error numpy gives about probability not summing to 1\n",
        "        \n",
        "        word_index = np.random.choice(len(last_word_logits), p=p)\n",
        "        words.append(dataset.index_to_word[word_index])\n",
        "        \n",
        "    return words"
      ],
      "execution_count": 154,
      "outputs": []
    },
    {
      "cell_type": "code",
      "metadata": {
        "id": "DxKHjChc86mg",
        "colab": {
          "base_uri": "https://localhost:8080/"
        },
        "outputId": "0c3991e5-25ae-4478-f20c-9560315f49f2"
      },
      "source": [
        "if is_training:\n",
        "    train(dataset, model)\n",
        "    #file_name = 'kdnuggets' + str(max_epochs)\n",
        "    file_name = 'kdnuggets_preprocess_15th_' + str(max_epochs)\n",
        "    torch.save(model.state_dict(), filepath+file_name)\n",
        "else:\n",
        "    #model.load_state_dict(torch.load(file_name, map_location=lambda storage, loc: storage))\n",
        "    model.load_state_dict(torch.load(filepath + 'kdnuggets_temp',map_location=torch.device('cpu')))\n",
        "    model.to(device)"
      ],
      "execution_count": null,
      "outputs": [
        {
          "output_type": "stream",
          "text": [
            "{'epoch': 3, 'batch': 100, 'loss': 5.402510561943054}\n",
            "{'epoch': 3, 'batch': 200, 'loss': 5.396849105358124}\n",
            "{'epoch': 3, 'batch': 300, 'loss': 5.3980763689676925}\n",
            "{'epoch': 3, 'batch': 400, 'loss': 5.396874856948853}\n",
            "{'epoch': 3, 'batch': 500, 'loss': 5.392347880363465}\n",
            "{'epoch': 3, 'batch': 600, 'loss': 5.38844191789627}\n",
            "{'epoch': 3, 'batch': 700, 'loss': 5.3860726247515}\n",
            "{'epoch': 3, 'batch': 800, 'loss': 5.386935188174248}\n",
            "{'epoch': 3, 'batch': 900, 'loss': 5.386474985016717}\n",
            "{'epoch': 3, 'batch': 1000, 'loss': 5.384631402969361}\n",
            "{'epoch': 3, 'batch': 1100, 'loss': 5.384362463084134}\n",
            "{'epoch': 3, 'batch': 1200, 'loss': 5.386132750113805}\n",
            "{'epoch': 3, 'batch': 1300, 'loss': 5.3859821147185105}\n",
            "{'epoch': 3, 'batch': 1400, 'loss': 5.383771500928061}\n",
            "{'epoch': 3, 'batch': 1500, 'loss': 5.384816726048787}\n",
            "{'epoch': 3, 'batch': 1600, 'loss': 5.385111441016197}\n",
            "{'epoch': 3, 'batch': 1700, 'loss': 5.384798745267531}\n",
            "{'epoch': 3, 'batch': 1800, 'loss': 5.38448821120792}\n",
            "{'epoch': 3, 'batch': 1900, 'loss': 5.383864510435807}\n",
            "{'epoch': 3, 'batch': 2000, 'loss': 5.3832195484638214}\n",
            "{'epoch': 3, 'batch': 2100, 'loss': 5.382340088344756}\n",
            "{'epoch': 3, 'batch': 2200, 'loss': 5.382311690720645}\n",
            "{'epoch': 3, 'batch': 2300, 'loss': 5.380663321951161}\n",
            "{'epoch': 3, 'batch': 2400, 'loss': 5.3793405139446255}\n",
            "{'epoch': 3, 'batch': 2500, 'loss': 5.377658873367309}\n",
            "{'epoch': 3, 'batch': 2600, 'loss': 5.376494560425098}\n",
            "{'epoch': 3, 'batch': 2700, 'loss': 5.3754021476816245}\n",
            "{'epoch': 3, 'batch': 2800, 'loss': 5.374864245482853}\n",
            "{'epoch': 3, 'batch': 2900, 'loss': 5.373195057408563}\n",
            "{'epoch': 3, 'batch': 3000, 'loss': 5.372149688243866}\n",
            "{'epoch': 3, 'batch': 3100, 'loss': 5.371226766494012}\n",
            "{'epoch': 3, 'batch': 3200, 'loss': 5.370045269280672}\n",
            "{'epoch': 3, 'batch': 3300, 'loss': 5.369263856194236}\n",
            "{'epoch': 3, 'batch': 3400, 'loss': 5.368123965543859}\n",
            "{'epoch': 3, 'batch': 3500, 'loss': 5.3672896065030775}\n",
            "{'epoch': 3, 'batch': 3600, 'loss': 5.366364549663332}\n",
            "{'epoch': 3, 'batch': 3700, 'loss': 5.365136288565559}\n",
            "{'epoch': 3, 'batch': 3800, 'loss': 5.3638597879911725}\n",
            "{'epoch': 3, 'batch': 3900, 'loss': 5.362406743856576}\n",
            "{'epoch': 3, 'batch': 4000, 'loss': 5.361329814076424}\n",
            "{'epoch': 3, 'loss': 5.360863192207426}\n",
            "saving model\n",
            "{'epoch': 4, 'batch': 100, 'loss': 5.281160020828247}\n",
            "{'epoch': 4, 'batch': 200, 'loss': 5.280060756206512}\n",
            "{'epoch': 4, 'batch': 300, 'loss': 5.2778992780049645}\n",
            "{'epoch': 4, 'batch': 400, 'loss': 5.279784016609192}\n",
            "{'epoch': 4, 'batch': 500, 'loss': 5.278455719947815}\n",
            "{'epoch': 4, 'batch': 600, 'loss': 5.27688312848409}\n",
            "{'epoch': 4, 'batch': 700, 'loss': 5.276528596878052}\n",
            "{'epoch': 4, 'batch': 800, 'loss': 5.2755951064825055}\n",
            "{'epoch': 4, 'batch': 900, 'loss': 5.275851651297676}\n",
            "{'epoch': 4, 'batch': 1000, 'loss': 5.276391654014588}\n",
            "{'epoch': 4, 'batch': 1100, 'loss': 5.277603213136846}\n",
            "{'epoch': 4, 'batch': 1200, 'loss': 5.277609906196594}\n",
            "{'epoch': 4, 'batch': 1300, 'loss': 5.2777566300905665}\n",
            "{'epoch': 4, 'batch': 1400, 'loss': 5.275916227613177}\n",
            "{'epoch': 4, 'batch': 1500, 'loss': 5.276828756650289}\n",
            "{'epoch': 4, 'batch': 1600, 'loss': 5.275762499272823}\n",
            "{'epoch': 4, 'batch': 1700, 'loss': 5.274092169368968}\n"
          ],
          "name": "stdout"
        }
      ]
    },
    {
      "cell_type": "code",
      "metadata": {
        "id": "J9HnXR8l86mh",
        "colab": {
          "base_uri": "https://localhost:8080/"
        },
        "outputId": "593cc09a-f2ba-409d-89cc-53602a5cd693"
      },
      "source": [
        "print(predict(dataset, model, text='what'))"
      ],
      "execution_count": 15,
      "outputs": [
        {
          "output_type": "stream",
          "text": [
            "['what', '70', 'price', 'is', 'buying', 'of', 'economic', 'effects', 'here', 'for', 'the', 'npl', 'volume', 'for', 'up', 'was', 'pricing', 'in', 'the', 'big', ',', 'peter', 'feddo', ',', '2019', 'expected', ',', 'while', 'the', 'top', 'president', 'and', 'rent', 'in', 'lieu', 'of', 'the', 'company', \"'\", 'll', 'be', 'met', 'the', 'company', \"'\", 'm', 'looking', 'at', 'approximately', '4', ':', 'abuse', 'and', 'mental', 'region', 'mooning', 'in', 'place', 'again', 'you', 'make', 'holding', '45', '-', 'work', ';', 'estimates', 'in', 'the', 'musk', 'came', 'to', 'make', 'the', 'botox', 'to', 'reflect', 'good', 'signal', ',', 'other', 'people', 'with', 'her', 'accounts', 'and', 'just', 'really', 'stumble', 'significantly', 'on', 'wednesday', ',', 'the', 'resected', 'lung', 'about', 'the', 'world', 'will', 'be']\n"
          ],
          "name": "stdout"
        }
      ]
    },
    {
      "cell_type": "code",
      "metadata": {
        "id": "f_CadDaE86mi",
        "colab": {
          "base_uri": "https://localhost:8080/"
        },
        "outputId": "5b192265-fce7-4970-a365-134c1326146f"
      },
      "source": [
        "print(predict(dataset, model, text='invest in'))"
      ],
      "execution_count": 16,
      "outputs": [
        {
          "output_type": "stream",
          "text": [
            "['invest', 'in', 'wework', 'got', 'auto', 'manufacturers', 'losing', 'their', 'excess', ',', 'but', '...', 'just', 'like', 'major', 'domestic', 'stimulus', 'is', 'still', 'starting', 'out', 'the', 'cost', '-', 'a', 'out', 'these', 'garbage', 'stocks', 'usually', 'gets', 'circuit', 'breakers', ',', 'all', 'mods', 'can', \"'\", 's', 'consciousness', 'old', 'broker', 'to', 'divest', 'missouri', 'and', 'market', ',', 'which', 'i', 'am', 'going', 'into', 'this', 'year', 'periods', 'of', 'the', 'stock', 'has', 'averaged', 'the', 'fed', 'is', 'traveling', 'by', 'the', 'foot', ',', 'country', ',', 'as', 'extensions', 'of', 'came', 'up', '2', '%', 'from', 'the', 'french', 'king', ',', 'its', 'sss', '188', '.', '**', 'uncertainty', 'hopefully', 'on', 'my', 'taxes', 'on', '&', 'amp', ';', 'q', '=', 'day', 'moving', 'average']\n"
          ],
          "name": "stdout"
        }
      ]
    },
    {
      "cell_type": "code",
      "metadata": {
        "id": "VzY6rWiN86mi",
        "colab": {
          "base_uri": "https://localhost:8080/"
        },
        "outputId": "5e3d7db1-55cd-41e3-c8ea-d0ee936d535d"
      },
      "source": [
        "print(predict(dataset, model, text='deal'))"
      ],
      "execution_count": null,
      "outputs": [
        {
          "output_type": "stream",
          "text": [
            "['deal', 'for', 'the', 'mainstream', '-', 'duty', 'or', 'office', '](', 'https', '://', 'imgur', '.', '4', '%', '|', 'lows', 'is', 'in', 'our', 'power', 'are', 'paying', 'for', 'good', 'for', 'the', 'rising', 'relatively', '8', '.', '98', 'shares', ',', 'they', 'expect', '-', '0', '.', 'org', '/', '8', '.', 'change', 'activity', 'for', '$', '2', '.', 'bullish', '25', ')', 'from', 'february', 'the', 'you', 'would', 'be', 'road', 'discuss', 'for', '$', '500', ',', 'seems', 'to', 'get', 'too', 'be', 'close', '|', '+', '0', '.', 'reddit', '.', '1tn', 'their', 'own', 'technical', 'point', 'to', '10', '.', '2', ')', 'is', 'no', 'new', 'zealand', \"'\", 're', 'about', 'both', 'parties', 'and', 'decide', 'from', 'u', '.', '00']\n"
          ],
          "name": "stdout"
        }
      ]
    },
    {
      "cell_type": "code",
      "metadata": {
        "id": "l7DR_AjAf1jR"
      },
      "source": [
        ""
      ],
      "execution_count": null,
      "outputs": []
    }
  ]
}